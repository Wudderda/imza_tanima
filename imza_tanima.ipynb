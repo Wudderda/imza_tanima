{
  "nbformat": 4,
  "nbformat_minor": 0,
  "metadata": {
    "colab": {
      "name": "imza_tanima.ipynb",
      "provenance": [],
      "collapsed_sections": [],
      "include_colab_link": true
    },
    "kernelspec": {
      "name": "python3",
      "display_name": "Python 3"
    },
    "accelerator": "GPU"
  },
  "cells": [
    {
      "cell_type": "markdown",
      "metadata": {
        "id": "view-in-github",
        "colab_type": "text"
      },
      "source": [
        "<a href=\"https://colab.research.google.com/github/Wudderda/imza_tanima/blob/main/imza_tanima.ipynb\" target=\"_parent\"><img src=\"https://colab.research.google.com/assets/colab-badge.svg\" alt=\"Open In Colab\"/></a>"
      ]
    },
    {
      "cell_type": "code",
      "metadata": {
        "colab": {
          "base_uri": "https://localhost:8080/"
        },
        "id": "sY0YpuoIIWKp",
        "outputId": "d0017223-2763-4226-a1be-c6e64c69b0e7"
      },
      "source": [
        "!apt-get install -y -qq software-properties-common python-software-properties module-init-tools\r\n",
        "!add-apt-repository -y ppa:alessandro-strada/ppa 2>&1 > /dev/null\r\n",
        "!apt-get update -qq 2>&1 > /dev/null\r\n",
        "!apt-get -y install -qq google-drive-ocamlfuse fuse\r\n",
        "from google.colab import auth\r\n",
        "auth.authenticate_user()\r\n",
        "from oauth2client.client import GoogleCredentials\r\n",
        "creds = GoogleCredentials.get_application_default()\r\n",
        "import getpass\r\n",
        "!google-drive-ocamlfuse -headless -id={creds.client_id} -secret={creds.client_secret} < /dev/null 2>&1 | grep URL\r\n",
        "vcode = getpass.getpass()\r\n",
        "!echo {vcode} | google-drive-ocamlfuse -headless -id={creds.client_id} -secret={creds.client_secret}"
      ],
      "execution_count": null,
      "outputs": [
        {
          "output_type": "stream",
          "text": [
            "E: Package 'python-software-properties' has no installation candidate\n",
            "Selecting previously unselected package google-drive-ocamlfuse.\n",
            "(Reading database ... 160975 files and directories currently installed.)\n",
            "Preparing to unpack .../google-drive-ocamlfuse_0.7.24-0ubuntu1~ubuntu18.04.1_amd64.deb ...\n",
            "Unpacking google-drive-ocamlfuse (0.7.24-0ubuntu1~ubuntu18.04.1) ...\n",
            "Setting up google-drive-ocamlfuse (0.7.24-0ubuntu1~ubuntu18.04.1) ...\n",
            "Processing triggers for man-db (2.8.3-2ubuntu0.1) ...\n"
          ],
          "name": "stdout"
        }
      ]
    },
    {
      "cell_type": "code",
      "metadata": {
        "id": "foSrZzF3zwD4",
        "colab": {
          "base_uri": "https://localhost:8080/"
        },
        "outputId": "7eb68a02-8b89-436b-ca44-552231f5945e"
      },
      "source": [
        "from google.colab import drive\n",
        "drive.mount('/content/drive/')"
      ],
      "execution_count": null,
      "outputs": [
        {
          "output_type": "stream",
          "text": [
            "Mounted at /content/drive/\n"
          ],
          "name": "stdout"
        }
      ]
    },
    {
      "cell_type": "code",
      "metadata": {
        "id": "I6UtpnAZ1I_N"
      },
      "source": [
        "import os\n",
        "os.chdir('drive/My Drive/')"
      ],
      "execution_count": null,
      "outputs": []
    },
    {
      "cell_type": "code",
      "metadata": {
        "id": "nI0wZX-Z1Lsg",
        "colab": {
          "base_uri": "https://localhost:8080/"
        },
        "outputId": "909dc0f5-b077-4203-b004-cb85ed4a6a2f"
      },
      "source": [
        "!ls -l"
      ],
      "execution_count": null,
      "outputs": [
        {
          "output_type": "stream",
          "text": [
            "total 653527\n",
            "-rw------- 1 root root  48423515 Oct 13 14:51 '191802092_muhammed_yıldız (1).rar'\n",
            "-rw------- 1 root root  41313615 Jul 19 21:55 '191802092 Muhammed YILDIZ EE-324 Haberleşme Sistemleri Laboratuvarı-2 Deney Raporları  (1).pdf'\n",
            "-rw------- 1 root root  41313615 Jul 19 21:50 '191802092 Muhammed YILDIZ EE-324 Haberleşme Sistemleri Laboratuvarı-2 Deney Raporları  (2).pdf'\n",
            "-rw------- 1 root root  41313615 Jul 20 07:19 '191802092 Muhammed YILDIZ EE-324 Haberleşme Sistemleri Laboratuvarı-2 Deney Raporları .pdf'\n",
            "-rw------- 1 root root  47413512 Nov 22 13:03  191802092_muhammed_yıldız.rar\n",
            "drwx------ 2 root root      4096 Jun  8  2020 '191802092 Muhammed YILDIZ - Sayısal Analiz - Final Ödevi exe dosyaları'\n",
            "-rw------- 1 root root 448448867 Jan 12 20:37 '191802092 Muhammed YILDIZ Sunum Ödevi.mkv'\n",
            "-rw------- 1 root root       151 Nov  8  2019  2019-2020-guz-yariyili-elektrik-elektronik-muhendisligi-ara-sinav-programi.gsheet\n",
            "drwx------ 2 root root      4096 Jan  8 15:50  amk\n",
            "drwx------ 2 root root      4096 Aug 11 08:58 'Anyfile Notepad Files'\n",
            "drwx------ 2 root root      4096 Dec 12 20:57 'Colab Notebooks'\n",
            "-rw------- 1 root root      7633 Jan  9 12:12  imgtonpz.ipynb\n",
            "drwx------ 2 root root      4096 Dec 29 16:05  imza\n",
            "drwx------ 2 root root      4096 Jan  1 11:05  İmza-96\n",
            "-rw------- 1 root root     59622 Jan 15 20:51  muhammed_yildiz_tez.ipynb\n",
            "-rw------- 1 root root    378372 Jan  9 12:24  spyderdaki-model.ipynb\n",
            "-rw------- 1 root root    500928 Sep  7 12:23 'Staj Raporu - makif.doc'\n",
            "-rw------- 1 root root       151 Sep 29 14:30 'Staj Raporu - makif.gdoc'\n",
            "-rw------- 1 root root      5315 Aug 11 08:48  unknown\n",
            "-rw------- 1 root root      4469 Jan 10 00:51  Untitled0.ipynb\n"
          ],
          "name": "stdout"
        }
      ]
    },
    {
      "cell_type": "markdown",
      "metadata": {
        "id": "cj7JiG6p4MYP"
      },
      "source": [
        "**Checking use whether or not GPU**"
      ]
    },
    {
      "cell_type": "code",
      "metadata": {
        "id": "AUkd1L294L28",
        "colab": {
          "base_uri": "https://localhost:8080/"
        },
        "outputId": "e3a36007-3e45-4c58-ad30-fd77cd700fd5"
      },
      "source": [
        "import tensorflow as tf\n",
        "print(str(tf.test.gpu_device_name()) + \"\\n\")"
      ],
      "execution_count": null,
      "outputs": [
        {
          "output_type": "stream",
          "text": [
            "/device:GPU:0\n",
            "\n"
          ],
          "name": "stdout"
        }
      ]
    },
    {
      "cell_type": "markdown",
      "metadata": {
        "id": "m3tihINj1Pyu"
      },
      "source": [
        "**Changing directory to Signatures datasets loacation **"
      ]
    },
    {
      "cell_type": "code",
      "metadata": {
        "id": "h7mSzjHM1NBL"
      },
      "source": [
        "os.chdir('İmza-96/')"
      ],
      "execution_count": null,
      "outputs": []
    },
    {
      "cell_type": "code",
      "metadata": {
        "id": "ITGZICaw7eUp",
        "colab": {
          "base_uri": "https://localhost:8080/"
        },
        "outputId": "eab82e18-f647-4fdf-bd45-3f275b1bb6b4"
      },
      "source": [
        "!ls -l"
      ],
      "execution_count": null,
      "outputs": [
        {
          "output_type": "stream",
          "text": [
            "total 782009\n",
            "-rw------- 1 root root      2500 Nov 26  2018 11-26-2018-SadeceDogruImza-Acc\n",
            "-rw------- 1 root root  97958392 Nov 26  2018 11-26-2018-SadeceDogruImza-Agirliklar.h5\n",
            "-rw------- 1 root root      2500 Nov 26  2018 11-26-2018-SadeceDogruImza-Loss\n",
            "-rw------- 1 root root 109400440 Dec 11  2018 500_model_weights.h5\n",
            "-rw------- 1 root root      2500 Nov 25  2018 Amodel_100E_class_val_acc\n",
            "-rw------- 1 root root      2500 Nov 25  2018 Amodel_100E_class_val_loss\n",
            "-rw------- 1 root root 109123576 Nov 25  2018 Amodel_100E.h5\n",
            "-rw------- 1 root root      2500 Nov 25  2018 Amodel_100E_model_val_loss\n",
            "-rw------- 1 root root      2500 Nov 25  2018 Amodel_100E_user_val_acc\n",
            "-rw------- 1 root root      2500 Nov 25  2018 Amodel_100E_user_val_loss\n",
            "-rw------- 1 root root   8480768 Nov 25  2018 class_features_train_test.h5\n",
            "-rw------- 1 root root  27788624 Nov 25  2018 first_model_89-88.h5\n",
            "-rw------- 1 root root   6312116 Nov 18  2018 Genuine96.npz\n",
            "-rw------- 1 root root  61567180 Nov 24  2018 Genuine.npz\n",
            "-rw------- 1 root root     86136 Nov 24  2018 labels_class_a.txt\n",
            "-rw------- 1 root root     41904 Nov 22  2018 labels_class.txt\n",
            "-rw------- 1 root root    171810 Nov 24  2018 labels_names_a.txt\n",
            "-rw------- 1 root root     80730 Nov 22  2018 labels_names.txt\n",
            "-rw------- 1 root root     80730 Nov 18  2018 labels.txt\n",
            "-rw------- 1 root root      2500 Nov 23  2018 model_100E_class_val_acc\n",
            "-rw------- 1 root root      2500 Nov 23  2018 model_100E_class_val_loss\n",
            "-rw------- 1 root root 109123928 Nov 23  2018 model_100E.h5\n",
            "-rw------- 1 root root      2500 Nov 23  2018 model_100E_model_val_loss\n",
            "-rw------- 1 root root      2500 Nov 23  2018 model_100E_user_val_acc\n",
            "-rw------- 1 root root      2500 Nov 23  2018 model_100E_user_val_loss\n",
            "-rw------- 1 root root      2500 Nov 25  2018 model2_100E_class_val_acc\n",
            "-rw------- 1 root root      2500 Nov 25  2018 model2_100E_class_val_loss\n",
            "-rw------- 1 root root 109399312 Nov 27  2018 model2_100E.h5\n",
            "-rw------- 1 root root      2500 Nov 25  2018 model2_100E_user_val_acc\n",
            "-rw------- 1 root root      2500 Nov 25  2018 model2_100E_user_val_loss\n",
            "-rw------- 1 root root      2500 Nov 25  2018 model2_model_val_loss\n",
            "-rw------- 1 root root  15015936 Nov 26  2018 model_ilk_part.h5\n",
            "-rw------- 1 root root    646180 Nov 18  2018 OppositeHand96.npz\n",
            "-rw------- 1 root root   6738579 Nov 24  2018 OppositeHand.npz\n",
            "-rw------- 1 root root   7715225 Nov 18  2018 Simple96.npz\n",
            "-rw------- 1 root root  28520157 Nov 24  2018 Simple.npz\n",
            "-rw------- 1 root root   1346755 Nov 18  2018 Skilled96.npz\n",
            "-rw------- 1 root root  12712533 Nov 24  2018 Skilled.npz\n",
            "-rw------- 1 root root      2500 Nov 25  2018 Son-VGG16_model_val_acc\n",
            "-rw------- 1 root root      2500 Nov 25  2018 Son-VGG16_model_val_loss\n",
            "-rw------- 1 root root      2500 Nov 25  2018 Spyder_model_val_classOut_acc\n",
            "-rw------- 1 root root      2500 Nov 25  2018 Spyder_model_val_classOut_loss\n",
            "-rw------- 1 root root      2500 Nov 25  2018 Spyder_model_val_userOut_acc\n",
            "-rw------- 1 root root      2500 Nov 25  2018 Spyder_model_val_userOut_loss\n",
            "-rw------- 1 root root       522 Jan  8 16:06 test_96.npz\n",
            "-rw------- 1 root root   8480768 Nov 25  2018 user_features_train_test.h5\n",
            "-rw------- 1 root root     40227 Jan 10 00:51 VGG_16.ipynb\n",
            "-rw------- 1 root root  16038576 Dec  1  2018 X_test.npz\n",
            "-rw------- 1 root root  63671011 Dec  1  2018 X_train.npz\n",
            "-rw------- 1 root root    106074 Nov 25  2018 yeni_label.txt\n",
            "-rw------- 1 root root      2500 Nov 25  2018 yeni_label_VGG16_artirilmis_model_val_acc\n",
            "-rw------- 1 root root      2500 Nov 25  2018 yeni_label_VGG16_artirilmis_model_val_loss\n",
            "-rw------- 1 root root      2500 Nov 25  2018 yeni_label_VGG16_model_val_acc\n",
            "-rw------- 1 root root      2500 Nov 25  2018 yeni_label_VGG16_model_val_loss\n",
            "-rw------- 1 root root      8672 Dec  1  2018 y_test_class.npz\n",
            "-rw------- 1 root root      2052 Dec  1  2018 y_test_names.npz\n",
            "-rw------- 1 root root     33832 Dec  1  2018 y_train_class.npz\n",
            "-rw------- 1 root root      7454 Dec  1  2018 y_train_names.npz\n"
          ],
          "name": "stdout"
        }
      ]
    },
    {
      "cell_type": "markdown",
      "metadata": {
        "id": "wQzVqQEo37OJ"
      },
      "source": [
        "**İmporting Libraries**"
      ]
    },
    {
      "cell_type": "code",
      "metadata": {
        "id": "LhnMLN5Z36sm"
      },
      "source": [
        "import numpy as np\n",
        "from keras.layers import Conv2D,Input,MaxPooling2D,Flatten,Dense,Dropout,BatchNormalization,Activation\n",
        "from keras.models import Model\n",
        "import keras as K\n",
        "from keras.optimizers import SGD,Adam"
      ],
      "execution_count": null,
      "outputs": []
    },
    {
      "cell_type": "markdown",
      "metadata": {
        "id": "x8jfkfpS15HP"
      },
      "source": [
        "**Preparing to datasets**"
      ]
    },
    {
      "cell_type": "code",
      "metadata": {
        "id": "wLC7MnnUBIiX"
      },
      "source": [
        "genuine = np.load('Genuine96.npz')\n",
        "genuine = genuine['arr_0']"
      ],
      "execution_count": null,
      "outputs": []
    },
    {
      "cell_type": "code",
      "metadata": {
        "id": "tzWLayq9BIid"
      },
      "source": [
        "opposite = np.load('OppositeHand96.npz')\n",
        "opposite = opposite['arr_0']"
      ],
      "execution_count": null,
      "outputs": []
    },
    {
      "cell_type": "code",
      "metadata": {
        "id": "TuwGjreGBIii"
      },
      "source": [
        "simple = np.load('Simple96.npz')\n",
        "simple = simple['arr_0']"
      ],
      "execution_count": null,
      "outputs": []
    },
    {
      "cell_type": "code",
      "metadata": {
        "id": "q95d4wztBIil"
      },
      "source": [
        "skilled = np.load('Skilled96.npz')\n",
        "skilled = skilled['arr_0']"
      ],
      "execution_count": null,
      "outputs": []
    },
    {
      "cell_type": "code",
      "metadata": {
        "id": "WOvmUbPoBIio"
      },
      "source": [
        "data = np.concatenate((genuine,opposite,simple,skilled),axis=0)"
      ],
      "execution_count": null,
      "outputs": []
    },
    {
      "cell_type": "code",
      "metadata": {
        "id": "HPibd0RMBIir"
      },
      "source": [
        "data = data.reshape((data.shape[0],96,96,3))\n"
      ],
      "execution_count": null,
      "outputs": []
    },
    {
      "cell_type": "code",
      "metadata": {
        "id": "Qaa08XZpBIix",
        "colab": {
          "base_uri": "https://localhost:8080/"
        },
        "outputId": "ed513bd3-e1f5-42db-c6ab-15eddc777baf"
      },
      "source": [
        "data.shape"
      ],
      "execution_count": null,
      "outputs": [
        {
          "output_type": "execute_result",
          "data": {
            "text/plain": [
              "(8280, 96, 96, 3)"
            ]
          },
          "metadata": {
            "tags": []
          },
          "execution_count": 14
        }
      ]
    },
    {
      "cell_type": "code",
      "metadata": {
        "id": "QXuFA6ecBIi2"
      },
      "source": [
        "labels_class = np.loadtxt('labels_class.txt',delimiter=',',usecols=0,dtype=int)\n",
        "labels_names = np.loadtxt('labels_names.txt',delimiter=',',usecols=0,dtype=str)"
      ],
      "execution_count": null,
      "outputs": []
    },
    {
      "cell_type": "code",
      "metadata": {
        "id": "ctjkzWFRBIi5",
        "colab": {
          "base_uri": "https://localhost:8080/"
        },
        "outputId": "7e00d8a1-df5f-4566-ff50-c36334d84453"
      },
      "source": [
        "labels_class = np.expand_dims(labels_class, axis=1)\n",
        "labels_names = np.expand_dims(labels_names, axis=1)\n",
        "\n",
        "from sklearn.preprocessing import LabelEncoder\n",
        "encoder = LabelEncoder()\n",
        "labels_names = encoder.fit_transform(labels_names)\n",
        "\n",
        "labels_names = np.expand_dims(labels_names, axis=1)"
      ],
      "execution_count": null,
      "outputs": [
        {
          "output_type": "stream",
          "text": [
            "/usr/local/lib/python3.6/dist-packages/sklearn/preprocessing/_label.py:251: DataConversionWarning: A column-vector y was passed when a 1d array was expected. Please change the shape of y to (n_samples, ), for example using ravel().\n",
            "  y = column_or_1d(y, warn=True)\n"
          ],
          "name": "stderr"
        }
      ]
    },
    {
      "cell_type": "code",
      "metadata": {
        "id": "0XF_5BDOBIi-",
        "colab": {
          "base_uri": "https://localhost:8080/"
        },
        "outputId": "535a65ce-b0c2-4a5b-db72-06113c7c782e"
      },
      "source": [
        "print(labels_class.shape)\n",
        "\n",
        "print(labels_names.shape)"
      ],
      "execution_count": null,
      "outputs": [
        {
          "output_type": "stream",
          "text": [
            "(8280, 1)\n",
            "(8280, 1)\n"
          ],
          "name": "stdout"
        }
      ]
    },
    {
      "cell_type": "code",
      "metadata": {
        "id": "jY7F9hlGBIjF",
        "colab": {
          "base_uri": "https://localhost:8080/"
        },
        "outputId": "48513b61-ebaf-4208-cd99-de0e615986db"
      },
      "source": [
        "from sklearn.preprocessing import MultiLabelBinarizer\n",
        "mlb = MultiLabelBinarizer()\n",
        "labels_bn_names = mlb.fit_transform(labels_names)\n",
        "print(labels_bn_names.shape)\n"
      ],
      "execution_count": null,
      "outputs": [
        {
          "output_type": "stream",
          "text": [
            "(8280, 4)\n"
          ],
          "name": "stdout"
        }
      ]
    },
    {
      "cell_type": "code",
      "metadata": {
        "id": "dGi85AHZ-Uv5"
      },
      "source": [
        "from keras.utils import to_categorical\n",
        "labels_class_categorical = to_categorical(labels_class, num_classes = 116)"
      ],
      "execution_count": null,
      "outputs": []
    },
    {
      "cell_type": "code",
      "metadata": {
        "id": "nG3qjnYJ3R5k"
      },
      "source": [
        "from sklearn.model_selection import train_test_split\n",
        "X_train, X_test, y_train_names, y_test_names = train_test_split(data,labels_bn_names,test_size=0.2,random_state=42)"
      ],
      "execution_count": null,
      "outputs": []
    },
    {
      "cell_type": "code",
      "metadata": {
        "id": "KO8SEjt99I-m"
      },
      "source": [
        "X_train, X_test, y_train_class, y_test_class = train_test_split(data,labels_class_categorical,test_size=0.2,random_state=42)"
      ],
      "execution_count": null,
      "outputs": []
    },
    {
      "cell_type": "code",
      "metadata": {
        "id": "D42ltaAComrd",
        "colab": {
          "base_uri": "https://localhost:8080/"
        },
        "outputId": "c1dd06a5-9a36-499d-81ed-02676ad69844"
      },
      "source": [
        "# DENEMEYE OZEL\n",
        "from sklearn.model_selection import train_test_split\n",
        "yeni_label = np.loadtxt('yeni_label.txt',delimiter=',',usecols=0,dtype=str)\n",
        "from sklearn.preprocessing import LabelEncoder\n",
        "encoder = LabelEncoder()\n",
        "yeni_label = encoder.fit_transform(yeni_label)\n",
        "from keras.utils import to_categorical\n",
        "labels_ = to_categorical(yeni_label)\n",
        "\n",
        "X_train, X_test, yeni_train, yeni_test = train_test_split(data,labels_,test_size=0.2,random_state=42)\n",
        "\n",
        "print(yeni_train.shape)"
      ],
      "execution_count": null,
      "outputs": [
        {
          "output_type": "stream",
          "text": [
            "(6624, 460)\n"
          ],
          "name": "stdout"
        }
      ]
    },
    {
      "cell_type": "code",
      "metadata": {
        "id": "J7myxbt6-gNF",
        "colab": {
          "base_uri": "https://localhost:8080/"
        },
        "outputId": "5740d673-ae75-45b2-a7d1-e948ec891d03"
      },
      "source": [
        "print('Eğitim Seti veri sayısı ve boyutu '+str(X_train.shape))\n",
        "print('Test Seti veri sayısı ve boyutu '+str(X_test.shape))\n",
        "print('Eğitim Seti etiket sayısı ve boyutu '+str(y_train_names.shape))\n",
        "print('Test Seti etiket sayısı ve boyutu '+str(y_test_names.shape))\n",
        "print('Eğitim Seti 2.etiket sayısı ve boyutu '+str(y_train_class.shape))\n",
        "print('Test Seti 2.etiket sayısı ve boyutu '+str(y_test_class.shape))"
      ],
      "execution_count": null,
      "outputs": [
        {
          "output_type": "stream",
          "text": [
            "Eğitim Seti veri sayısı ve boyutu (6624, 96, 96, 3)\n",
            "Test Seti veri sayısı ve boyutu (1656, 96, 96, 3)\n",
            "Eğitim Seti etiket sayısı ve boyutu (6624, 4)\n",
            "Test Seti etiket sayısı ve boyutu (1656, 4)\n",
            "Eğitim Seti 2.etiket sayısı ve boyutu (6624, 116)\n",
            "Test Seti 2.etiket sayısı ve boyutu (1656, 116)\n"
          ],
          "name": "stdout"
        }
      ]
    },
    {
      "cell_type": "code",
      "metadata": {
        "id": "mT6p_5rL9hPz",
        "colab": {
          "base_uri": "https://localhost:8080/"
        },
        "outputId": "6417d198-936e-4001-e0eb-ac5701eb4091"
      },
      "source": [
        "y_train_class[6,:]"
      ],
      "execution_count": null,
      "outputs": [
        {
          "output_type": "execute_result",
          "data": {
            "text/plain": [
              "array([0., 0., 0., 0., 0., 0., 0., 0., 1., 0., 0., 0., 0., 0., 0., 0., 0.,\n",
              "       0., 0., 0., 0., 0., 0., 0., 0., 0., 0., 0., 0., 0., 0., 0., 0., 0.,\n",
              "       0., 0., 0., 0., 0., 0., 0., 0., 0., 0., 0., 0., 0., 0., 0., 0., 0.,\n",
              "       0., 0., 0., 0., 0., 0., 0., 0., 0., 0., 0., 0., 0., 0., 0., 0., 0.,\n",
              "       0., 0., 0., 0., 0., 0., 0., 0., 0., 0., 0., 0., 0., 0., 0., 0., 0.,\n",
              "       0., 0., 0., 0., 0., 0., 0., 0., 0., 0., 0., 0., 0., 0., 0., 0., 0.,\n",
              "       0., 0., 0., 0., 0., 0., 0., 0., 0., 0., 0., 0., 0., 0.],\n",
              "      dtype=float32)"
            ]
          },
          "metadata": {
            "tags": []
          },
          "execution_count": 24
        }
      ]
    },
    {
      "cell_type": "markdown",
      "metadata": {
        "id": "3oqwwMEF4qCA"
      },
      "source": [
        "# **Creating Model from Scracth**"
      ]
    },
    {
      "cell_type": "code",
      "metadata": {
        "id": "MPWUSJqUmUtM"
      },
      "source": [
        "def conv_block(input_tensor,\n",
        "               filters,\n",
        "               kernel_size,\n",
        "               padding='same',\n",
        "               strides=(1,1),\n",
        "               batch=False,\n",
        "               batch_mom=0.0,\n",
        "               initializer='RandomNormal'):\n",
        "    if batch:\n",
        "        x = Conv2D(filters=filters,\n",
        "               kernel_size=kernel_size,\n",
        "               padding=padding,\n",
        "               strides=strides,\n",
        "               kernel_initializer=initializer)(input_tensor)\n",
        "        x = BatchNormalization(axis=3,momentum=batch_mom)(x)\n",
        "        x = Activation('relu')(x)\n",
        "    else:\n",
        "        x = Conv2D(filters=filters,\n",
        "                   kernel_size=kernel_size,\n",
        "                   padding=padding,\n",
        "                   strides=strides,\n",
        "                   kernel_initializer=initializer)(input_tensor)\n",
        "        x = Activation('relu')(x)\n",
        "        \n",
        "    return x\n",
        "    \n",
        "def my_model(classes,\n",
        "             initial='RandomNormal',\n",
        "             mmt=0.0,\n",
        "             input_shape=None):\n",
        "    \n",
        "    main_input = Input(shape = input_shape, name = 'main_input')\n",
        "    \n",
        "    \n",
        "    x = conv_block(main_input,\n",
        "                  filters = 16,\n",
        "                  kernel_size = (9,9),\n",
        "                  strides = (3,3),\n",
        "                  padding = 'valid',\n",
        "                  initializer=initial,\n",
        "                  batch=True)\n",
        "\n",
        "    x = MaxPooling2D(pool_size = (2,2),\n",
        "             strides = (2,2))(x)    \n",
        "    \n",
        "    x = conv_block(x,\n",
        "                   filters = 64,\n",
        "                  kernel_size = (3,3),\n",
        "                  strides = (1,1),\n",
        "                  padding = 'valid',\n",
        "                  initializer=initial,\n",
        "                  batch=True)\n",
        "\n",
        "    x = conv_block(x,\n",
        "                  filters = 64,\n",
        "                  kernel_size = (3,3),\n",
        "                  strides = (1,1),\n",
        "                  padding = 'valid',\n",
        "                  initializer=initial,\n",
        "                  batch=True)\n",
        "\n",
        "    x = MaxPooling2D(pool_size = (2,2),\n",
        "             strides = (1,1),padding='same')(x)\n",
        "    \n",
        "    x = conv_block(x,\n",
        "                  filters = 128,\n",
        "                  kernel_size = (3,3),\n",
        "                  strides = (1,1),\n",
        "                  padding = 'same',\n",
        "                  initializer=initial,\n",
        "                  batch=True)\n",
        "    \n",
        "    x = conv_block(x,\n",
        "                  filters = 128,\n",
        "                  kernel_size = (3,3),\n",
        "                  strides = (1,1),\n",
        "                  padding = 'same',\n",
        "                  initializer=initial,\n",
        "                  batch=True)\n",
        "    \n",
        "    flat = Flatten()(x)\n",
        "    \n",
        "    model = Dense(256, name = 'Fully_Connected_Layer')(flat)\n",
        "    model = BatchNormalization()(model)\n",
        "    model = Activation('relu')(model)\n",
        "    \n",
        "    model = Dropout(0.4)(model)\n",
        "    \n",
        "    model = Dense(256, name = 'Fully_Connected_Layer_2')(model)\n",
        "    model = BatchNormalization()(model)\n",
        "    model = Activation('relu', name = 'Connection_Layer')(model)\n",
        "    \n",
        "    model = Dropout(0.4, name = 'Connection_User')(model)\n",
        "      \n",
        "    aux_out = Dense(256, name = 'Fully_Connected_Layer_3-' )(flat)\n",
        "    aux_out = BatchNormalization()(aux_out)\n",
        "    aux_out = Activation('relu')(aux_out)\n",
        "    \n",
        "    aux_out = Dropout(0.4, name='Connection_Class')(aux_out)\n",
        "    \n",
        "    model_user = Dense(classes, activation = 'sigmoid', name = 'userOut')(model)\n",
        "    \n",
        "    #model_class = Dense(4, activation = 'sigmoid', name = 'classOut')(aux_out)\n",
        "\n",
        "    models = Model(inputs = main_input, outputs = model_user)  \n",
        "    return models"
      ],
      "execution_count": null,
      "outputs": []
    },
    {
      "cell_type": "code",
      "metadata": {
        "id": "Xmf0V2Qj4-Qu"
      },
      "source": [
        "model = my_model(input_shape=(96,96,3),initial='RandomNormal',classes=460)\n",
        "\n",
        "batch_size = 32\n",
        "steps_epoch = len(X_train)\n",
        "val_steps = len(X_test)\n",
        "\n",
        "epochs = 100\n",
        "learning_rate = 10e-2\n",
        "decay_rate = learning_rate / epochs\n",
        "momentum = 0.9\n",
        "sgd = SGD(lr=learning_rate, momentum=momentum, decay=decay_rate, nesterov=True)\n",
        "\n",
        "model.compile(optimizer = sgd,\n",
        "            loss={'userOut':'categorical_crossentropy',\n",
        "            'classOut': 'binary_crossentropy'},\n",
        "            metrics = ['accuracy'])\n",
        "\n",
        "model.compile(optimizer = sgd,\n",
        "            loss='binary_crossentropy',\n",
        "            metrics = ['binary_accuracy'])"
      ],
      "execution_count": null,
      "outputs": []
    },
    {
      "cell_type": "code",
      "metadata": {
        "id": "pgW4hKSxE196",
        "colab": {
          "base_uri": "https://localhost:8080/"
        },
        "outputId": "386156be-2a39-42b7-c667-3b70902a4239"
      },
      "source": [
        "model.fit(x = X_train,\n",
        "          y=yeni_train,\n",
        "          epochs=epochs,\n",
        "          verbose=1,\n",
        "          validation_data=(X_test,yeni_test),\n",
        "          shuffle=True,\n",
        "          batch_size = batch_size)"
      ],
      "execution_count": null,
      "outputs": [
        {
          "output_type": "stream",
          "text": [
            "Epoch 1/100\n",
            "207/207 [==============================] - 10s 10ms/step - loss: 0.3738 - binary_accuracy: 0.8406 - val_loss: 0.0798 - val_binary_accuracy: 0.9978\n",
            "Epoch 2/100\n",
            "207/207 [==============================] - 2s 8ms/step - loss: 0.0389 - binary_accuracy: 0.9978 - val_loss: 0.0361 - val_binary_accuracy: 0.9978\n",
            "Epoch 3/100\n",
            "207/207 [==============================] - 2s 8ms/step - loss: 0.0245 - binary_accuracy: 0.9978 - val_loss: 0.0264 - val_binary_accuracy: 0.9978\n",
            "Epoch 4/100\n",
            "207/207 [==============================] - 2s 8ms/step - loss: 0.0205 - binary_accuracy: 0.9978 - val_loss: 0.0224 - val_binary_accuracy: 0.9978\n",
            "Epoch 5/100\n",
            "207/207 [==============================] - 2s 8ms/step - loss: 0.0186 - binary_accuracy: 0.9978 - val_loss: 0.0202 - val_binary_accuracy: 0.9978\n",
            "Epoch 6/100\n",
            "207/207 [==============================] - 2s 8ms/step - loss: 0.0177 - binary_accuracy: 0.9978 - val_loss: 0.0189 - val_binary_accuracy: 0.9978\n",
            "Epoch 7/100\n",
            "207/207 [==============================] - 2s 8ms/step - loss: 0.0171 - binary_accuracy: 0.9978 - val_loss: 0.0182 - val_binary_accuracy: 0.9978\n",
            "Epoch 8/100\n",
            "207/207 [==============================] - 2s 8ms/step - loss: 0.0166 - binary_accuracy: 0.9978 - val_loss: 0.0175 - val_binary_accuracy: 0.9978\n",
            "Epoch 9/100\n",
            "207/207 [==============================] - 2s 8ms/step - loss: 0.0163 - binary_accuracy: 0.9978 - val_loss: 0.0170 - val_binary_accuracy: 0.9978\n",
            "Epoch 10/100\n",
            "207/207 [==============================] - 2s 8ms/step - loss: 0.0159 - binary_accuracy: 0.9978 - val_loss: 0.0166 - val_binary_accuracy: 0.9978\n",
            "Epoch 11/100\n",
            "207/207 [==============================] - 2s 8ms/step - loss: 0.0157 - binary_accuracy: 0.9978 - val_loss: 0.0164 - val_binary_accuracy: 0.9978\n",
            "Epoch 12/100\n",
            "207/207 [==============================] - 2s 8ms/step - loss: 0.0155 - binary_accuracy: 0.9978 - val_loss: 0.0162 - val_binary_accuracy: 0.9978\n",
            "Epoch 13/100\n",
            "207/207 [==============================] - 2s 8ms/step - loss: 0.0154 - binary_accuracy: 0.9978 - val_loss: 0.0158 - val_binary_accuracy: 0.9978\n",
            "Epoch 14/100\n",
            "207/207 [==============================] - 2s 8ms/step - loss: 0.0153 - binary_accuracy: 0.9978 - val_loss: 0.0158 - val_binary_accuracy: 0.9978\n",
            "Epoch 15/100\n",
            "207/207 [==============================] - 2s 8ms/step - loss: 0.0152 - binary_accuracy: 0.9978 - val_loss: 0.0155 - val_binary_accuracy: 0.9978\n",
            "Epoch 16/100\n",
            "207/207 [==============================] - 2s 8ms/step - loss: 0.0150 - binary_accuracy: 0.9978 - val_loss: 0.0154 - val_binary_accuracy: 0.9978\n",
            "Epoch 17/100\n",
            "207/207 [==============================] - 2s 8ms/step - loss: 0.0150 - binary_accuracy: 0.9978 - val_loss: 0.0153 - val_binary_accuracy: 0.9978\n",
            "Epoch 18/100\n",
            "207/207 [==============================] - 2s 8ms/step - loss: 0.0149 - binary_accuracy: 0.9978 - val_loss: 0.0152 - val_binary_accuracy: 0.9978\n",
            "Epoch 19/100\n",
            "207/207 [==============================] - 2s 8ms/step - loss: 0.0147 - binary_accuracy: 0.9978 - val_loss: 0.0151 - val_binary_accuracy: 0.9978\n",
            "Epoch 20/100\n",
            "207/207 [==============================] - 2s 8ms/step - loss: 0.0147 - binary_accuracy: 0.9978 - val_loss: 0.0150 - val_binary_accuracy: 0.9978\n",
            "Epoch 21/100\n",
            "207/207 [==============================] - 2s 8ms/step - loss: 0.0147 - binary_accuracy: 0.9978 - val_loss: 0.0149 - val_binary_accuracy: 0.9978\n",
            "Epoch 22/100\n",
            "207/207 [==============================] - 2s 8ms/step - loss: 0.0146 - binary_accuracy: 0.9978 - val_loss: 0.0148 - val_binary_accuracy: 0.9978\n",
            "Epoch 23/100\n",
            "207/207 [==============================] - 2s 8ms/step - loss: 0.0146 - binary_accuracy: 0.9978 - val_loss: 0.0148 - val_binary_accuracy: 0.9978\n",
            "Epoch 24/100\n",
            "207/207 [==============================] - 2s 8ms/step - loss: 0.0145 - binary_accuracy: 0.9978 - val_loss: 0.0147 - val_binary_accuracy: 0.9978\n",
            "Epoch 25/100\n",
            "207/207 [==============================] - 2s 8ms/step - loss: 0.0144 - binary_accuracy: 0.9978 - val_loss: 0.0147 - val_binary_accuracy: 0.9978\n",
            "Epoch 26/100\n",
            "207/207 [==============================] - 2s 8ms/step - loss: 0.0144 - binary_accuracy: 0.9978 - val_loss: 0.0146 - val_binary_accuracy: 0.9978\n",
            "Epoch 27/100\n",
            "207/207 [==============================] - 2s 8ms/step - loss: 0.0143 - binary_accuracy: 0.9978 - val_loss: 0.0145 - val_binary_accuracy: 0.9978\n",
            "Epoch 28/100\n",
            "207/207 [==============================] - 2s 8ms/step - loss: 0.0143 - binary_accuracy: 0.9978 - val_loss: 0.0144 - val_binary_accuracy: 0.9978\n",
            "Epoch 29/100\n",
            "207/207 [==============================] - 2s 8ms/step - loss: 0.0142 - binary_accuracy: 0.9978 - val_loss: 0.0144 - val_binary_accuracy: 0.9978\n",
            "Epoch 30/100\n",
            "207/207 [==============================] - 2s 8ms/step - loss: 0.0142 - binary_accuracy: 0.9978 - val_loss: 0.0144 - val_binary_accuracy: 0.9978\n",
            "Epoch 31/100\n",
            "207/207 [==============================] - 2s 8ms/step - loss: 0.0141 - binary_accuracy: 0.9978 - val_loss: 0.0143 - val_binary_accuracy: 0.9978\n",
            "Epoch 32/100\n",
            "207/207 [==============================] - 2s 8ms/step - loss: 0.0141 - binary_accuracy: 0.9978 - val_loss: 0.0143 - val_binary_accuracy: 0.9978\n",
            "Epoch 33/100\n",
            "207/207 [==============================] - 2s 8ms/step - loss: 0.0140 - binary_accuracy: 0.9978 - val_loss: 0.0142 - val_binary_accuracy: 0.9978\n",
            "Epoch 34/100\n",
            "207/207 [==============================] - 2s 8ms/step - loss: 0.0140 - binary_accuracy: 0.9978 - val_loss: 0.0142 - val_binary_accuracy: 0.9978\n",
            "Epoch 35/100\n",
            "207/207 [==============================] - 2s 8ms/step - loss: 0.0140 - binary_accuracy: 0.9978 - val_loss: 0.0142 - val_binary_accuracy: 0.9978\n",
            "Epoch 36/100\n",
            "207/207 [==============================] - 2s 8ms/step - loss: 0.0140 - binary_accuracy: 0.9978 - val_loss: 0.0143 - val_binary_accuracy: 0.9978\n",
            "Epoch 37/100\n",
            "207/207 [==============================] - 2s 8ms/step - loss: 0.0140 - binary_accuracy: 0.9978 - val_loss: 0.0142 - val_binary_accuracy: 0.9978\n",
            "Epoch 38/100\n",
            "207/207 [==============================] - 2s 8ms/step - loss: 0.0139 - binary_accuracy: 0.9978 - val_loss: 0.0141 - val_binary_accuracy: 0.9978\n",
            "Epoch 39/100\n",
            "207/207 [==============================] - 2s 8ms/step - loss: 0.0138 - binary_accuracy: 0.9978 - val_loss: 0.0141 - val_binary_accuracy: 0.9978\n",
            "Epoch 40/100\n",
            "207/207 [==============================] - 2s 8ms/step - loss: 0.0138 - binary_accuracy: 0.9978 - val_loss: 0.0141 - val_binary_accuracy: 0.9978\n",
            "Epoch 41/100\n",
            "207/207 [==============================] - 2s 8ms/step - loss: 0.0139 - binary_accuracy: 0.9978 - val_loss: 0.0140 - val_binary_accuracy: 0.9978\n",
            "Epoch 42/100\n",
            "207/207 [==============================] - 2s 8ms/step - loss: 0.0138 - binary_accuracy: 0.9978 - val_loss: 0.0140 - val_binary_accuracy: 0.9978\n",
            "Epoch 43/100\n",
            "207/207 [==============================] - 2s 8ms/step - loss: 0.0137 - binary_accuracy: 0.9978 - val_loss: 0.0140 - val_binary_accuracy: 0.9978\n",
            "Epoch 44/100\n",
            "207/207 [==============================] - 2s 8ms/step - loss: 0.0138 - binary_accuracy: 0.9978 - val_loss: 0.0139 - val_binary_accuracy: 0.9978\n",
            "Epoch 45/100\n",
            "207/207 [==============================] - 2s 8ms/step - loss: 0.0137 - binary_accuracy: 0.9978 - val_loss: 0.0139 - val_binary_accuracy: 0.9978\n",
            "Epoch 46/100\n",
            "207/207 [==============================] - 2s 8ms/step - loss: 0.0137 - binary_accuracy: 0.9978 - val_loss: 0.0139 - val_binary_accuracy: 0.9978\n",
            "Epoch 47/100\n",
            "207/207 [==============================] - 2s 8ms/step - loss: 0.0137 - binary_accuracy: 0.9978 - val_loss: 0.0139 - val_binary_accuracy: 0.9978\n",
            "Epoch 48/100\n",
            "207/207 [==============================] - 2s 8ms/step - loss: 0.0137 - binary_accuracy: 0.9978 - val_loss: 0.0138 - val_binary_accuracy: 0.9978\n",
            "Epoch 49/100\n",
            "207/207 [==============================] - 2s 8ms/step - loss: 0.0136 - binary_accuracy: 0.9978 - val_loss: 0.0138 - val_binary_accuracy: 0.9978\n",
            "Epoch 50/100\n",
            "207/207 [==============================] - 2s 8ms/step - loss: 0.0136 - binary_accuracy: 0.9978 - val_loss: 0.0138 - val_binary_accuracy: 0.9978\n",
            "Epoch 51/100\n",
            "207/207 [==============================] - 2s 8ms/step - loss: 0.0136 - binary_accuracy: 0.9978 - val_loss: 0.0138 - val_binary_accuracy: 0.9978\n",
            "Epoch 52/100\n",
            "207/207 [==============================] - 2s 8ms/step - loss: 0.0135 - binary_accuracy: 0.9978 - val_loss: 0.0137 - val_binary_accuracy: 0.9978\n",
            "Epoch 53/100\n",
            "207/207 [==============================] - 2s 8ms/step - loss: 0.0135 - binary_accuracy: 0.9978 - val_loss: 0.0137 - val_binary_accuracy: 0.9978\n",
            "Epoch 54/100\n",
            "207/207 [==============================] - 2s 8ms/step - loss: 0.0135 - binary_accuracy: 0.9978 - val_loss: 0.0137 - val_binary_accuracy: 0.9978\n",
            "Epoch 55/100\n",
            "207/207 [==============================] - 2s 8ms/step - loss: 0.0135 - binary_accuracy: 0.9978 - val_loss: 0.0137 - val_binary_accuracy: 0.9978\n",
            "Epoch 56/100\n",
            "207/207 [==============================] - 2s 8ms/step - loss: 0.0135 - binary_accuracy: 0.9978 - val_loss: 0.0137 - val_binary_accuracy: 0.9978\n",
            "Epoch 57/100\n",
            "207/207 [==============================] - 2s 8ms/step - loss: 0.0134 - binary_accuracy: 0.9978 - val_loss: 0.0136 - val_binary_accuracy: 0.9978\n",
            "Epoch 58/100\n",
            "207/207 [==============================] - 2s 8ms/step - loss: 0.0134 - binary_accuracy: 0.9978 - val_loss: 0.0136 - val_binary_accuracy: 0.9978\n",
            "Epoch 59/100\n",
            "207/207 [==============================] - 2s 8ms/step - loss: 0.0135 - binary_accuracy: 0.9978 - val_loss: 0.0136 - val_binary_accuracy: 0.9978\n",
            "Epoch 60/100\n",
            "207/207 [==============================] - 2s 8ms/step - loss: 0.0133 - binary_accuracy: 0.9978 - val_loss: 0.0136 - val_binary_accuracy: 0.9978\n",
            "Epoch 61/100\n",
            "207/207 [==============================] - 2s 8ms/step - loss: 0.0134 - binary_accuracy: 0.9978 - val_loss: 0.0135 - val_binary_accuracy: 0.9978\n",
            "Epoch 62/100\n",
            "207/207 [==============================] - 2s 8ms/step - loss: 0.0133 - binary_accuracy: 0.9978 - val_loss: 0.0136 - val_binary_accuracy: 0.9978\n",
            "Epoch 63/100\n",
            "207/207 [==============================] - 2s 8ms/step - loss: 0.0134 - binary_accuracy: 0.9978 - val_loss: 0.0135 - val_binary_accuracy: 0.9978\n",
            "Epoch 64/100\n",
            "207/207 [==============================] - 2s 8ms/step - loss: 0.0133 - binary_accuracy: 0.9978 - val_loss: 0.0137 - val_binary_accuracy: 0.9978\n",
            "Epoch 65/100\n",
            "207/207 [==============================] - 2s 8ms/step - loss: 0.0133 - binary_accuracy: 0.9978 - val_loss: 0.0135 - val_binary_accuracy: 0.9978\n",
            "Epoch 66/100\n",
            "207/207 [==============================] - 2s 8ms/step - loss: 0.0133 - binary_accuracy: 0.9978 - val_loss: 0.0136 - val_binary_accuracy: 0.9978\n",
            "Epoch 67/100\n",
            "207/207 [==============================] - 2s 8ms/step - loss: 0.0132 - binary_accuracy: 0.9978 - val_loss: 0.0134 - val_binary_accuracy: 0.9978\n",
            "Epoch 68/100\n",
            "207/207 [==============================] - 2s 8ms/step - loss: 0.0133 - binary_accuracy: 0.9978 - val_loss: 0.0134 - val_binary_accuracy: 0.9978\n",
            "Epoch 69/100\n",
            "207/207 [==============================] - 2s 8ms/step - loss: 0.0132 - binary_accuracy: 0.9978 - val_loss: 0.0134 - val_binary_accuracy: 0.9978\n",
            "Epoch 70/100\n",
            "207/207 [==============================] - 2s 8ms/step - loss: 0.0132 - binary_accuracy: 0.9978 - val_loss: 0.0134 - val_binary_accuracy: 0.9978\n",
            "Epoch 71/100\n",
            "207/207 [==============================] - 2s 8ms/step - loss: 0.0132 - binary_accuracy: 0.9978 - val_loss: 0.0134 - val_binary_accuracy: 0.9978\n",
            "Epoch 72/100\n",
            "207/207 [==============================] - 2s 8ms/step - loss: 0.0132 - binary_accuracy: 0.9978 - val_loss: 0.0134 - val_binary_accuracy: 0.9978\n",
            "Epoch 73/100\n",
            "207/207 [==============================] - 2s 8ms/step - loss: 0.0132 - binary_accuracy: 0.9978 - val_loss: 0.0135 - val_binary_accuracy: 0.9978\n",
            "Epoch 74/100\n",
            "207/207 [==============================] - 2s 8ms/step - loss: 0.0132 - binary_accuracy: 0.9978 - val_loss: 0.0134 - val_binary_accuracy: 0.9978\n",
            "Epoch 75/100\n",
            "207/207 [==============================] - 2s 8ms/step - loss: 0.0132 - binary_accuracy: 0.9978 - val_loss: 0.0134 - val_binary_accuracy: 0.9978\n",
            "Epoch 76/100\n",
            "207/207 [==============================] - 2s 8ms/step - loss: 0.0132 - binary_accuracy: 0.9978 - val_loss: 0.0133 - val_binary_accuracy: 0.9978\n",
            "Epoch 77/100\n",
            "207/207 [==============================] - 2s 8ms/step - loss: 0.0132 - binary_accuracy: 0.9978 - val_loss: 0.0134 - val_binary_accuracy: 0.9978\n",
            "Epoch 78/100\n",
            "207/207 [==============================] - 2s 8ms/step - loss: 0.0131 - binary_accuracy: 0.9978 - val_loss: 0.0133 - val_binary_accuracy: 0.9978\n",
            "Epoch 79/100\n",
            "207/207 [==============================] - 2s 8ms/step - loss: 0.0131 - binary_accuracy: 0.9978 - val_loss: 0.0133 - val_binary_accuracy: 0.9978\n",
            "Epoch 80/100\n",
            "207/207 [==============================] - 2s 8ms/step - loss: 0.0132 - binary_accuracy: 0.9978 - val_loss: 0.0134 - val_binary_accuracy: 0.9978\n",
            "Epoch 81/100\n",
            "207/207 [==============================] - 2s 8ms/step - loss: 0.0131 - binary_accuracy: 0.9978 - val_loss: 0.0133 - val_binary_accuracy: 0.9978\n",
            "Epoch 82/100\n",
            "207/207 [==============================] - 2s 8ms/step - loss: 0.0131 - binary_accuracy: 0.9978 - val_loss: 0.0133 - val_binary_accuracy: 0.9978\n",
            "Epoch 83/100\n",
            "207/207 [==============================] - 2s 8ms/step - loss: 0.0130 - binary_accuracy: 0.9978 - val_loss: 0.0133 - val_binary_accuracy: 0.9978\n",
            "Epoch 84/100\n",
            "207/207 [==============================] - 2s 8ms/step - loss: 0.0130 - binary_accuracy: 0.9978 - val_loss: 0.0133 - val_binary_accuracy: 0.9978\n",
            "Epoch 85/100\n",
            "207/207 [==============================] - 2s 8ms/step - loss: 0.0130 - binary_accuracy: 0.9978 - val_loss: 0.0133 - val_binary_accuracy: 0.9978\n",
            "Epoch 86/100\n",
            "207/207 [==============================] - 2s 8ms/step - loss: 0.0130 - binary_accuracy: 0.9978 - val_loss: 0.0133 - val_binary_accuracy: 0.9978\n",
            "Epoch 87/100\n",
            "207/207 [==============================] - 2s 8ms/step - loss: 0.0130 - binary_accuracy: 0.9978 - val_loss: 0.0132 - val_binary_accuracy: 0.9978\n",
            "Epoch 88/100\n",
            "207/207 [==============================] - 2s 8ms/step - loss: 0.0130 - binary_accuracy: 0.9978 - val_loss: 0.0132 - val_binary_accuracy: 0.9978\n",
            "Epoch 89/100\n",
            "207/207 [==============================] - 2s 8ms/step - loss: 0.0129 - binary_accuracy: 0.9978 - val_loss: 0.0132 - val_binary_accuracy: 0.9978\n",
            "Epoch 90/100\n",
            "207/207 [==============================] - 2s 8ms/step - loss: 0.0130 - binary_accuracy: 0.9978 - val_loss: 0.0132 - val_binary_accuracy: 0.9978\n",
            "Epoch 91/100\n",
            "207/207 [==============================] - 2s 8ms/step - loss: 0.0129 - binary_accuracy: 0.9978 - val_loss: 0.0132 - val_binary_accuracy: 0.9978\n",
            "Epoch 92/100\n",
            "207/207 [==============================] - 2s 8ms/step - loss: 0.0130 - binary_accuracy: 0.9978 - val_loss: 0.0132 - val_binary_accuracy: 0.9978\n",
            "Epoch 93/100\n",
            "207/207 [==============================] - 2s 8ms/step - loss: 0.0129 - binary_accuracy: 0.9978 - val_loss: 0.0132 - val_binary_accuracy: 0.9978\n",
            "Epoch 94/100\n",
            "207/207 [==============================] - 2s 8ms/step - loss: 0.0129 - binary_accuracy: 0.9978 - val_loss: 0.0133 - val_binary_accuracy: 0.9978\n",
            "Epoch 95/100\n",
            "207/207 [==============================] - 2s 8ms/step - loss: 0.0129 - binary_accuracy: 0.9978 - val_loss: 0.0131 - val_binary_accuracy: 0.9978\n",
            "Epoch 96/100\n",
            "207/207 [==============================] - 2s 8ms/step - loss: 0.0128 - binary_accuracy: 0.9978 - val_loss: 0.0132 - val_binary_accuracy: 0.9978\n",
            "Epoch 97/100\n",
            "207/207 [==============================] - 2s 8ms/step - loss: 0.0129 - binary_accuracy: 0.9978 - val_loss: 0.0131 - val_binary_accuracy: 0.9978\n",
            "Epoch 98/100\n",
            "207/207 [==============================] - 2s 8ms/step - loss: 0.0129 - binary_accuracy: 0.9978 - val_loss: 0.0131 - val_binary_accuracy: 0.9978\n",
            "Epoch 99/100\n",
            "207/207 [==============================] - 2s 8ms/step - loss: 0.0129 - binary_accuracy: 0.9978 - val_loss: 0.0131 - val_binary_accuracy: 0.9978\n",
            "Epoch 100/100\n",
            "207/207 [==============================] - 2s 8ms/step - loss: 0.0129 - binary_accuracy: 0.9978 - val_loss: 0.0131 - val_binary_accuracy: 0.9978\n"
          ],
          "name": "stdout"
        },
        {
          "output_type": "execute_result",
          "data": {
            "text/plain": [
              "<tensorflow.python.keras.callbacks.History at 0x7fb5fb7c7cc0>"
            ]
          },
          "metadata": {
            "tags": []
          },
          "execution_count": 27
        }
      ]
    },
    {
      "cell_type": "code",
      "metadata": {
        "id": "1U80ObRLc_cg"
      },
      "source": [
        "y_pred = model.predict(X_test)\n"
      ],
      "execution_count": null,
      "outputs": []
    },
    {
      "cell_type": "code",
      "metadata": {
        "id": "KoeHVPOggUTN"
      },
      "source": [
        ""
      ],
      "execution_count": null,
      "outputs": []
    },
    {
      "cell_type": "code",
      "metadata": {
        "id": "hg3hIgA8gVCX"
      },
      "source": [
        ""
      ],
      "execution_count": null,
      "outputs": []
    },
    {
      "cell_type": "code",
      "metadata": {
        "id": "MPa5G3JGgVTA"
      },
      "source": [
        ""
      ],
      "execution_count": null,
      "outputs": []
    },
    {
      "cell_type": "code",
      "metadata": {
        "id": "yy6kTBXQE5rj",
        "colab": {
          "base_uri": "https://localhost:8080/",
          "height": 229
        },
        "outputId": "1da58150-0b3d-4595-dcbc-bd926a49a479"
      },
      "source": [
        "np.savetxt('Spyder_model_val_userOut_acc',model.history.history['val_userOut_acc'],delimiter=',')\n",
        "np.savetxt('Spyder_model_val_classOut_acc',model.history.history['val_classOut_acc'],delimiter=',')\n",
        "\n",
        "np.savetxt('Spyder_model_val_userOut_loss',model.history.history['val_userOut_loss'],delimiter=',')\n",
        "np.savetxt('Spyder_model_val_classOut_loss',model.history.history['val_classOut_loss'],delimiter=',')"
      ],
      "execution_count": null,
      "outputs": [
        {
          "output_type": "error",
          "ename": "KeyError",
          "evalue": "ignored",
          "traceback": [
            "\u001b[0;31m---------------------------------------------------------------------------\u001b[0m",
            "\u001b[0;31mKeyError\u001b[0m                                  Traceback (most recent call last)",
            "\u001b[0;32m<ipython-input-29-7ae4afb93c8f>\u001b[0m in \u001b[0;36m<module>\u001b[0;34m()\u001b[0m\n\u001b[0;32m----> 1\u001b[0;31m \u001b[0mnp\u001b[0m\u001b[0;34m.\u001b[0m\u001b[0msavetxt\u001b[0m\u001b[0;34m(\u001b[0m\u001b[0;34m'Spyder_model_val_userOut_acc'\u001b[0m\u001b[0;34m,\u001b[0m\u001b[0mmodel\u001b[0m\u001b[0;34m.\u001b[0m\u001b[0mhistory\u001b[0m\u001b[0;34m.\u001b[0m\u001b[0mhistory\u001b[0m\u001b[0;34m[\u001b[0m\u001b[0;34m'val_userOut_acc'\u001b[0m\u001b[0;34m]\u001b[0m\u001b[0;34m,\u001b[0m\u001b[0mdelimiter\u001b[0m\u001b[0;34m=\u001b[0m\u001b[0;34m','\u001b[0m\u001b[0;34m)\u001b[0m\u001b[0;34m\u001b[0m\u001b[0;34m\u001b[0m\u001b[0m\n\u001b[0m\u001b[1;32m      2\u001b[0m \u001b[0mnp\u001b[0m\u001b[0;34m.\u001b[0m\u001b[0msavetxt\u001b[0m\u001b[0;34m(\u001b[0m\u001b[0;34m'Spyder_model_val_classOut_acc'\u001b[0m\u001b[0;34m,\u001b[0m\u001b[0mmodel\u001b[0m\u001b[0;34m.\u001b[0m\u001b[0mhistory\u001b[0m\u001b[0;34m.\u001b[0m\u001b[0mhistory\u001b[0m\u001b[0;34m[\u001b[0m\u001b[0;34m'val_classOut_acc'\u001b[0m\u001b[0;34m]\u001b[0m\u001b[0;34m,\u001b[0m\u001b[0mdelimiter\u001b[0m\u001b[0;34m=\u001b[0m\u001b[0;34m','\u001b[0m\u001b[0;34m)\u001b[0m\u001b[0;34m\u001b[0m\u001b[0;34m\u001b[0m\u001b[0m\n\u001b[1;32m      3\u001b[0m \u001b[0;34m\u001b[0m\u001b[0m\n\u001b[1;32m      4\u001b[0m \u001b[0mnp\u001b[0m\u001b[0;34m.\u001b[0m\u001b[0msavetxt\u001b[0m\u001b[0;34m(\u001b[0m\u001b[0;34m'Spyder_model_val_userOut_loss'\u001b[0m\u001b[0;34m,\u001b[0m\u001b[0mmodel\u001b[0m\u001b[0;34m.\u001b[0m\u001b[0mhistory\u001b[0m\u001b[0;34m.\u001b[0m\u001b[0mhistory\u001b[0m\u001b[0;34m[\u001b[0m\u001b[0;34m'val_userOut_loss'\u001b[0m\u001b[0;34m]\u001b[0m\u001b[0;34m,\u001b[0m\u001b[0mdelimiter\u001b[0m\u001b[0;34m=\u001b[0m\u001b[0;34m','\u001b[0m\u001b[0;34m)\u001b[0m\u001b[0;34m\u001b[0m\u001b[0;34m\u001b[0m\u001b[0m\n\u001b[1;32m      5\u001b[0m \u001b[0mnp\u001b[0m\u001b[0;34m.\u001b[0m\u001b[0msavetxt\u001b[0m\u001b[0;34m(\u001b[0m\u001b[0;34m'Spyder_model_val_classOut_loss'\u001b[0m\u001b[0;34m,\u001b[0m\u001b[0mmodel\u001b[0m\u001b[0;34m.\u001b[0m\u001b[0mhistory\u001b[0m\u001b[0;34m.\u001b[0m\u001b[0mhistory\u001b[0m\u001b[0;34m[\u001b[0m\u001b[0;34m'val_classOut_loss'\u001b[0m\u001b[0;34m]\u001b[0m\u001b[0;34m,\u001b[0m\u001b[0mdelimiter\u001b[0m\u001b[0;34m=\u001b[0m\u001b[0;34m','\u001b[0m\u001b[0;34m)\u001b[0m\u001b[0;34m\u001b[0m\u001b[0;34m\u001b[0m\u001b[0m\n",
            "\u001b[0;31mKeyError\u001b[0m: 'val_userOut_acc'"
          ]
        }
      ]
    },
    {
      "cell_type": "code",
      "metadata": {
        "id": "y72sJTTnrSo6",
        "colab": {
          "base_uri": "https://localhost:8080/",
          "height": 265
        },
        "outputId": "8e05c3be-fc49-46c1-ef81-4af87daa3478"
      },
      "source": [
        "import matplotlib.pyplot as plt\n",
        "val_userOut_acc=np.loadtxt('Spyder_model_val_userOut_acc',delimiter=',')\n",
        "val_classOut_acc=np.loadtxt('Spyder_model_val_classOut_acc',delimiter=',')\n",
        "plt.plot(val_userOut_acc,'r.-')\n",
        "plt.plot(val_classOut_acc,'b.-')\n",
        "plt.legend(['User\\'s Acc','Classes\\'s Acc'])\n",
        "plt.show()"
      ],
      "execution_count": null,
      "outputs": [
        {
          "output_type": "display_data",
          "data": {
            "image/png": "[encoded data removed]",
            "text/plain": [
              "<Figure size 432x288 with 1 Axes>"
            ]
          },
          "metadata": {
            "tags": [],
            "needs_background": "light"
          }
        }
      ]
    },
    {
      "cell_type": "code",
      "metadata": {
        "id": "YsYdCkJ1rlxg",
        "colab": {
          "base_uri": "https://localhost:8080/",
          "height": 265
        },
        "outputId": "eb824a50-e913-49be-eae6-e0cd0d4ef30f"
      },
      "source": [
        "val_userOut_loss=np.loadtxt('Spyder_model_val_userOut_loss',delimiter=',')\n",
        "val_classOut_loss=np.loadtxt('Spyder_model_val_classOut_loss',delimiter=',')\n",
        "plt.plot(val_userOut_loss,'r.-')\n",
        "plt.plot(val_classOut_loss,'b.-')\n",
        "plt.legend(['User\\'s Loss','Classes\\'s Loss'])\n",
        "plt.show()"
      ],
      "execution_count": null,
      "outputs": [
        {
          "output_type": "display_data",
          "data": {
            "image/png": "[encoded data removed]",
            "text/plain": [
              "<Figure size 432x288 with 1 Axes>"
            ]
          },
          "metadata": {
            "tags": [],
            "needs_background": "light"
          }
        }
      ]
    },
    {
      "cell_type": "markdown",
      "metadata": {
        "id": "tFOjVaCVsiTD"
      },
      "source": [
        "# Weight Regularization and more Dropout"
      ]
    },
    {
      "cell_type": "code",
      "metadata": {
        "id": "EkJq488psqC1"
      },
      "source": [
        "from keras import regularizers\n",
        "\n",
        "def conv_block(input_tensor,\n",
        "               filters,\n",
        "               kernel_size,\n",
        "               padding='same',\n",
        "               strides=(1,1),\n",
        "               batch=False,\n",
        "               batch_mom=0.0,\n",
        "               initializer='RandomNormal'):\n",
        "    if batch:\n",
        "        x = Conv2D(filters=filters,\n",
        "               kernel_size=kernel_size,\n",
        "               padding=padding,\n",
        "               strides=strides,\n",
        "               kernel_initializer=initializer)(input_tensor)\n",
        "        x = BatchNormalization(axis=3,momentum=batch_mom)(x)\n",
        "        x = Activation('relu')(x)\n",
        "    else:\n",
        "        x = Conv2D(filters=filters,\n",
        "                   kernel_size=kernel_size,\n",
        "                   padding=padding,\n",
        "                   strides=strides,\n",
        "                   kernel_initializer=initializer)(input_tensor)\n",
        "        x = Activation('relu')(x)\n",
        "        \n",
        "    return x\n",
        "    \n",
        "def my_model(initial='RandomNormal',\n",
        "             mmt=0.0,\n",
        "             input_shape=None):\n",
        "    \n",
        "    main_input = Input(shape = input_shape, name = 'main_input')\n",
        "    \n",
        "    \n",
        "    x = conv_block(main_input,\n",
        "                  filters = 16,\n",
        "                  kernel_size = (10,10),\n",
        "                  strides = (3,3),\n",
        "                  padding = 'valid',\n",
        "                  initializer=initial,\n",
        "                  batch=True)\n",
        "\n",
        "    x = MaxPooling2D(pool_size = (2,2),\n",
        "             strides = (2,2))(x)    \n",
        "    \n",
        "    x = conv_block(x,\n",
        "                   filters = 64,\n",
        "                  kernel_size = (3,3),\n",
        "                  strides = (1,1),\n",
        "                  padding = 'valid',\n",
        "                  initializer=initial,\n",
        "                  batch=True)\n",
        "\n",
        "    x = conv_block(x,\n",
        "                  filters = 64,\n",
        "                  kernel_size = (3,3),\n",
        "                  strides = (1,1),\n",
        "                  padding = 'valid',\n",
        "                  initializer=initial,\n",
        "                  batch=True)\n",
        "\n",
        "    x = MaxPooling2D(pool_size = (2,2),\n",
        "             strides = (1,1),padding='same')(x)\n",
        "    \n",
        "    x = conv_block(x,\n",
        "                  filters = 128,\n",
        "                  kernel_size = (3,3),\n",
        "                  strides = (1,1),\n",
        "                  padding = 'same',\n",
        "                  initializer=initial,\n",
        "                  batch=True)\n",
        "    \n",
        "    x = conv_block(x,\n",
        "                  filters = 128,\n",
        "                  kernel_size = (3,3),\n",
        "                  strides = (1,1),\n",
        "                  padding = 'same',\n",
        "                  initializer=initial,\n",
        "                  batch=True)\n",
        "    \n",
        "    flat = Flatten()(x)\n",
        "    \n",
        "    model = Dense(256, name = 'Fully_Connected_Layer', kernel_regularizer = regularizers.l2(1e-5))(flat)\n",
        "    model = BatchNormalization()(model)\n",
        "    model = Activation('relu')(model)\n",
        "    \n",
        "    model = Dropout(0.6)(model)\n",
        "    \n",
        "    model = Dense(256, name = 'Fully_Connected_Layer_2', kernel_regularizer = regularizers.l2(1e-5))(model)\n",
        "    model = BatchNormalization()(model)\n",
        "    model = Activation('relu', name = 'Connection_Layer')(model)\n",
        "    \n",
        "    model = Dropout(0.6)(model)\n",
        "      \n",
        "    aux_out = Dense(256, name = 'Fully_Connected_Layer_3-', kernel_regularizer = regularizers.l2(1e-5) )(flat)\n",
        "    aux_out = BatchNormalization()(aux_out)\n",
        "    aux_out = Activation('relu')(aux_out)\n",
        "    \n",
        "    aux_out = Dropout(0.6)(aux_out)\n",
        "    \n",
        "    model_user = Dense(116, activation = 'softmax', name = 'userOut')(model)\n",
        "\n",
        "    model_class = Dense(4, activation = 'sigmoid', name = 'classOut')(aux_out)\n",
        "\n",
        "    models = Model(inputs = main_input, outputs = [model_user,model_class])  \n",
        "    return models"
      ],
      "execution_count": null,
      "outputs": []
    },
    {
      "cell_type": "code",
      "metadata": {
        "id": "rNpPGMJ_sqC3"
      },
      "source": [
        "model_reg = my_model(input_shape=(96,96,3),initial='he_normal')\n",
        "\n",
        "batch_size = 32\n",
        "steps_epoch = len(X_train)\n",
        "val_steps = len(X_test)\n",
        "\n",
        "epochs = 100\n",
        "learning_rate = 10e-2\n",
        "decay_rate = learning_rate / epochs\n",
        "momentum = 0.9\n",
        "sgd = SGD(lr=learning_rate, momentum=momentum, decay=decay_rate, nesterov=True)\n",
        "\n",
        "model_reg.compile(optimizer = sgd,\n",
        "            loss={'userOut':'categorical_crossentropy',\n",
        "            'classOut': 'binary_crossentropy'},\n",
        "            metrics = ['accuracy'])"
      ],
      "execution_count": null,
      "outputs": []
    },
    {
      "cell_type": "code",
      "metadata": {
        "id": "tjBk-qkMsqC6",
        "colab": {
          "base_uri": "https://localhost:8080/"
        },
        "outputId": "b3ecd226-2718-4f3b-b04a-dc3a7023a166"
      },
      "source": [
        "model_reg.fit(x = X_train,\n",
        "          y={'userOut': y_train_class,\n",
        "           'classOut': y_train_names},\n",
        "          epochs=epochs,\n",
        "          verbose=1,\n",
        "          validation_data=(X_test,\n",
        "\t\t      {\"userOut\": y_test_class, \"classOut\": y_test_names}),\n",
        "          shuffle=True,\n",
        "          batch_size = batch_size)"
      ],
      "execution_count": null,
      "outputs": [
        {
          "output_type": "stream",
          "text": [
            "Epoch 1/100\n",
            "207/207 [==============================] - 4s 12ms/step - loss: 5.6409 - userOut_loss: 5.0660 - classOut_loss: 0.5535 - userOut_accuracy: 0.0252 - classOut_accuracy: 0.5043 - val_loss: 4.5298 - val_userOut_loss: 4.0274 - val_classOut_loss: 0.4764 - val_userOut_accuracy: 0.0924 - val_classOut_accuracy: 0.5634\n",
            "Epoch 2/100\n",
            "207/207 [==============================] - 2s 10ms/step - loss: 4.5470 - userOut_loss: 4.0389 - classOut_loss: 0.4817 - userOut_accuracy: 0.0836 - classOut_accuracy: 0.5318 - val_loss: 3.8330 - val_userOut_loss: 3.3748 - val_classOut_loss: 0.4305 - val_userOut_accuracy: 0.2216 - val_classOut_accuracy: 0.5489\n",
            "Epoch 3/100\n",
            "207/207 [==============================] - 2s 11ms/step - loss: 4.0228 - userOut_loss: 3.5437 - classOut_loss: 0.4510 - userOut_accuracy: 0.1631 - classOut_accuracy: 0.5586 - val_loss: 3.0549 - val_userOut_loss: 2.6026 - val_classOut_loss: 0.4228 - val_userOut_accuracy: 0.3671 - val_classOut_accuracy: 0.5713\n",
            "Epoch 4/100\n",
            "207/207 [==============================] - 2s 10ms/step - loss: 3.5325 - userOut_loss: 3.0804 - classOut_loss: 0.4222 - userOut_accuracy: 0.2381 - classOut_accuracy: 0.5743 - val_loss: 2.7060 - val_userOut_loss: 2.2517 - val_classOut_loss: 0.4231 - val_userOut_accuracy: 0.4795 - val_classOut_accuracy: 0.5682\n",
            "Epoch 5/100\n",
            "207/207 [==============================] - 2s 11ms/step - loss: 3.1867 - userOut_loss: 2.7357 - classOut_loss: 0.4195 - userOut_accuracy: 0.2971 - classOut_accuracy: 0.5910 - val_loss: 2.2177 - val_userOut_loss: 1.7884 - val_classOut_loss: 0.3967 - val_userOut_accuracy: 0.5652 - val_classOut_accuracy: 0.6190\n",
            "Epoch 6/100\n",
            "207/207 [==============================] - 2s 11ms/step - loss: 2.8344 - userOut_loss: 2.4041 - classOut_loss: 0.3973 - userOut_accuracy: 0.3748 - classOut_accuracy: 0.6170 - val_loss: 1.9690 - val_userOut_loss: 1.5431 - val_classOut_loss: 0.3920 - val_userOut_accuracy: 0.6268 - val_classOut_accuracy: 0.6190\n",
            "Epoch 7/100\n",
            "207/207 [==============================] - 2s 11ms/step - loss: 2.5994 - userOut_loss: 2.1887 - classOut_loss: 0.3765 - userOut_accuracy: 0.4173 - classOut_accuracy: 0.6443 - val_loss: 1.7519 - val_userOut_loss: 1.3307 - val_classOut_loss: 0.3862 - val_userOut_accuracy: 0.6733 - val_classOut_accuracy: 0.6292\n",
            "Epoch 8/100\n",
            "207/207 [==============================] - 2s 11ms/step - loss: 2.3519 - userOut_loss: 1.9594 - classOut_loss: 0.3572 - userOut_accuracy: 0.4692 - classOut_accuracy: 0.6655 - val_loss: 1.7319 - val_userOut_loss: 1.3165 - val_classOut_loss: 0.3793 - val_userOut_accuracy: 0.6739 - val_classOut_accuracy: 0.6335\n",
            "Epoch 9/100\n",
            "207/207 [==============================] - 2s 11ms/step - loss: 2.1591 - userOut_loss: 1.7685 - classOut_loss: 0.3543 - userOut_accuracy: 0.5234 - classOut_accuracy: 0.6762 - val_loss: 1.5319 - val_userOut_loss: 1.1361 - val_classOut_loss: 0.3587 - val_userOut_accuracy: 0.7216 - val_classOut_accuracy: 0.6667\n",
            "Epoch 10/100\n",
            "207/207 [==============================] - 2s 11ms/step - loss: 1.9929 - userOut_loss: 1.6262 - classOut_loss: 0.3295 - userOut_accuracy: 0.5574 - classOut_accuracy: 0.7015 - val_loss: 1.3770 - val_userOut_loss: 0.9901 - val_classOut_loss: 0.3491 - val_userOut_accuracy: 0.7579 - val_classOut_accuracy: 0.6848\n",
            "Epoch 11/100\n",
            "207/207 [==============================] - 2s 11ms/step - loss: 1.8793 - userOut_loss: 1.5271 - classOut_loss: 0.3142 - userOut_accuracy: 0.5777 - classOut_accuracy: 0.7164 - val_loss: 1.3622 - val_userOut_loss: 0.9774 - val_classOut_loss: 0.3463 - val_userOut_accuracy: 0.7500 - val_classOut_accuracy: 0.6884\n",
            "Epoch 12/100\n",
            "207/207 [==============================] - 2s 11ms/step - loss: 1.7662 - userOut_loss: 1.4274 - classOut_loss: 0.3001 - userOut_accuracy: 0.6063 - classOut_accuracy: 0.7319 - val_loss: 1.2728 - val_userOut_loss: 0.8935 - val_classOut_loss: 0.3401 - val_userOut_accuracy: 0.7760 - val_classOut_accuracy: 0.6975\n",
            "Epoch 13/100\n",
            "207/207 [==============================] - 2s 11ms/step - loss: 1.6606 - userOut_loss: 1.3327 - classOut_loss: 0.2886 - userOut_accuracy: 0.6334 - classOut_accuracy: 0.7418 - val_loss: 1.2329 - val_userOut_loss: 0.8595 - val_classOut_loss: 0.3336 - val_userOut_accuracy: 0.7868 - val_classOut_accuracy: 0.7114\n",
            "Epoch 14/100\n",
            "207/207 [==============================] - 2s 11ms/step - loss: 1.5394 - userOut_loss: 1.2403 - classOut_loss: 0.2592 - userOut_accuracy: 0.6513 - classOut_accuracy: 0.7736 - val_loss: 1.1424 - val_userOut_loss: 0.7782 - val_classOut_loss: 0.3238 - val_userOut_accuracy: 0.8110 - val_classOut_accuracy: 0.7210\n",
            "Epoch 15/100\n",
            "207/207 [==============================] - 2s 11ms/step - loss: 1.4856 - userOut_loss: 1.1853 - classOut_loss: 0.2598 - userOut_accuracy: 0.6735 - classOut_accuracy: 0.7778 - val_loss: 1.2583 - val_userOut_loss: 0.8887 - val_classOut_loss: 0.3287 - val_userOut_accuracy: 0.7814 - val_classOut_accuracy: 0.7156\n",
            "Epoch 16/100\n",
            "207/207 [==============================] - 2s 11ms/step - loss: 1.4073 - userOut_loss: 1.1275 - classOut_loss: 0.2388 - userOut_accuracy: 0.6900 - classOut_accuracy: 0.8044 - val_loss: 1.1295 - val_userOut_loss: 0.7723 - val_classOut_loss: 0.3159 - val_userOut_accuracy: 0.8092 - val_classOut_accuracy: 0.7301\n",
            "Epoch 17/100\n",
            "207/207 [==============================] - 2s 11ms/step - loss: 1.2936 - userOut_loss: 1.0333 - classOut_loss: 0.2188 - userOut_accuracy: 0.7059 - classOut_accuracy: 0.8294 - val_loss: 1.0716 - val_userOut_loss: 0.7201 - val_classOut_loss: 0.3097 - val_userOut_accuracy: 0.8237 - val_classOut_accuracy: 0.7331\n",
            "Epoch 18/100\n",
            "207/207 [==============================] - 2s 11ms/step - loss: 1.2094 - userOut_loss: 0.9556 - classOut_loss: 0.2118 - userOut_accuracy: 0.7244 - classOut_accuracy: 0.8271 - val_loss: 1.0726 - val_userOut_loss: 0.7191 - val_classOut_loss: 0.3112 - val_userOut_accuracy: 0.8231 - val_classOut_accuracy: 0.7421\n",
            "Epoch 19/100\n",
            "207/207 [==============================] - 2s 11ms/step - loss: 1.1225 - userOut_loss: 0.8844 - classOut_loss: 0.1957 - userOut_accuracy: 0.7456 - classOut_accuracy: 0.8427 - val_loss: 1.1413 - val_userOut_loss: 0.7733 - val_classOut_loss: 0.3253 - val_userOut_accuracy: 0.8110 - val_classOut_accuracy: 0.7349\n",
            "Epoch 20/100\n",
            "207/207 [==============================] - 2s 11ms/step - loss: 1.1123 - userOut_loss: 0.8863 - classOut_loss: 0.1833 - userOut_accuracy: 0.7451 - classOut_accuracy: 0.8560 - val_loss: 1.0262 - val_userOut_loss: 0.6763 - val_classOut_loss: 0.3068 - val_userOut_accuracy: 0.8394 - val_classOut_accuracy: 0.7500\n",
            "Epoch 21/100\n",
            "207/207 [==============================] - 2s 11ms/step - loss: 1.0531 - userOut_loss: 0.8377 - classOut_loss: 0.1723 - userOut_accuracy: 0.7617 - classOut_accuracy: 0.8669 - val_loss: 1.0156 - val_userOut_loss: 0.6712 - val_classOut_loss: 0.3011 - val_userOut_accuracy: 0.8394 - val_classOut_accuracy: 0.7591\n",
            "Epoch 22/100\n",
            "207/207 [==============================] - 2s 11ms/step - loss: 0.9653 - userOut_loss: 0.7679 - classOut_loss: 0.1540 - userOut_accuracy: 0.7705 - classOut_accuracy: 0.8851 - val_loss: 1.0169 - val_userOut_loss: 0.6403 - val_classOut_loss: 0.3329 - val_userOut_accuracy: 0.8400 - val_classOut_accuracy: 0.7500\n",
            "Epoch 23/100\n",
            "207/207 [==============================] - 2s 11ms/step - loss: 0.9755 - userOut_loss: 0.7795 - classOut_loss: 0.1522 - userOut_accuracy: 0.7700 - classOut_accuracy: 0.8887 - val_loss: 0.9966 - val_userOut_loss: 0.6419 - val_classOut_loss: 0.3108 - val_userOut_accuracy: 0.8490 - val_classOut_accuracy: 0.7548\n",
            "Epoch 24/100\n",
            "207/207 [==============================] - 2s 11ms/step - loss: 0.9188 - userOut_loss: 0.7336 - classOut_loss: 0.1411 - userOut_accuracy: 0.7847 - classOut_accuracy: 0.9013 - val_loss: 0.9840 - val_userOut_loss: 0.6365 - val_classOut_loss: 0.3033 - val_userOut_accuracy: 0.8442 - val_classOut_accuracy: 0.7627\n",
            "Epoch 25/100\n",
            "207/207 [==============================] - 2s 11ms/step - loss: 0.8453 - userOut_loss: 0.6743 - classOut_loss: 0.1267 - userOut_accuracy: 0.8042 - classOut_accuracy: 0.9084 - val_loss: 1.0355 - val_userOut_loss: 0.6665 - val_classOut_loss: 0.3245 - val_userOut_accuracy: 0.8303 - val_classOut_accuracy: 0.7379\n",
            "Epoch 26/100\n",
            "207/207 [==============================] - 2s 11ms/step - loss: 0.8346 - userOut_loss: 0.6753 - classOut_loss: 0.1147 - userOut_accuracy: 0.8039 - classOut_accuracy: 0.9203 - val_loss: 1.0208 - val_userOut_loss: 0.6698 - val_classOut_loss: 0.3062 - val_userOut_accuracy: 0.8388 - val_classOut_accuracy: 0.7651\n",
            "Epoch 27/100\n",
            "207/207 [==============================] - 2s 11ms/step - loss: 0.7781 - userOut_loss: 0.6259 - classOut_loss: 0.1074 - userOut_accuracy: 0.8194 - classOut_accuracy: 0.9287 - val_loss: 0.9852 - val_userOut_loss: 0.6283 - val_classOut_loss: 0.3119 - val_userOut_accuracy: 0.8514 - val_classOut_accuracy: 0.7579\n",
            "Epoch 28/100\n",
            "207/207 [==============================] - 2s 11ms/step - loss: 0.7305 - userOut_loss: 0.5822 - classOut_loss: 0.1033 - userOut_accuracy: 0.8240 - classOut_accuracy: 0.9296 - val_loss: 1.0093 - val_userOut_loss: 0.6355 - val_classOut_loss: 0.3286 - val_userOut_accuracy: 0.8454 - val_classOut_accuracy: 0.7566\n",
            "Epoch 29/100\n",
            "207/207 [==============================] - 2s 11ms/step - loss: 0.7142 - userOut_loss: 0.5709 - classOut_loss: 0.0980 - userOut_accuracy: 0.8279 - classOut_accuracy: 0.9357 - val_loss: 0.9738 - val_userOut_loss: 0.6076 - val_classOut_loss: 0.3208 - val_userOut_accuracy: 0.8442 - val_classOut_accuracy: 0.7585\n",
            "Epoch 30/100\n",
            "207/207 [==============================] - 2s 11ms/step - loss: 0.6725 - userOut_loss: 0.5413 - classOut_loss: 0.0857 - userOut_accuracy: 0.8424 - classOut_accuracy: 0.9468 - val_loss: 0.9813 - val_userOut_loss: 0.6031 - val_classOut_loss: 0.3326 - val_userOut_accuracy: 0.8490 - val_classOut_accuracy: 0.7699\n",
            "Epoch 31/100\n",
            "207/207 [==============================] - 2s 11ms/step - loss: 0.6755 - userOut_loss: 0.5454 - classOut_loss: 0.0845 - userOut_accuracy: 0.8431 - classOut_accuracy: 0.9489 - val_loss: 0.9900 - val_userOut_loss: 0.5977 - val_classOut_loss: 0.3466 - val_userOut_accuracy: 0.8521 - val_classOut_accuracy: 0.7609\n",
            "Epoch 32/100\n",
            "207/207 [==============================] - 2s 11ms/step - loss: 0.6091 - userOut_loss: 0.4819 - classOut_loss: 0.0815 - userOut_accuracy: 0.8547 - classOut_accuracy: 0.9490 - val_loss: 0.9680 - val_userOut_loss: 0.5846 - val_classOut_loss: 0.3376 - val_userOut_accuracy: 0.8623 - val_classOut_accuracy: 0.7639\n",
            "Epoch 33/100\n",
            "207/207 [==============================] - 2s 11ms/step - loss: 0.5723 - userOut_loss: 0.4507 - classOut_loss: 0.0757 - userOut_accuracy: 0.8634 - classOut_accuracy: 0.9528 - val_loss: 1.0078 - val_userOut_loss: 0.6265 - val_classOut_loss: 0.3353 - val_userOut_accuracy: 0.8508 - val_classOut_accuracy: 0.7603\n",
            "Epoch 34/100\n",
            "207/207 [==============================] - 2s 11ms/step - loss: 0.5956 - userOut_loss: 0.4777 - classOut_loss: 0.0719 - userOut_accuracy: 0.8577 - classOut_accuracy: 0.9566 - val_loss: 0.9961 - val_userOut_loss: 0.5843 - val_classOut_loss: 0.3656 - val_userOut_accuracy: 0.8551 - val_classOut_accuracy: 0.7669\n",
            "Epoch 35/100\n",
            "207/207 [==============================] - 2s 11ms/step - loss: 0.5626 - userOut_loss: 0.4489 - classOut_loss: 0.0676 - userOut_accuracy: 0.8564 - classOut_accuracy: 0.9615 - val_loss: 1.0012 - val_userOut_loss: 0.6048 - val_classOut_loss: 0.3501 - val_userOut_accuracy: 0.8454 - val_classOut_accuracy: 0.7651\n",
            "Epoch 36/100\n",
            "207/207 [==============================] - 2s 11ms/step - loss: 0.5615 - userOut_loss: 0.4516 - classOut_loss: 0.0635 - userOut_accuracy: 0.8564 - classOut_accuracy: 0.9643 - val_loss: 1.0427 - val_userOut_loss: 0.6239 - val_classOut_loss: 0.3724 - val_userOut_accuracy: 0.8581 - val_classOut_accuracy: 0.7669\n",
            "Epoch 37/100\n",
            "207/207 [==============================] - 2s 11ms/step - loss: 0.5130 - userOut_loss: 0.4054 - classOut_loss: 0.0612 - userOut_accuracy: 0.8816 - classOut_accuracy: 0.9668 - val_loss: 1.0669 - val_userOut_loss: 0.5954 - val_classOut_loss: 0.4250 - val_userOut_accuracy: 0.8490 - val_classOut_accuracy: 0.7542\n",
            "Epoch 38/100\n",
            "207/207 [==============================] - 2s 11ms/step - loss: 0.5041 - userOut_loss: 0.3968 - classOut_loss: 0.0608 - userOut_accuracy: 0.8816 - classOut_accuracy: 0.9648 - val_loss: 0.9609 - val_userOut_loss: 0.5643 - val_classOut_loss: 0.3499 - val_userOut_accuracy: 0.8514 - val_classOut_accuracy: 0.7566\n",
            "Epoch 39/100\n",
            "207/207 [==============================] - 2s 11ms/step - loss: 0.5189 - userOut_loss: 0.4172 - classOut_loss: 0.0551 - userOut_accuracy: 0.8738 - classOut_accuracy: 0.9707 - val_loss: 1.0698 - val_userOut_loss: 0.6398 - val_classOut_loss: 0.3833 - val_userOut_accuracy: 0.8484 - val_classOut_accuracy: 0.7548\n",
            "Epoch 40/100\n",
            "207/207 [==============================] - 2s 11ms/step - loss: 0.4617 - userOut_loss: 0.3664 - classOut_loss: 0.0485 - userOut_accuracy: 0.8877 - classOut_accuracy: 0.9726 - val_loss: 1.0522 - val_userOut_loss: 0.6069 - val_classOut_loss: 0.3986 - val_userOut_accuracy: 0.8575 - val_classOut_accuracy: 0.7651\n",
            "Epoch 41/100\n",
            "207/207 [==============================] - 2s 11ms/step - loss: 0.4730 - userOut_loss: 0.3736 - classOut_loss: 0.0526 - userOut_accuracy: 0.8893 - classOut_accuracy: 0.9710 - val_loss: 1.0160 - val_userOut_loss: 0.5535 - val_classOut_loss: 0.4157 - val_userOut_accuracy: 0.8647 - val_classOut_accuracy: 0.7627\n",
            "Epoch 42/100\n",
            "207/207 [==============================] - 2s 11ms/step - loss: 0.4800 - userOut_loss: 0.3854 - classOut_loss: 0.0477 - userOut_accuracy: 0.8813 - classOut_accuracy: 0.9761 - val_loss: 1.0378 - val_userOut_loss: 0.6033 - val_classOut_loss: 0.3876 - val_userOut_accuracy: 0.8448 - val_classOut_accuracy: 0.7651\n",
            "Epoch 43/100\n",
            "207/207 [==============================] - 2s 11ms/step - loss: 0.4281 - userOut_loss: 0.3330 - classOut_loss: 0.0481 - userOut_accuracy: 0.9015 - classOut_accuracy: 0.9718 - val_loss: 1.0241 - val_userOut_loss: 0.5982 - val_classOut_loss: 0.3789 - val_userOut_accuracy: 0.8629 - val_classOut_accuracy: 0.7693\n",
            "Epoch 44/100\n",
            "207/207 [==============================] - 2s 11ms/step - loss: 0.4365 - userOut_loss: 0.3477 - classOut_loss: 0.0418 - userOut_accuracy: 0.8942 - classOut_accuracy: 0.9785 - val_loss: 1.0328 - val_userOut_loss: 0.5734 - val_classOut_loss: 0.4122 - val_userOut_accuracy: 0.8605 - val_classOut_accuracy: 0.7687\n",
            "Epoch 45/100\n",
            "207/207 [==============================] - 2s 11ms/step - loss: 0.4163 - userOut_loss: 0.3241 - classOut_loss: 0.0451 - userOut_accuracy: 0.8972 - classOut_accuracy: 0.9803 - val_loss: 1.0222 - val_userOut_loss: 0.5841 - val_classOut_loss: 0.3910 - val_userOut_accuracy: 0.8726 - val_classOut_accuracy: 0.7711\n",
            "Epoch 46/100\n",
            "207/207 [==============================] - 2s 11ms/step - loss: 0.3925 - userOut_loss: 0.3029 - classOut_loss: 0.0425 - userOut_accuracy: 0.9070 - classOut_accuracy: 0.9773 - val_loss: 1.0337 - val_userOut_loss: 0.5912 - val_classOut_loss: 0.3953 - val_userOut_accuracy: 0.8641 - val_classOut_accuracy: 0.7542\n",
            "Epoch 47/100\n",
            "207/207 [==============================] - 2s 11ms/step - loss: 0.3892 - userOut_loss: 0.3099 - classOut_loss: 0.0321 - userOut_accuracy: 0.9035 - classOut_accuracy: 0.9865 - val_loss: 1.0072 - val_userOut_loss: 0.5845 - val_classOut_loss: 0.3755 - val_userOut_accuracy: 0.8671 - val_classOut_accuracy: 0.7729\n",
            "Epoch 48/100\n",
            "207/207 [==============================] - 2s 11ms/step - loss: 0.3633 - userOut_loss: 0.2819 - classOut_loss: 0.0341 - userOut_accuracy: 0.9158 - classOut_accuracy: 0.9851 - val_loss: 1.0347 - val_userOut_loss: 0.5841 - val_classOut_loss: 0.4033 - val_userOut_accuracy: 0.8671 - val_classOut_accuracy: 0.7699\n",
            "Epoch 49/100\n",
            "207/207 [==============================] - 2s 11ms/step - loss: 0.3658 - userOut_loss: 0.2843 - classOut_loss: 0.0342 - userOut_accuracy: 0.9173 - classOut_accuracy: 0.9832 - val_loss: 1.0395 - val_userOut_loss: 0.5852 - val_classOut_loss: 0.4069 - val_userOut_accuracy: 0.8641 - val_classOut_accuracy: 0.7621\n",
            "Epoch 50/100\n",
            "207/207 [==============================] - 2s 11ms/step - loss: 0.3542 - userOut_loss: 0.2731 - classOut_loss: 0.0338 - userOut_accuracy: 0.9122 - classOut_accuracy: 0.9875 - val_loss: 1.0466 - val_userOut_loss: 0.5978 - val_classOut_loss: 0.4014 - val_userOut_accuracy: 0.8641 - val_classOut_accuracy: 0.7597\n",
            "Epoch 51/100\n",
            "207/207 [==============================] - 2s 11ms/step - loss: 0.3266 - userOut_loss: 0.2488 - classOut_loss: 0.0304 - userOut_accuracy: 0.9254 - classOut_accuracy: 0.9876 - val_loss: 1.1773 - val_userOut_loss: 0.7016 - val_classOut_loss: 0.4282 - val_userOut_accuracy: 0.8291 - val_classOut_accuracy: 0.7597\n",
            "Epoch 52/100\n",
            "207/207 [==============================] - 2s 11ms/step - loss: 0.3555 - userOut_loss: 0.2778 - classOut_loss: 0.0303 - userOut_accuracy: 0.9170 - classOut_accuracy: 0.9868 - val_loss: 1.1541 - val_userOut_loss: 0.6837 - val_classOut_loss: 0.4229 - val_userOut_accuracy: 0.8514 - val_classOut_accuracy: 0.7621\n",
            "Epoch 53/100\n",
            "207/207 [==============================] - 2s 11ms/step - loss: 0.3408 - userOut_loss: 0.2632 - classOut_loss: 0.0301 - userOut_accuracy: 0.9172 - classOut_accuracy: 0.9875 - val_loss: 1.0642 - val_userOut_loss: 0.6062 - val_classOut_loss: 0.4105 - val_userOut_accuracy: 0.8678 - val_classOut_accuracy: 0.7681\n",
            "Epoch 54/100\n",
            "207/207 [==============================] - 2s 11ms/step - loss: 0.3508 - userOut_loss: 0.2709 - classOut_loss: 0.0324 - userOut_accuracy: 0.9153 - classOut_accuracy: 0.9874 - val_loss: 1.0098 - val_userOut_loss: 0.5623 - val_classOut_loss: 0.3999 - val_userOut_accuracy: 0.8696 - val_classOut_accuracy: 0.7693\n",
            "Epoch 55/100\n",
            "207/207 [==============================] - 2s 11ms/step - loss: 0.3115 - userOut_loss: 0.2385 - classOut_loss: 0.0255 - userOut_accuracy: 0.9215 - classOut_accuracy: 0.9905 - val_loss: 1.0267 - val_userOut_loss: 0.5826 - val_classOut_loss: 0.3966 - val_userOut_accuracy: 0.8671 - val_classOut_accuracy: 0.7693\n",
            "Epoch 56/100\n",
            "207/207 [==============================] - 2s 11ms/step - loss: 0.3182 - userOut_loss: 0.2416 - classOut_loss: 0.0290 - userOut_accuracy: 0.9241 - classOut_accuracy: 0.9861 - val_loss: 1.0752 - val_userOut_loss: 0.6062 - val_classOut_loss: 0.4214 - val_userOut_accuracy: 0.8641 - val_classOut_accuracy: 0.7657\n",
            "Epoch 57/100\n",
            "207/207 [==============================] - 2s 11ms/step - loss: 0.3053 - userOut_loss: 0.2315 - classOut_loss: 0.0262 - userOut_accuracy: 0.9314 - classOut_accuracy: 0.9866 - val_loss: 1.0725 - val_userOut_loss: 0.5984 - val_classOut_loss: 0.4265 - val_userOut_accuracy: 0.8659 - val_classOut_accuracy: 0.7615\n",
            "Epoch 58/100\n",
            "207/207 [==============================] - 2s 11ms/step - loss: 0.3059 - userOut_loss: 0.2353 - classOut_loss: 0.0230 - userOut_accuracy: 0.9338 - classOut_accuracy: 0.9922 - val_loss: 1.1079 - val_userOut_loss: 0.5956 - val_classOut_loss: 0.4646 - val_userOut_accuracy: 0.8647 - val_classOut_accuracy: 0.7669\n",
            "Epoch 59/100\n",
            "207/207 [==============================] - 2s 11ms/step - loss: 0.2943 - userOut_loss: 0.2257 - classOut_loss: 0.0209 - userOut_accuracy: 0.9275 - classOut_accuracy: 0.9937 - val_loss: 1.0463 - val_userOut_loss: 0.5930 - val_classOut_loss: 0.4056 - val_userOut_accuracy: 0.8720 - val_classOut_accuracy: 0.7609\n",
            "Epoch 60/100\n",
            "207/207 [==============================] - 2s 11ms/step - loss: 0.3027 - userOut_loss: 0.2348 - classOut_loss: 0.0202 - userOut_accuracy: 0.9248 - classOut_accuracy: 0.9916 - val_loss: 1.0609 - val_userOut_loss: 0.5938 - val_classOut_loss: 0.4194 - val_userOut_accuracy: 0.8629 - val_classOut_accuracy: 0.7742\n",
            "Epoch 61/100\n",
            "207/207 [==============================] - 2s 11ms/step - loss: 0.2912 - userOut_loss: 0.2213 - classOut_loss: 0.0222 - userOut_accuracy: 0.9346 - classOut_accuracy: 0.9929 - val_loss: 1.0637 - val_userOut_loss: 0.6102 - val_classOut_loss: 0.4058 - val_userOut_accuracy: 0.8671 - val_classOut_accuracy: 0.7663\n",
            "Epoch 62/100\n",
            "207/207 [==============================] - 2s 11ms/step - loss: 0.3010 - userOut_loss: 0.2304 - classOut_loss: 0.0229 - userOut_accuracy: 0.9339 - classOut_accuracy: 0.9909 - val_loss: 1.0935 - val_userOut_loss: 0.6189 - val_classOut_loss: 0.4269 - val_userOut_accuracy: 0.8599 - val_classOut_accuracy: 0.7681\n",
            "Epoch 63/100\n",
            "207/207 [==============================] - 2s 11ms/step - loss: 0.2754 - userOut_loss: 0.2070 - classOut_loss: 0.0207 - userOut_accuracy: 0.9377 - classOut_accuracy: 0.9907 - val_loss: 1.1296 - val_userOut_loss: 0.6194 - val_classOut_loss: 0.4625 - val_userOut_accuracy: 0.8659 - val_classOut_accuracy: 0.7446\n",
            "Epoch 64/100\n",
            "207/207 [==============================] - 2s 11ms/step - loss: 0.2774 - userOut_loss: 0.2111 - classOut_loss: 0.0186 - userOut_accuracy: 0.9362 - classOut_accuracy: 0.9938 - val_loss: 1.0817 - val_userOut_loss: 0.6012 - val_classOut_loss: 0.4328 - val_userOut_accuracy: 0.8623 - val_classOut_accuracy: 0.7597\n",
            "Epoch 65/100\n",
            "207/207 [==============================] - 2s 11ms/step - loss: 0.2967 - userOut_loss: 0.2263 - classOut_loss: 0.0226 - userOut_accuracy: 0.9301 - classOut_accuracy: 0.9895 - val_loss: 1.1073 - val_userOut_loss: 0.6190 - val_classOut_loss: 0.4406 - val_userOut_accuracy: 0.8629 - val_classOut_accuracy: 0.7748\n",
            "Epoch 66/100\n",
            "207/207 [==============================] - 2s 11ms/step - loss: 0.2731 - userOut_loss: 0.2044 - classOut_loss: 0.0209 - userOut_accuracy: 0.9404 - classOut_accuracy: 0.9905 - val_loss: 1.1045 - val_userOut_loss: 0.6344 - val_classOut_loss: 0.4224 - val_userOut_accuracy: 0.8617 - val_classOut_accuracy: 0.7729\n",
            "Epoch 67/100\n",
            "207/207 [==============================] - 2s 11ms/step - loss: 0.2453 - userOut_loss: 0.1781 - classOut_loss: 0.0194 - userOut_accuracy: 0.9441 - classOut_accuracy: 0.9935 - val_loss: 1.1085 - val_userOut_loss: 0.6106 - val_classOut_loss: 0.4501 - val_userOut_accuracy: 0.8641 - val_classOut_accuracy: 0.7766\n",
            "Epoch 68/100\n",
            "207/207 [==============================] - 2s 11ms/step - loss: 0.2683 - userOut_loss: 0.2027 - classOut_loss: 0.0179 - userOut_accuracy: 0.9337 - classOut_accuracy: 0.9940 - val_loss: 1.1927 - val_userOut_loss: 0.6799 - val_classOut_loss: 0.4650 - val_userOut_accuracy: 0.8551 - val_classOut_accuracy: 0.7675\n",
            "Epoch 69/100\n",
            "207/207 [==============================] - 2s 11ms/step - loss: 0.2626 - userOut_loss: 0.1971 - classOut_loss: 0.0178 - userOut_accuracy: 0.9390 - classOut_accuracy: 0.9940 - val_loss: 1.0611 - val_userOut_loss: 0.5717 - val_classOut_loss: 0.4415 - val_userOut_accuracy: 0.8732 - val_classOut_accuracy: 0.7729\n",
            "Epoch 70/100\n",
            "207/207 [==============================] - 2s 11ms/step - loss: 0.2641 - userOut_loss: 0.1994 - classOut_loss: 0.0169 - userOut_accuracy: 0.9351 - classOut_accuracy: 0.9953 - val_loss: 1.0899 - val_userOut_loss: 0.6117 - val_classOut_loss: 0.4304 - val_userOut_accuracy: 0.8629 - val_classOut_accuracy: 0.7633\n",
            "Epoch 71/100\n",
            "207/207 [==============================] - 2s 11ms/step - loss: 0.2516 - userOut_loss: 0.1853 - classOut_loss: 0.0185 - userOut_accuracy: 0.9417 - classOut_accuracy: 0.9919 - val_loss: 1.1548 - val_userOut_loss: 0.6218 - val_classOut_loss: 0.4852 - val_userOut_accuracy: 0.8684 - val_classOut_accuracy: 0.7693\n",
            "Epoch 72/100\n",
            "207/207 [==============================] - 2s 11ms/step - loss: 0.2713 - userOut_loss: 0.2056 - classOut_loss: 0.0179 - userOut_accuracy: 0.9365 - classOut_accuracy: 0.9938 - val_loss: 1.1125 - val_userOut_loss: 0.6174 - val_classOut_loss: 0.4473 - val_userOut_accuracy: 0.8623 - val_classOut_accuracy: 0.7742\n",
            "Epoch 73/100\n",
            "207/207 [==============================] - 2s 11ms/step - loss: 0.2483 - userOut_loss: 0.1851 - classOut_loss: 0.0154 - userOut_accuracy: 0.9429 - classOut_accuracy: 0.9959 - val_loss: 1.1137 - val_userOut_loss: 0.6225 - val_classOut_loss: 0.4434 - val_userOut_accuracy: 0.8587 - val_classOut_accuracy: 0.7627\n",
            "Epoch 74/100\n",
            "207/207 [==============================] - 2s 11ms/step - loss: 0.2444 - userOut_loss: 0.1791 - classOut_loss: 0.0175 - userOut_accuracy: 0.9392 - classOut_accuracy: 0.9921 - val_loss: 1.1297 - val_userOut_loss: 0.6230 - val_classOut_loss: 0.4589 - val_userOut_accuracy: 0.8726 - val_classOut_accuracy: 0.7802\n",
            "Epoch 75/100\n",
            "207/207 [==============================] - 2s 11ms/step - loss: 0.2562 - userOut_loss: 0.1913 - classOut_loss: 0.0171 - userOut_accuracy: 0.9418 - classOut_accuracy: 0.9935 - val_loss: 1.1730 - val_userOut_loss: 0.6827 - val_classOut_loss: 0.4424 - val_userOut_accuracy: 0.8514 - val_classOut_accuracy: 0.7711\n",
            "Epoch 76/100\n",
            "207/207 [==============================] - 2s 11ms/step - loss: 0.2363 - userOut_loss: 0.1750 - classOut_loss: 0.0135 - userOut_accuracy: 0.9468 - classOut_accuracy: 0.9955 - val_loss: 1.1293 - val_userOut_loss: 0.5986 - val_classOut_loss: 0.4828 - val_userOut_accuracy: 0.8659 - val_classOut_accuracy: 0.7687\n",
            "Epoch 77/100\n",
            "207/207 [==============================] - 2s 11ms/step - loss: 0.2309 - userOut_loss: 0.1696 - classOut_loss: 0.0134 - userOut_accuracy: 0.9452 - classOut_accuracy: 0.9969 - val_loss: 1.1473 - val_userOut_loss: 0.6439 - val_classOut_loss: 0.4556 - val_userOut_accuracy: 0.8575 - val_classOut_accuracy: 0.7542\n",
            "Epoch 78/100\n",
            "207/207 [==============================] - 2s 11ms/step - loss: 0.2525 - userOut_loss: 0.1909 - classOut_loss: 0.0137 - userOut_accuracy: 0.9415 - classOut_accuracy: 0.9975 - val_loss: 1.1091 - val_userOut_loss: 0.6000 - val_classOut_loss: 0.4613 - val_userOut_accuracy: 0.8684 - val_classOut_accuracy: 0.7705\n",
            "Epoch 79/100\n",
            "207/207 [==============================] - 2s 11ms/step - loss: 0.2383 - userOut_loss: 0.1747 - classOut_loss: 0.0157 - userOut_accuracy: 0.9465 - classOut_accuracy: 0.9922 - val_loss: 1.1378 - val_userOut_loss: 0.6218 - val_classOut_loss: 0.4682 - val_userOut_accuracy: 0.8665 - val_classOut_accuracy: 0.7585\n",
            "Epoch 80/100\n",
            "207/207 [==============================] - 2s 11ms/step - loss: 0.2337 - userOut_loss: 0.1723 - classOut_loss: 0.0136 - userOut_accuracy: 0.9496 - classOut_accuracy: 0.9953 - val_loss: 1.1593 - val_userOut_loss: 0.6311 - val_classOut_loss: 0.4803 - val_userOut_accuracy: 0.8605 - val_classOut_accuracy: 0.7693\n",
            "Epoch 81/100\n",
            "207/207 [==============================] - 2s 11ms/step - loss: 0.2337 - userOut_loss: 0.1718 - classOut_loss: 0.0141 - userOut_accuracy: 0.9418 - classOut_accuracy: 0.9956 - val_loss: 1.1578 - val_userOut_loss: 0.6252 - val_classOut_loss: 0.4847 - val_userOut_accuracy: 0.8641 - val_classOut_accuracy: 0.7693\n",
            "Epoch 82/100\n",
            "207/207 [==============================] - 2s 11ms/step - loss: 0.2387 - userOut_loss: 0.1751 - classOut_loss: 0.0158 - userOut_accuracy: 0.9436 - classOut_accuracy: 0.9956 - val_loss: 1.1942 - val_userOut_loss: 0.6616 - val_classOut_loss: 0.4847 - val_userOut_accuracy: 0.8575 - val_classOut_accuracy: 0.7627\n",
            "Epoch 83/100\n",
            "207/207 [==============================] - 2s 10ms/step - loss: 0.2525 - userOut_loss: 0.1898 - classOut_loss: 0.0148 - userOut_accuracy: 0.9421 - classOut_accuracy: 0.9940 - val_loss: 1.2228 - val_userOut_loss: 0.6673 - val_classOut_loss: 0.5076 - val_userOut_accuracy: 0.8581 - val_classOut_accuracy: 0.7657\n",
            "Epoch 84/100\n",
            "207/207 [==============================] - 2s 11ms/step - loss: 0.2098 - userOut_loss: 0.1484 - classOut_loss: 0.0135 - userOut_accuracy: 0.9523 - classOut_accuracy: 0.9970 - val_loss: 1.1349 - val_userOut_loss: 0.6225 - val_classOut_loss: 0.4645 - val_userOut_accuracy: 0.8629 - val_classOut_accuracy: 0.7542\n",
            "Epoch 85/100\n",
            "207/207 [==============================] - 2s 11ms/step - loss: 0.2536 - userOut_loss: 0.1918 - classOut_loss: 0.0139 - userOut_accuracy: 0.9395 - classOut_accuracy: 0.9961 - val_loss: 1.1422 - val_userOut_loss: 0.6236 - val_classOut_loss: 0.4707 - val_userOut_accuracy: 0.8659 - val_classOut_accuracy: 0.7705\n",
            "Epoch 86/100\n",
            "207/207 [==============================] - 2s 11ms/step - loss: 0.2049 - userOut_loss: 0.1427 - classOut_loss: 0.0144 - userOut_accuracy: 0.9566 - classOut_accuracy: 0.9960 - val_loss: 1.2142 - val_userOut_loss: 0.6390 - val_classOut_loss: 0.5273 - val_userOut_accuracy: 0.8599 - val_classOut_accuracy: 0.7705\n",
            "Epoch 87/100\n",
            "207/207 [==============================] - 2s 11ms/step - loss: 0.2212 - userOut_loss: 0.1620 - classOut_loss: 0.0114 - userOut_accuracy: 0.9519 - classOut_accuracy: 0.9979 - val_loss: 1.1236 - val_userOut_loss: 0.6026 - val_classOut_loss: 0.4732 - val_userOut_accuracy: 0.8756 - val_classOut_accuracy: 0.7723\n",
            "Epoch 88/100\n",
            "207/207 [==============================] - 2s 11ms/step - loss: 0.2193 - userOut_loss: 0.1592 - classOut_loss: 0.0122 - userOut_accuracy: 0.9499 - classOut_accuracy: 0.9969 - val_loss: 1.1561 - val_userOut_loss: 0.6282 - val_classOut_loss: 0.4800 - val_userOut_accuracy: 0.8659 - val_classOut_accuracy: 0.7633\n",
            "Epoch 89/100\n",
            "207/207 [==============================] - 2s 11ms/step - loss: 0.2225 - userOut_loss: 0.1600 - classOut_loss: 0.0147 - userOut_accuracy: 0.9516 - classOut_accuracy: 0.9953 - val_loss: 1.2279 - val_userOut_loss: 0.6953 - val_classOut_loss: 0.4847 - val_userOut_accuracy: 0.8653 - val_classOut_accuracy: 0.7748\n",
            "Epoch 90/100\n",
            "207/207 [==============================] - 2s 11ms/step - loss: 0.2061 - userOut_loss: 0.1459 - classOut_loss: 0.0124 - userOut_accuracy: 0.9567 - classOut_accuracy: 0.9946 - val_loss: 1.2111 - val_userOut_loss: 0.6407 - val_classOut_loss: 0.5226 - val_userOut_accuracy: 0.8611 - val_classOut_accuracy: 0.7711\n",
            "Epoch 91/100\n",
            "207/207 [==============================] - 2s 11ms/step - loss: 0.2010 - userOut_loss: 0.1406 - classOut_loss: 0.0125 - userOut_accuracy: 0.9551 - classOut_accuracy: 0.9961 - val_loss: 1.1259 - val_userOut_loss: 0.6154 - val_classOut_loss: 0.4626 - val_userOut_accuracy: 0.8684 - val_classOut_accuracy: 0.7760\n",
            "Epoch 92/100\n",
            "207/207 [==============================] - 2s 11ms/step - loss: 0.2029 - userOut_loss: 0.1423 - classOut_loss: 0.0127 - userOut_accuracy: 0.9589 - classOut_accuracy: 0.9957 - val_loss: 1.1567 - val_userOut_loss: 0.6270 - val_classOut_loss: 0.4818 - val_userOut_accuracy: 0.8678 - val_classOut_accuracy: 0.7603\n",
            "Epoch 93/100\n",
            "207/207 [==============================] - 2s 11ms/step - loss: 0.1906 - userOut_loss: 0.1300 - classOut_loss: 0.0128 - userOut_accuracy: 0.9611 - classOut_accuracy: 0.9958 - val_loss: 1.1461 - val_userOut_loss: 0.6154 - val_classOut_loss: 0.4829 - val_userOut_accuracy: 0.8587 - val_classOut_accuracy: 0.7633\n",
            "Epoch 94/100\n",
            "207/207 [==============================] - 2s 11ms/step - loss: 0.2079 - userOut_loss: 0.1471 - classOut_loss: 0.0129 - userOut_accuracy: 0.9549 - classOut_accuracy: 0.9966 - val_loss: 1.1709 - val_userOut_loss: 0.6457 - val_classOut_loss: 0.4773 - val_userOut_accuracy: 0.8623 - val_classOut_accuracy: 0.7705\n",
            "Epoch 95/100\n",
            "207/207 [==============================] - 2s 11ms/step - loss: 0.1788 - userOut_loss: 0.1193 - classOut_loss: 0.0116 - userOut_accuracy: 0.9634 - classOut_accuracy: 0.9970 - val_loss: 1.1996 - val_userOut_loss: 0.6396 - val_classOut_loss: 0.5122 - val_userOut_accuracy: 0.8635 - val_classOut_accuracy: 0.7736\n",
            "Epoch 96/100\n",
            "207/207 [==============================] - 2s 11ms/step - loss: 0.1952 - userOut_loss: 0.1374 - classOut_loss: 0.0099 - userOut_accuracy: 0.9549 - classOut_accuracy: 0.9973 - val_loss: 1.1945 - val_userOut_loss: 0.6540 - val_classOut_loss: 0.4926 - val_userOut_accuracy: 0.8605 - val_classOut_accuracy: 0.7470\n",
            "Epoch 97/100\n",
            "207/207 [==============================] - 2s 11ms/step - loss: 0.2109 - userOut_loss: 0.1475 - classOut_loss: 0.0155 - userOut_accuracy: 0.9583 - classOut_accuracy: 0.9931 - val_loss: 1.1408 - val_userOut_loss: 0.6058 - val_classOut_loss: 0.4871 - val_userOut_accuracy: 0.8708 - val_classOut_accuracy: 0.7693\n",
            "Epoch 98/100\n",
            "207/207 [==============================] - 2s 11ms/step - loss: 0.2004 - userOut_loss: 0.1416 - classOut_loss: 0.0110 - userOut_accuracy: 0.9549 - classOut_accuracy: 0.9969 - val_loss: 1.1466 - val_userOut_loss: 0.6149 - val_classOut_loss: 0.4839 - val_userOut_accuracy: 0.8726 - val_classOut_accuracy: 0.7693\n",
            "Epoch 99/100\n",
            "207/207 [==============================] - 2s 11ms/step - loss: 0.1922 - userOut_loss: 0.1344 - classOut_loss: 0.0099 - userOut_accuracy: 0.9561 - classOut_accuracy: 0.9967 - val_loss: 1.1980 - val_userOut_loss: 0.6511 - val_classOut_loss: 0.4990 - val_userOut_accuracy: 0.8732 - val_classOut_accuracy: 0.7760\n",
            "Epoch 100/100\n",
            "207/207 [==============================] - 2s 11ms/step - loss: 0.1764 - userOut_loss: 0.1187 - classOut_loss: 0.0099 - userOut_accuracy: 0.9653 - classOut_accuracy: 0.9970 - val_loss: 1.1684 - val_userOut_loss: 0.6288 - val_classOut_loss: 0.4918 - val_userOut_accuracy: 0.8702 - val_classOut_accuracy: 0.7742\n"
          ],
          "name": "stdout"
        },
        {
          "output_type": "execute_result",
          "data": {
            "text/plain": [
              "<tensorflow.python.keras.callbacks.History at 0x7fb60ac8f438>"
            ]
          },
          "metadata": {
            "tags": []
          },
          "execution_count": 34
        }
      ]
    },
    {
      "cell_type": "code",
      "metadata": {
        "id": "uS0VOEhlwXtX",
        "colab": {
          "base_uri": "https://localhost:8080/",
          "height": 265
        },
        "outputId": "06c0d714-4177-4e44-e1a0-07ce1864b25b"
      },
      "source": [
        "plt.plot(val_userOut_acc,'r.-')\n",
        "plt.plot(val_classOut_acc,'b.-')\n",
        "plt.plot(model_reg.history.history['val_userOut_accuracy'],'m.-')\n",
        "plt.plot(model_reg.history.history['val_classOut_accuracy'],'y.-')\n",
        "plt.legend(['User\\'s Acc','Classes\\'s Acc', 'User Acc Regularization','Class Acc Regularization'])\n",
        "plt.show()"
      ],
      "execution_count": null,
      "outputs": [
        {
          "output_type": "display_data",
          "data": {
            "image/png": "[encoded data removed]",
            "text/plain": [
              "<Figure size 432x288 with 1 Axes>"
            ]
          },
          "metadata": {
            "tags": [],
            "needs_background": "light"
          }
        }
      ]
    },
    {
      "cell_type": "code",
      "metadata": {
        "id": "ekhMaY5JwpjZ",
        "colab": {
          "base_uri": "https://localhost:8080/",
          "height": 265
        },
        "outputId": "d1ed4248-2ca9-4de2-ce82-1d4278af48b6"
      },
      "source": [
        "plt.plot(val_userOut_loss,'r.-')\n",
        "plt.plot(val_classOut_loss,'b.-')\n",
        "plt.plot(model_reg.history.history['val_userOut_loss'],'m.-')\n",
        "plt.plot(model_reg.history.history['val_classOut_loss'],'y.-')\n",
        "plt.legend(['User\\'s loss','Classes\\'s loss', 'User loss Regularization','Class loss Regularization'])\n",
        "plt.show()"
      ],
      "execution_count": null,
      "outputs": [
        {
          "output_type": "display_data",
          "data": {
            "image/png": "[encoded data removed]",
            "text/plain": [
              "<Figure size 432x288 with 1 Axes>"
            ]
          },
          "metadata": {
            "tags": [],
            "needs_background": "light"
          }
        }
      ]
    },
    {
      "cell_type": "code",
      "metadata": {
        "id": "gPZqzL5CyKqt",
        "colab": {
          "base_uri": "https://localhost:8080/"
        },
        "outputId": "64780be5-2a31-4e7a-9fe9-376e162245ec"
      },
      "source": [
        "!ls -l"
      ],
      "execution_count": null,
      "outputs": [
        {
          "output_type": "stream",
          "text": [
            "total 782009\n",
            "-rw------- 1 root root      2500 Nov 26  2018 11-26-2018-SadeceDogruImza-Acc\n",
            "-rw------- 1 root root  97958392 Nov 26  2018 11-26-2018-SadeceDogruImza-Agirliklar.h5\n",
            "-rw------- 1 root root      2500 Nov 26  2018 11-26-2018-SadeceDogruImza-Loss\n",
            "-rw------- 1 root root 109400440 Dec 11  2018 500_model_weights.h5\n",
            "-rw------- 1 root root      2500 Nov 25  2018 Amodel_100E_class_val_acc\n",
            "-rw------- 1 root root      2500 Nov 25  2018 Amodel_100E_class_val_loss\n",
            "-rw------- 1 root root 109123576 Nov 25  2018 Amodel_100E.h5\n",
            "-rw------- 1 root root      2500 Nov 25  2018 Amodel_100E_model_val_loss\n",
            "-rw------- 1 root root      2500 Nov 25  2018 Amodel_100E_user_val_acc\n",
            "-rw------- 1 root root      2500 Nov 25  2018 Amodel_100E_user_val_loss\n",
            "-rw------- 1 root root   8480768 Nov 25  2018 class_features_train_test.h5\n",
            "-rw------- 1 root root  27788624 Nov 25  2018 first_model_89-88.h5\n",
            "-rw------- 1 root root   6312116 Nov 18  2018 Genuine96.npz\n",
            "-rw------- 1 root root  61567180 Nov 24  2018 Genuine.npz\n",
            "-rw------- 1 root root     86136 Nov 24  2018 labels_class_a.txt\n",
            "-rw------- 1 root root     41904 Nov 22  2018 labels_class.txt\n",
            "-rw------- 1 root root    171810 Nov 24  2018 labels_names_a.txt\n",
            "-rw------- 1 root root     80730 Nov 22  2018 labels_names.txt\n",
            "-rw------- 1 root root     80730 Nov 18  2018 labels.txt\n",
            "-rw------- 1 root root      2500 Nov 23  2018 model_100E_class_val_acc\n",
            "-rw------- 1 root root      2500 Nov 23  2018 model_100E_class_val_loss\n",
            "-rw------- 1 root root 109123928 Nov 23  2018 model_100E.h5\n",
            "-rw------- 1 root root      2500 Nov 23  2018 model_100E_model_val_loss\n",
            "-rw------- 1 root root      2500 Nov 23  2018 model_100E_user_val_acc\n",
            "-rw------- 1 root root      2500 Nov 23  2018 model_100E_user_val_loss\n",
            "-rw------- 1 root root      2500 Nov 25  2018 model2_100E_class_val_acc\n",
            "-rw------- 1 root root      2500 Nov 25  2018 model2_100E_class_val_loss\n",
            "-rw------- 1 root root 109399312 Nov 27  2018 model2_100E.h5\n",
            "-rw------- 1 root root      2500 Nov 25  2018 model2_100E_user_val_acc\n",
            "-rw------- 1 root root      2500 Nov 25  2018 model2_100E_user_val_loss\n",
            "-rw------- 1 root root      2500 Nov 25  2018 model2_model_val_loss\n",
            "-rw------- 1 root root  15015936 Nov 26  2018 model_ilk_part.h5\n",
            "-rw------- 1 root root    646180 Nov 18  2018 OppositeHand96.npz\n",
            "-rw------- 1 root root   6738579 Nov 24  2018 OppositeHand.npz\n",
            "-rw------- 1 root root   7715225 Nov 18  2018 Simple96.npz\n",
            "-rw------- 1 root root  28520157 Nov 24  2018 Simple.npz\n",
            "-rw------- 1 root root   1346755 Nov 18  2018 Skilled96.npz\n",
            "-rw------- 1 root root  12712533 Nov 24  2018 Skilled.npz\n",
            "-rw------- 1 root root      2500 Nov 25  2018 Son-VGG16_model_val_acc\n",
            "-rw------- 1 root root      2500 Nov 25  2018 Son-VGG16_model_val_loss\n",
            "-rw------- 1 root root      2500 Nov 25  2018 Spyder_model_val_classOut_acc\n",
            "-rw------- 1 root root      2500 Nov 25  2018 Spyder_model_val_classOut_loss\n",
            "-rw------- 1 root root      2500 Nov 25  2018 Spyder_model_val_userOut_acc\n",
            "-rw------- 1 root root      2500 Nov 25  2018 Spyder_model_val_userOut_loss\n",
            "-rw------- 1 root root       522 Jan  8 16:06 test_96.npz\n",
            "-rw------- 1 root root   8480768 Nov 25  2018 user_features_train_test.h5\n",
            "-rw------- 1 root root     40227 Jan 10 00:51 VGG_16.ipynb\n",
            "-rw------- 1 root root  16038576 Dec  1  2018 X_test.npz\n",
            "-rw------- 1 root root  63671011 Dec  1  2018 X_train.npz\n",
            "-rw------- 1 root root    106074 Nov 25  2018 yeni_label.txt\n",
            "-rw------- 1 root root      2500 Nov 25  2018 yeni_label_VGG16_artirilmis_model_val_acc\n",
            "-rw------- 1 root root      2500 Nov 25  2018 yeni_label_VGG16_artirilmis_model_val_loss\n",
            "-rw------- 1 root root      2500 Nov 25  2018 yeni_label_VGG16_model_val_acc\n",
            "-rw------- 1 root root      2500 Nov 25  2018 yeni_label_VGG16_model_val_loss\n",
            "-rw------- 1 root root      8672 Dec  1  2018 y_test_class.npz\n",
            "-rw------- 1 root root      2052 Dec  1  2018 y_test_names.npz\n",
            "-rw------- 1 root root     33832 Dec  1  2018 y_train_class.npz\n",
            "-rw------- 1 root root      7454 Dec  1  2018 y_train_names.npz\n"
          ],
          "name": "stdout"
        }
      ]
    },
    {
      "cell_type": "markdown",
      "metadata": {
        "id": "9JnpTNpGySqL"
      },
      "source": [
        "# **Using More Data**"
      ]
    },
    {
      "cell_type": "code",
      "metadata": {
        "id": "hcgTwZX7yLXB"
      },
      "source": [
        "X_train = np.load('X_train.npz')\n",
        "X_train = X_train['arr_0']\n",
        "\n",
        "X_test = np.load('X_test.npz')\n",
        "X_test = X_test['arr_0']\n",
        "\n",
        "y_train_class = np.load('y_train_class.npz')\n",
        "y_train_class = y_train_class['arr_0']\n",
        "\n",
        "y_test_class = np.load('y_test_class.npz')\n",
        "y_test_class = y_test_class['arr_0']\n",
        "\n",
        "y_train_names = np.load('y_train_names.npz')\n",
        "y_train_names = y_train_names['arr_0']\n",
        "\n",
        "y_test_names = np.load('y_test_names.npz')\n",
        "y_test_names = y_test_names['arr_0']"
      ],
      "execution_count": null,
      "outputs": []
    },
    {
      "cell_type": "code",
      "metadata": {
        "id": "W-DA9IJ9zQ3p"
      },
      "source": [
        "X_train = X_train.reshape((X_train.shape[0],96,96,3))\n",
        "X_test = X_test.reshape((X_test.shape[0],96,96,3))"
      ],
      "execution_count": null,
      "outputs": []
    },
    {
      "cell_type": "code",
      "metadata": {
        "id": "_X91kzHJzCuK"
      },
      "source": [
        "model_more_data = my_model(input_shape=(96,96,3),initial='he_normal')\n",
        "\n",
        "batch_size = 32\n",
        "steps_epoch = len(X_train)\n",
        "val_steps = len(X_test)\n",
        "\n",
        "epochs = 100\n",
        "learning_rate = 10e-2\n",
        "decay_rate = learning_rate / epochs\n",
        "momentum = 0.9\n",
        "sgd = SGD(lr=learning_rate, momentum=momentum, decay=decay_rate, nesterov=True)\n",
        "\n",
        "model_more_data.compile(optimizer = sgd,\n",
        "            loss={'userOut':'categorical_crossentropy',\n",
        "            'classOut': 'binary_crossentropy'},\n",
        "            metrics = ['accuracy'])"
      ],
      "execution_count": null,
      "outputs": []
    },
    {
      "cell_type": "code",
      "metadata": {
        "id": "Nv1O6YIWzCuM",
        "colab": {
          "base_uri": "https://localhost:8080/"
        },
        "outputId": "5a6c5f6d-063b-4dcf-b8dd-bf87604bd089"
      },
      "source": [
        "model_more_data.fit(x = X_train,\n",
        "          y={'userOut': y_train_class,\n",
        "           'classOut': y_train_names},\n",
        "          epochs=epochs,\n",
        "          verbose=1,\n",
        "          validation_data=(X_test,\n",
        "\t\t      {\"userOut\": y_test_class, \"classOut\": y_test_names}),\n",
        "          shuffle=True,\n",
        "          batch_size = batch_size)"
      ],
      "execution_count": null,
      "outputs": [
        {
          "output_type": "stream",
          "text": [
            "Epoch 1/100\n",
            "311/311 [==============================] - 6s 14ms/step - loss: 5.6510 - userOut_loss: 5.0310 - classOut_loss: 0.5968 - userOut_accuracy: 0.0268 - classOut_accuracy: 0.4583 - val_loss: 4.5988 - val_userOut_loss: 4.0959 - val_classOut_loss: 0.4751 - val_userOut_accuracy: 0.0769 - val_classOut_accuracy: 0.5157\n",
            "Epoch 2/100\n",
            "311/311 [==============================] - 4s 12ms/step - loss: 4.3211 - userOut_loss: 3.8056 - classOut_loss: 0.4871 - userOut_accuracy: 0.1146 - classOut_accuracy: 0.5214 - val_loss: 3.4640 - val_userOut_loss: 2.9820 - val_classOut_loss: 0.4519 - val_userOut_accuracy: 0.2866 - val_classOut_accuracy: 0.5604\n",
            "Epoch 3/100\n",
            "311/311 [==============================] - 4s 12ms/step - loss: 3.7816 - userOut_loss: 3.2850 - classOut_loss: 0.4659 - userOut_accuracy: 0.1857 - classOut_accuracy: 0.5370 - val_loss: 2.9253 - val_userOut_loss: 2.4480 - val_classOut_loss: 0.4453 - val_userOut_accuracy: 0.4050 - val_classOut_accuracy: 0.5596\n",
            "Epoch 4/100\n",
            "311/311 [==============================] - 4s 12ms/step - loss: 3.4103 - userOut_loss: 2.9334 - classOut_loss: 0.4444 - userOut_accuracy: 0.2499 - classOut_accuracy: 0.5618 - val_loss: 2.7949 - val_userOut_loss: 2.3213 - val_classOut_loss: 0.4401 - val_userOut_accuracy: 0.4147 - val_classOut_accuracy: 0.5668\n",
            "Epoch 5/100\n",
            "311/311 [==============================] - 4s 12ms/step - loss: 3.1414 - userOut_loss: 2.6741 - classOut_loss: 0.4333 - userOut_accuracy: 0.3141 - classOut_accuracy: 0.5781 - val_loss: 2.3810 - val_userOut_loss: 1.9277 - val_classOut_loss: 0.4183 - val_userOut_accuracy: 0.5221 - val_classOut_accuracy: 0.5934\n",
            "Epoch 6/100\n",
            "311/311 [==============================] - 4s 12ms/step - loss: 2.8760 - userOut_loss: 2.4243 - classOut_loss: 0.4164 - userOut_accuracy: 0.3743 - classOut_accuracy: 0.6001 - val_loss: 5.8855 - val_userOut_loss: 5.3703 - val_classOut_loss: 0.4790 - val_userOut_accuracy: 0.1389 - val_classOut_accuracy: 0.5314\n",
            "Epoch 7/100\n",
            "311/311 [==============================] - 4s 12ms/step - loss: 2.6291 - userOut_loss: 2.1908 - classOut_loss: 0.4018 - userOut_accuracy: 0.4139 - classOut_accuracy: 0.6132 - val_loss: 2.5716 - val_userOut_loss: 2.1356 - val_classOut_loss: 0.3986 - val_userOut_accuracy: 0.4493 - val_classOut_accuracy: 0.6159\n",
            "Epoch 8/100\n",
            "311/311 [==============================] - 4s 12ms/step - loss: 2.4498 - userOut_loss: 2.0337 - classOut_loss: 0.3786 - userOut_accuracy: 0.4688 - classOut_accuracy: 0.6452 - val_loss: 2.3678 - val_userOut_loss: 1.9461 - val_classOut_loss: 0.3835 - val_userOut_accuracy: 0.5081 - val_classOut_accuracy: 0.6465\n",
            "Epoch 9/100\n",
            "311/311 [==============================] - 4s 12ms/step - loss: 2.2405 - userOut_loss: 1.8470 - classOut_loss: 0.3550 - userOut_accuracy: 0.5039 - classOut_accuracy: 0.6739 - val_loss: 1.7874 - val_userOut_loss: 1.3726 - val_classOut_loss: 0.3757 - val_userOut_accuracy: 0.6449 - val_classOut_accuracy: 0.6357\n",
            "Epoch 10/100\n",
            "311/311 [==============================] - 4s 12ms/step - loss: 2.1085 - userOut_loss: 1.7256 - classOut_loss: 0.3436 - userOut_accuracy: 0.5431 - classOut_accuracy: 0.6835 - val_loss: 1.6662 - val_userOut_loss: 1.2674 - val_classOut_loss: 0.3588 - val_userOut_accuracy: 0.6751 - val_classOut_accuracy: 0.6755\n",
            "Epoch 11/100\n",
            "311/311 [==============================] - 4s 12ms/step - loss: 1.9380 - userOut_loss: 1.5800 - classOut_loss: 0.3178 - userOut_accuracy: 0.5701 - classOut_accuracy: 0.7179 - val_loss: 1.5027 - val_userOut_loss: 1.1062 - val_classOut_loss: 0.3558 - val_userOut_accuracy: 0.7105 - val_classOut_accuracy: 0.6759\n",
            "Epoch 12/100\n",
            "311/311 [==============================] - 4s 12ms/step - loss: 1.7870 - userOut_loss: 1.4452 - classOut_loss: 0.3010 - userOut_accuracy: 0.6038 - classOut_accuracy: 0.7383 - val_loss: 1.4078 - val_userOut_loss: 1.0174 - val_classOut_loss: 0.3490 - val_userOut_accuracy: 0.7391 - val_classOut_accuracy: 0.6868\n",
            "Epoch 13/100\n",
            "311/311 [==============================] - 4s 13ms/step - loss: 1.7143 - userOut_loss: 1.3914 - classOut_loss: 0.2813 - userOut_accuracy: 0.6183 - classOut_accuracy: 0.7607 - val_loss: 1.2013 - val_userOut_loss: 0.8367 - val_classOut_loss: 0.3225 - val_userOut_accuracy: 0.7886 - val_classOut_accuracy: 0.7150\n",
            "Epoch 14/100\n",
            "311/311 [==============================] - 4s 12ms/step - loss: 1.6238 - userOut_loss: 1.3162 - classOut_loss: 0.2653 - userOut_accuracy: 0.6423 - classOut_accuracy: 0.7786 - val_loss: 1.2748 - val_userOut_loss: 0.9122 - val_classOut_loss: 0.3199 - val_userOut_accuracy: 0.7657 - val_classOut_accuracy: 0.7238\n",
            "Epoch 15/100\n",
            "311/311 [==============================] - 4s 13ms/step - loss: 1.4944 - userOut_loss: 1.2081 - classOut_loss: 0.2434 - userOut_accuracy: 0.6576 - classOut_accuracy: 0.8040 - val_loss: 2.0362 - val_userOut_loss: 1.6274 - val_classOut_loss: 0.3655 - val_userOut_accuracy: 0.5938 - val_classOut_accuracy: 0.6739\n",
            "Epoch 16/100\n",
            "311/311 [==============================] - 4s 12ms/step - loss: 1.4752 - userOut_loss: 1.2034 - classOut_loss: 0.2283 - userOut_accuracy: 0.6599 - classOut_accuracy: 0.8191 - val_loss: 1.2417 - val_userOut_loss: 0.8892 - val_classOut_loss: 0.3088 - val_userOut_accuracy: 0.7766 - val_classOut_accuracy: 0.7287\n",
            "Epoch 17/100\n",
            "311/311 [==============================] - 4s 13ms/step - loss: 1.3521 - userOut_loss: 1.0939 - classOut_loss: 0.2143 - userOut_accuracy: 0.6874 - classOut_accuracy: 0.8318 - val_loss: 1.1934 - val_userOut_loss: 0.8553 - val_classOut_loss: 0.2938 - val_userOut_accuracy: 0.7826 - val_classOut_accuracy: 0.7484\n",
            "Epoch 18/100\n",
            "311/311 [==============================] - 4s 12ms/step - loss: 1.2859 - userOut_loss: 1.0395 - classOut_loss: 0.2020 - userOut_accuracy: 0.7068 - classOut_accuracy: 0.8468 - val_loss: 1.1501 - val_userOut_loss: 0.7896 - val_classOut_loss: 0.3158 - val_userOut_accuracy: 0.7927 - val_classOut_accuracy: 0.7335\n",
            "Epoch 19/100\n",
            "311/311 [==============================] - 4s 12ms/step - loss: 1.2018 - userOut_loss: 0.9710 - classOut_loss: 0.1860 - userOut_accuracy: 0.7213 - classOut_accuracy: 0.8626 - val_loss: 0.9835 - val_userOut_loss: 0.6579 - val_classOut_loss: 0.2805 - val_userOut_accuracy: 0.8390 - val_classOut_accuracy: 0.7633\n",
            "Epoch 20/100\n",
            "311/311 [==============================] - 4s 12ms/step - loss: 1.1019 - userOut_loss: 0.8868 - classOut_loss: 0.1699 - userOut_accuracy: 0.7501 - classOut_accuracy: 0.8773 - val_loss: 0.9829 - val_userOut_loss: 0.6493 - val_classOut_loss: 0.2881 - val_userOut_accuracy: 0.8337 - val_classOut_accuracy: 0.7605\n",
            "Epoch 21/100\n",
            "311/311 [==============================] - 4s 13ms/step - loss: 1.0792 - userOut_loss: 0.8781 - classOut_loss: 0.1555 - userOut_accuracy: 0.7473 - classOut_accuracy: 0.8904 - val_loss: 0.9211 - val_userOut_loss: 0.5926 - val_classOut_loss: 0.2827 - val_userOut_accuracy: 0.8551 - val_classOut_accuracy: 0.7673\n",
            "Epoch 22/100\n",
            "311/311 [==============================] - 4s 13ms/step - loss: 1.0314 - userOut_loss: 0.8365 - classOut_loss: 0.1489 - userOut_accuracy: 0.7580 - classOut_accuracy: 0.8957 - val_loss: 0.9531 - val_userOut_loss: 0.6199 - val_classOut_loss: 0.2870 - val_userOut_accuracy: 0.8434 - val_classOut_accuracy: 0.7758\n",
            "Epoch 23/100\n",
            "311/311 [==============================] - 4s 12ms/step - loss: 0.9537 - userOut_loss: 0.7730 - classOut_loss: 0.1345 - userOut_accuracy: 0.7685 - classOut_accuracy: 0.9089 - val_loss: 0.9906 - val_userOut_loss: 0.6617 - val_classOut_loss: 0.2824 - val_userOut_accuracy: 0.8366 - val_classOut_accuracy: 0.7846\n",
            "Epoch 24/100\n",
            "311/311 [==============================] - 4s 12ms/step - loss: 0.9329 - userOut_loss: 0.7608 - classOut_loss: 0.1255 - userOut_accuracy: 0.7815 - classOut_accuracy: 0.9175 - val_loss: 0.8840 - val_userOut_loss: 0.5480 - val_classOut_loss: 0.2892 - val_userOut_accuracy: 0.8639 - val_classOut_accuracy: 0.7822\n",
            "Epoch 25/100\n",
            "311/311 [==============================] - 4s 12ms/step - loss: 0.8636 - userOut_loss: 0.7005 - classOut_loss: 0.1162 - userOut_accuracy: 0.7887 - classOut_accuracy: 0.9275 - val_loss: 0.9970 - val_userOut_loss: 0.6588 - val_classOut_loss: 0.2911 - val_userOut_accuracy: 0.8217 - val_classOut_accuracy: 0.7862\n",
            "Epoch 26/100\n",
            "311/311 [==============================] - 4s 12ms/step - loss: 0.8438 - userOut_loss: 0.6841 - classOut_loss: 0.1127 - userOut_accuracy: 0.8033 - classOut_accuracy: 0.9269 - val_loss: 0.8719 - val_userOut_loss: 0.5351 - val_classOut_loss: 0.2895 - val_userOut_accuracy: 0.8635 - val_classOut_accuracy: 0.7907\n",
            "Epoch 27/100\n",
            "311/311 [==============================] - 4s 12ms/step - loss: 0.7960 - userOut_loss: 0.6489 - classOut_loss: 0.0998 - userOut_accuracy: 0.8093 - classOut_accuracy: 0.9396 - val_loss: 1.0164 - val_userOut_loss: 0.6752 - val_classOut_loss: 0.2937 - val_userOut_accuracy: 0.8341 - val_classOut_accuracy: 0.7886\n",
            "Epoch 28/100\n",
            "311/311 [==============================] - 4s 12ms/step - loss: 0.7823 - userOut_loss: 0.6442 - classOut_loss: 0.0905 - userOut_accuracy: 0.8096 - classOut_accuracy: 0.9512 - val_loss: 0.9206 - val_userOut_loss: 0.5919 - val_classOut_loss: 0.2810 - val_userOut_accuracy: 0.8643 - val_classOut_accuracy: 0.7971\n",
            "Epoch 29/100\n",
            "311/311 [==============================] - 4s 12ms/step - loss: 0.7134 - userOut_loss: 0.5791 - classOut_loss: 0.0866 - userOut_accuracy: 0.8246 - classOut_accuracy: 0.9502 - val_loss: 0.9119 - val_userOut_loss: 0.5754 - val_classOut_loss: 0.2885 - val_userOut_accuracy: 0.8587 - val_classOut_accuracy: 0.7947\n",
            "Epoch 30/100\n",
            "311/311 [==============================] - 4s 12ms/step - loss: 0.6840 - userOut_loss: 0.5514 - classOut_loss: 0.0847 - userOut_accuracy: 0.8315 - classOut_accuracy: 0.9526 - val_loss: 0.9301 - val_userOut_loss: 0.5855 - val_classOut_loss: 0.2965 - val_userOut_accuracy: 0.8583 - val_classOut_accuracy: 0.7899\n",
            "Epoch 31/100\n",
            "311/311 [==============================] - 4s 12ms/step - loss: 0.6916 - userOut_loss: 0.5654 - classOut_loss: 0.0781 - userOut_accuracy: 0.8270 - classOut_accuracy: 0.9531 - val_loss: 0.9272 - val_userOut_loss: 0.5881 - val_classOut_loss: 0.2909 - val_userOut_accuracy: 0.8514 - val_classOut_accuracy: 0.7935\n",
            "Epoch 32/100\n",
            "311/311 [==============================] - 4s 12ms/step - loss: 0.6621 - userOut_loss: 0.5356 - classOut_loss: 0.0783 - userOut_accuracy: 0.8364 - classOut_accuracy: 0.9556 - val_loss: 0.8667 - val_userOut_loss: 0.5411 - val_classOut_loss: 0.2772 - val_userOut_accuracy: 0.8708 - val_classOut_accuracy: 0.8064\n",
            "Epoch 33/100\n",
            "311/311 [==============================] - 4s 12ms/step - loss: 0.6339 - userOut_loss: 0.5137 - classOut_loss: 0.0718 - userOut_accuracy: 0.8449 - classOut_accuracy: 0.9631 - val_loss: 0.8918 - val_userOut_loss: 0.5428 - val_classOut_loss: 0.3004 - val_userOut_accuracy: 0.8720 - val_classOut_accuracy: 0.7963\n",
            "Epoch 34/100\n",
            "311/311 [==============================] - 4s 12ms/step - loss: 0.6102 - userOut_loss: 0.4908 - classOut_loss: 0.0708 - userOut_accuracy: 0.8540 - classOut_accuracy: 0.9609 - val_loss: 0.9002 - val_userOut_loss: 0.5478 - val_classOut_loss: 0.3038 - val_userOut_accuracy: 0.8740 - val_classOut_accuracy: 0.8056\n",
            "Epoch 35/100\n",
            "311/311 [==============================] - 4s 12ms/step - loss: 0.5930 - userOut_loss: 0.4848 - classOut_loss: 0.0594 - userOut_accuracy: 0.8503 - classOut_accuracy: 0.9739 - val_loss: 1.1605 - val_userOut_loss: 0.7923 - val_classOut_loss: 0.3195 - val_userOut_accuracy: 0.8100 - val_classOut_accuracy: 0.7866\n",
            "Epoch 36/100\n",
            "311/311 [==============================] - 4s 12ms/step - loss: 0.5707 - userOut_loss: 0.4592 - classOut_loss: 0.0626 - userOut_accuracy: 0.8644 - classOut_accuracy: 0.9686 - val_loss: 0.9313 - val_userOut_loss: 0.5635 - val_classOut_loss: 0.3189 - val_userOut_accuracy: 0.8663 - val_classOut_accuracy: 0.8043\n",
            "Epoch 37/100\n",
            "311/311 [==============================] - 4s 12ms/step - loss: 0.5536 - userOut_loss: 0.4477 - classOut_loss: 0.0570 - userOut_accuracy: 0.8686 - classOut_accuracy: 0.9736 - val_loss: 0.9116 - val_userOut_loss: 0.5602 - val_classOut_loss: 0.3024 - val_userOut_accuracy: 0.8676 - val_classOut_accuracy: 0.8007\n",
            "Epoch 38/100\n",
            "311/311 [==============================] - 4s 12ms/step - loss: 0.5251 - userOut_loss: 0.4227 - classOut_loss: 0.0534 - userOut_accuracy: 0.8733 - classOut_accuracy: 0.9760 - val_loss: 0.8741 - val_userOut_loss: 0.5084 - val_classOut_loss: 0.3165 - val_userOut_accuracy: 0.8740 - val_classOut_accuracy: 0.8064\n",
            "Epoch 39/100\n",
            "311/311 [==============================] - 4s 12ms/step - loss: 0.5326 - userOut_loss: 0.4273 - classOut_loss: 0.0561 - userOut_accuracy: 0.8710 - classOut_accuracy: 0.9718 - val_loss: 0.8892 - val_userOut_loss: 0.5433 - val_classOut_loss: 0.2967 - val_userOut_accuracy: 0.8692 - val_classOut_accuracy: 0.7927\n",
            "Epoch 40/100\n",
            "311/311 [==============================] - 4s 12ms/step - loss: 0.5091 - userOut_loss: 0.4119 - classOut_loss: 0.0479 - userOut_accuracy: 0.8780 - classOut_accuracy: 0.9755 - val_loss: 0.8955 - val_userOut_loss: 0.5196 - val_classOut_loss: 0.3266 - val_userOut_accuracy: 0.8728 - val_classOut_accuracy: 0.7858\n",
            "Epoch 41/100\n",
            "311/311 [==============================] - 4s 12ms/step - loss: 0.4723 - userOut_loss: 0.3746 - classOut_loss: 0.0484 - userOut_accuracy: 0.8854 - classOut_accuracy: 0.9775 - val_loss: 0.9609 - val_userOut_loss: 0.5766 - val_classOut_loss: 0.3349 - val_userOut_accuracy: 0.8659 - val_classOut_accuracy: 0.7971\n",
            "Epoch 42/100\n",
            "311/311 [==============================] - 4s 12ms/step - loss: 0.4592 - userOut_loss: 0.3626 - classOut_loss: 0.0472 - userOut_accuracy: 0.8871 - classOut_accuracy: 0.9773 - val_loss: 0.8999 - val_userOut_loss: 0.5295 - val_classOut_loss: 0.3210 - val_userOut_accuracy: 0.8744 - val_classOut_accuracy: 0.7947\n",
            "Epoch 43/100\n",
            "311/311 [==============================] - 4s 12ms/step - loss: 0.4581 - userOut_loss: 0.3670 - classOut_loss: 0.0416 - userOut_accuracy: 0.8891 - classOut_accuracy: 0.9820 - val_loss: 0.9190 - val_userOut_loss: 0.5543 - val_classOut_loss: 0.3152 - val_userOut_accuracy: 0.8736 - val_classOut_accuracy: 0.8007\n",
            "Epoch 44/100\n",
            "311/311 [==============================] - 4s 12ms/step - loss: 0.4587 - userOut_loss: 0.3708 - classOut_loss: 0.0384 - userOut_accuracy: 0.8874 - classOut_accuracy: 0.9857 - val_loss: 0.9049 - val_userOut_loss: 0.5105 - val_classOut_loss: 0.3448 - val_userOut_accuracy: 0.8736 - val_classOut_accuracy: 0.7850\n",
            "Epoch 45/100\n",
            "311/311 [==============================] - 4s 12ms/step - loss: 0.4042 - userOut_loss: 0.3181 - classOut_loss: 0.0365 - userOut_accuracy: 0.9017 - classOut_accuracy: 0.9860 - val_loss: 0.9460 - val_userOut_loss: 0.5655 - val_classOut_loss: 0.3308 - val_userOut_accuracy: 0.8655 - val_classOut_accuracy: 0.8043\n",
            "Epoch 46/100\n",
            "311/311 [==============================] - 4s 12ms/step - loss: 0.4444 - userOut_loss: 0.3536 - classOut_loss: 0.0412 - userOut_accuracy: 0.8934 - classOut_accuracy: 0.9819 - val_loss: 0.9100 - val_userOut_loss: 0.5317 - val_classOut_loss: 0.3286 - val_userOut_accuracy: 0.8780 - val_classOut_accuracy: 0.8003\n",
            "Epoch 47/100\n",
            "311/311 [==============================] - 4s 12ms/step - loss: 0.4129 - userOut_loss: 0.3262 - classOut_loss: 0.0370 - userOut_accuracy: 0.9010 - classOut_accuracy: 0.9857 - val_loss: 1.0480 - val_userOut_loss: 0.6471 - val_classOut_loss: 0.3512 - val_userOut_accuracy: 0.8531 - val_classOut_accuracy: 0.7911\n",
            "Epoch 48/100\n",
            "311/311 [==============================] - 4s 12ms/step - loss: 0.4114 - userOut_loss: 0.3227 - classOut_loss: 0.0390 - userOut_accuracy: 0.9002 - classOut_accuracy: 0.9815 - val_loss: 0.9765 - val_userOut_loss: 0.5948 - val_classOut_loss: 0.3320 - val_userOut_accuracy: 0.8659 - val_classOut_accuracy: 0.8152\n",
            "Epoch 49/100\n",
            "311/311 [==============================] - 4s 12ms/step - loss: 0.4024 - userOut_loss: 0.3165 - classOut_loss: 0.0362 - userOut_accuracy: 0.9013 - classOut_accuracy: 0.9839 - val_loss: 0.9527 - val_userOut_loss: 0.5622 - val_classOut_loss: 0.3407 - val_userOut_accuracy: 0.8740 - val_classOut_accuracy: 0.8084\n",
            "Epoch 50/100\n",
            "311/311 [==============================] - 4s 12ms/step - loss: 0.3918 - userOut_loss: 0.3090 - classOut_loss: 0.0330 - userOut_accuracy: 0.9032 - classOut_accuracy: 0.9862 - val_loss: 0.9617 - val_userOut_loss: 0.5708 - val_classOut_loss: 0.3410 - val_userOut_accuracy: 0.8776 - val_classOut_accuracy: 0.8076\n",
            "Epoch 51/100\n",
            "311/311 [==============================] - 4s 12ms/step - loss: 0.3863 - userOut_loss: 0.3028 - classOut_loss: 0.0336 - userOut_accuracy: 0.9099 - classOut_accuracy: 0.9857 - val_loss: 0.9112 - val_userOut_loss: 0.5285 - val_classOut_loss: 0.3328 - val_userOut_accuracy: 0.8849 - val_classOut_accuracy: 0.8124\n",
            "Epoch 52/100\n",
            "311/311 [==============================] - 4s 12ms/step - loss: 0.3770 - userOut_loss: 0.2962 - classOut_loss: 0.0309 - userOut_accuracy: 0.9078 - classOut_accuracy: 0.9856 - val_loss: 0.9460 - val_userOut_loss: 0.5445 - val_classOut_loss: 0.3516 - val_userOut_accuracy: 0.8788 - val_classOut_accuracy: 0.7971\n",
            "Epoch 53/100\n",
            "311/311 [==============================] - 4s 12ms/step - loss: 0.3603 - userOut_loss: 0.2806 - classOut_loss: 0.0297 - userOut_accuracy: 0.9098 - classOut_accuracy: 0.9887 - val_loss: 1.0140 - val_userOut_loss: 0.6182 - val_classOut_loss: 0.3458 - val_userOut_accuracy: 0.8591 - val_classOut_accuracy: 0.7971\n",
            "Epoch 54/100\n",
            "311/311 [==============================] - 4s 12ms/step - loss: 0.3650 - userOut_loss: 0.2870 - classOut_loss: 0.0281 - userOut_accuracy: 0.9121 - classOut_accuracy: 0.9885 - val_loss: 0.9631 - val_userOut_loss: 0.5563 - val_classOut_loss: 0.3569 - val_userOut_accuracy: 0.8764 - val_classOut_accuracy: 0.8039\n",
            "Epoch 55/100\n",
            "311/311 [==============================] - 4s 12ms/step - loss: 0.3540 - userOut_loss: 0.2723 - classOut_loss: 0.0317 - userOut_accuracy: 0.9175 - classOut_accuracy: 0.9852 - val_loss: 1.3949 - val_userOut_loss: 0.9599 - val_classOut_loss: 0.3850 - val_userOut_accuracy: 0.7975 - val_classOut_accuracy: 0.7878\n",
            "Epoch 56/100\n",
            "311/311 [==============================] - 4s 12ms/step - loss: 0.3606 - userOut_loss: 0.2805 - classOut_loss: 0.0301 - userOut_accuracy: 0.9128 - classOut_accuracy: 0.9860 - val_loss: 0.9795 - val_userOut_loss: 0.5595 - val_classOut_loss: 0.3699 - val_userOut_accuracy: 0.8784 - val_classOut_accuracy: 0.7995\n",
            "Epoch 57/100\n",
            "311/311 [==============================] - 4s 12ms/step - loss: 0.3422 - userOut_loss: 0.2644 - classOut_loss: 0.0277 - userOut_accuracy: 0.9174 - classOut_accuracy: 0.9901 - val_loss: 0.9502 - val_userOut_loss: 0.5293 - val_classOut_loss: 0.3708 - val_userOut_accuracy: 0.8800 - val_classOut_accuracy: 0.8007\n",
            "Epoch 58/100\n",
            "311/311 [==============================] - 4s 12ms/step - loss: 0.3512 - userOut_loss: 0.2764 - classOut_loss: 0.0247 - userOut_accuracy: 0.9141 - classOut_accuracy: 0.9912 - val_loss: 0.9157 - val_userOut_loss: 0.5227 - val_classOut_loss: 0.3429 - val_userOut_accuracy: 0.8841 - val_classOut_accuracy: 0.8043\n",
            "Epoch 59/100\n",
            "311/311 [==============================] - 4s 12ms/step - loss: 0.3369 - userOut_loss: 0.2614 - classOut_loss: 0.0254 - userOut_accuracy: 0.9216 - classOut_accuracy: 0.9911 - val_loss: 0.9258 - val_userOut_loss: 0.5216 - val_classOut_loss: 0.3542 - val_userOut_accuracy: 0.8788 - val_classOut_accuracy: 0.8039\n",
            "Epoch 60/100\n",
            "311/311 [==============================] - 4s 12ms/step - loss: 0.3339 - userOut_loss: 0.2563 - classOut_loss: 0.0274 - userOut_accuracy: 0.9223 - classOut_accuracy: 0.9894 - val_loss: 0.9953 - val_userOut_loss: 0.5840 - val_classOut_loss: 0.3612 - val_userOut_accuracy: 0.8684 - val_classOut_accuracy: 0.7939\n",
            "Epoch 61/100\n",
            "311/311 [==============================] - 4s 12ms/step - loss: 0.3363 - userOut_loss: 0.2599 - classOut_loss: 0.0262 - userOut_accuracy: 0.9233 - classOut_accuracy: 0.9890 - val_loss: 0.9285 - val_userOut_loss: 0.5269 - val_classOut_loss: 0.3515 - val_userOut_accuracy: 0.8885 - val_classOut_accuracy: 0.8072\n",
            "Epoch 62/100\n",
            "311/311 [==============================] - 4s 12ms/step - loss: 0.3050 - userOut_loss: 0.2327 - classOut_loss: 0.0222 - userOut_accuracy: 0.9266 - classOut_accuracy: 0.9936 - val_loss: 1.0270 - val_userOut_loss: 0.5973 - val_classOut_loss: 0.3796 - val_userOut_accuracy: 0.8752 - val_classOut_accuracy: 0.7927\n",
            "Epoch 63/100\n",
            "311/311 [==============================] - 4s 12ms/step - loss: 0.3205 - userOut_loss: 0.2454 - classOut_loss: 0.0249 - userOut_accuracy: 0.9220 - classOut_accuracy: 0.9901 - val_loss: 1.0941 - val_userOut_loss: 0.6733 - val_classOut_loss: 0.3706 - val_userOut_accuracy: 0.8458 - val_classOut_accuracy: 0.7975\n",
            "Epoch 64/100\n",
            "311/311 [==============================] - 4s 12ms/step - loss: 0.3168 - userOut_loss: 0.2436 - classOut_loss: 0.0231 - userOut_accuracy: 0.9273 - classOut_accuracy: 0.9902 - val_loss: 0.9816 - val_userOut_loss: 0.5740 - val_classOut_loss: 0.3574 - val_userOut_accuracy: 0.8768 - val_classOut_accuracy: 0.8052\n",
            "Epoch 65/100\n",
            "311/311 [==============================] - 4s 12ms/step - loss: 0.3002 - userOut_loss: 0.2275 - classOut_loss: 0.0226 - userOut_accuracy: 0.9280 - classOut_accuracy: 0.9920 - val_loss: 1.0832 - val_userOut_loss: 0.6571 - val_classOut_loss: 0.3760 - val_userOut_accuracy: 0.8603 - val_classOut_accuracy: 0.7963\n",
            "Epoch 66/100\n",
            "311/311 [==============================] - 4s 12ms/step - loss: 0.2907 - userOut_loss: 0.2176 - classOut_loss: 0.0229 - userOut_accuracy: 0.9329 - classOut_accuracy: 0.9904 - val_loss: 0.9730 - val_userOut_loss: 0.5490 - val_classOut_loss: 0.3738 - val_userOut_accuracy: 0.8800 - val_classOut_accuracy: 0.8019\n",
            "Epoch 67/100\n",
            "311/311 [==============================] - 4s 12ms/step - loss: 0.2939 - userOut_loss: 0.2193 - classOut_loss: 0.0244 - userOut_accuracy: 0.9316 - classOut_accuracy: 0.9894 - val_loss: 1.0180 - val_userOut_loss: 0.5707 - val_classOut_loss: 0.3971 - val_userOut_accuracy: 0.8796 - val_classOut_accuracy: 0.7890\n",
            "Epoch 68/100\n",
            "311/311 [==============================] - 4s 13ms/step - loss: 0.2755 - userOut_loss: 0.2065 - classOut_loss: 0.0188 - userOut_accuracy: 0.9336 - classOut_accuracy: 0.9935 - val_loss: 0.9661 - val_userOut_loss: 0.5397 - val_classOut_loss: 0.3762 - val_userOut_accuracy: 0.8820 - val_classOut_accuracy: 0.8019\n",
            "Epoch 69/100\n",
            "311/311 [==============================] - 4s 12ms/step - loss: 0.2810 - userOut_loss: 0.2086 - classOut_loss: 0.0222 - userOut_accuracy: 0.9371 - classOut_accuracy: 0.9929 - val_loss: 1.0561 - val_userOut_loss: 0.5801 - val_classOut_loss: 0.4257 - val_userOut_accuracy: 0.8684 - val_classOut_accuracy: 0.7746\n",
            "Epoch 70/100\n",
            "311/311 [==============================] - 4s 12ms/step - loss: 0.2920 - userOut_loss: 0.2212 - classOut_loss: 0.0206 - userOut_accuracy: 0.9316 - classOut_accuracy: 0.9931 - val_loss: 0.9050 - val_userOut_loss: 0.4945 - val_classOut_loss: 0.3603 - val_userOut_accuracy: 0.8885 - val_classOut_accuracy: 0.8084\n",
            "Epoch 71/100\n",
            "311/311 [==============================] - 4s 12ms/step - loss: 0.2716 - userOut_loss: 0.2014 - classOut_loss: 0.0200 - userOut_accuracy: 0.9365 - classOut_accuracy: 0.9940 - val_loss: 0.9062 - val_userOut_loss: 0.4986 - val_classOut_loss: 0.3573 - val_userOut_accuracy: 0.8857 - val_classOut_accuracy: 0.8092\n",
            "Epoch 72/100\n",
            "311/311 [==============================] - 4s 12ms/step - loss: 0.2637 - userOut_loss: 0.1967 - classOut_loss: 0.0167 - userOut_accuracy: 0.9412 - classOut_accuracy: 0.9952 - val_loss: 0.9755 - val_userOut_loss: 0.5340 - val_classOut_loss: 0.3913 - val_userOut_accuracy: 0.8845 - val_classOut_accuracy: 0.8027\n",
            "Epoch 73/100\n",
            "311/311 [==============================] - 4s 12ms/step - loss: 0.2655 - userOut_loss: 0.1966 - classOut_loss: 0.0186 - userOut_accuracy: 0.9425 - classOut_accuracy: 0.9934 - val_loss: 0.9718 - val_userOut_loss: 0.5426 - val_classOut_loss: 0.3790 - val_userOut_accuracy: 0.8837 - val_classOut_accuracy: 0.8100\n",
            "Epoch 74/100\n",
            "311/311 [==============================] - 4s 12ms/step - loss: 0.2803 - userOut_loss: 0.2114 - classOut_loss: 0.0186 - userOut_accuracy: 0.9302 - classOut_accuracy: 0.9934 - val_loss: 1.0829 - val_userOut_loss: 0.6191 - val_classOut_loss: 0.4135 - val_userOut_accuracy: 0.8692 - val_classOut_accuracy: 0.7939\n",
            "Epoch 75/100\n",
            "311/311 [==============================] - 4s 12ms/step - loss: 0.2840 - userOut_loss: 0.2148 - classOut_loss: 0.0190 - userOut_accuracy: 0.9345 - classOut_accuracy: 0.9916 - val_loss: 1.0104 - val_userOut_loss: 0.5685 - val_classOut_loss: 0.3917 - val_userOut_accuracy: 0.8772 - val_classOut_accuracy: 0.8048\n",
            "Epoch 76/100\n",
            "311/311 [==============================] - 4s 13ms/step - loss: 0.2703 - userOut_loss: 0.2032 - classOut_loss: 0.0168 - userOut_accuracy: 0.9355 - classOut_accuracy: 0.9945 - val_loss: 1.0409 - val_userOut_loss: 0.5896 - val_classOut_loss: 0.4011 - val_userOut_accuracy: 0.8756 - val_classOut_accuracy: 0.8027\n",
            "Epoch 77/100\n",
            "311/311 [==============================] - 4s 13ms/step - loss: 0.2705 - userOut_loss: 0.2023 - classOut_loss: 0.0179 - userOut_accuracy: 0.9366 - classOut_accuracy: 0.9940 - val_loss: 1.2798 - val_userOut_loss: 0.8138 - val_classOut_loss: 0.4157 - val_userOut_accuracy: 0.8297 - val_classOut_accuracy: 0.7878\n",
            "Epoch 78/100\n",
            "311/311 [==============================] - 4s 12ms/step - loss: 0.2746 - userOut_loss: 0.2074 - classOut_loss: 0.0170 - userOut_accuracy: 0.9354 - classOut_accuracy: 0.9929 - val_loss: 1.3009 - val_userOut_loss: 0.7728 - val_classOut_loss: 0.4779 - val_userOut_accuracy: 0.8466 - val_classOut_accuracy: 0.7661\n",
            "Epoch 79/100\n",
            "311/311 [==============================] - 4s 12ms/step - loss: 0.2651 - userOut_loss: 0.1974 - classOut_loss: 0.0174 - userOut_accuracy: 0.9376 - classOut_accuracy: 0.9937 - val_loss: 1.0139 - val_userOut_loss: 0.5865 - val_classOut_loss: 0.3772 - val_userOut_accuracy: 0.8732 - val_classOut_accuracy: 0.8019\n",
            "Epoch 80/100\n",
            "311/311 [==============================] - 4s 12ms/step - loss: 0.2549 - userOut_loss: 0.1867 - classOut_loss: 0.0179 - userOut_accuracy: 0.9429 - classOut_accuracy: 0.9933 - val_loss: 1.0536 - val_userOut_loss: 0.5835 - val_classOut_loss: 0.4199 - val_userOut_accuracy: 0.8736 - val_classOut_accuracy: 0.7870\n",
            "Epoch 81/100\n",
            "311/311 [==============================] - 4s 12ms/step - loss: 0.2608 - userOut_loss: 0.1951 - classOut_loss: 0.0155 - userOut_accuracy: 0.9395 - classOut_accuracy: 0.9954 - val_loss: 1.0067 - val_userOut_loss: 0.5652 - val_classOut_loss: 0.3912 - val_userOut_accuracy: 0.8824 - val_classOut_accuracy: 0.7991\n",
            "Epoch 82/100\n",
            "311/311 [==============================] - 4s 12ms/step - loss: 0.2402 - userOut_loss: 0.1730 - classOut_loss: 0.0169 - userOut_accuracy: 0.9425 - classOut_accuracy: 0.9939 - val_loss: 1.0693 - val_userOut_loss: 0.5670 - val_classOut_loss: 0.4520 - val_userOut_accuracy: 0.8788 - val_classOut_accuracy: 0.7810\n",
            "Epoch 83/100\n",
            "311/311 [==============================] - 4s 12ms/step - loss: 0.2617 - userOut_loss: 0.1964 - classOut_loss: 0.0150 - userOut_accuracy: 0.9361 - classOut_accuracy: 0.9955 - val_loss: 0.9888 - val_userOut_loss: 0.5505 - val_classOut_loss: 0.3880 - val_userOut_accuracy: 0.8837 - val_classOut_accuracy: 0.8056\n",
            "Epoch 84/100\n",
            "311/311 [==============================] - 4s 12ms/step - loss: 0.2526 - userOut_loss: 0.1873 - classOut_loss: 0.0151 - userOut_accuracy: 0.9415 - classOut_accuracy: 0.9947 - val_loss: 0.9384 - val_userOut_loss: 0.5145 - val_classOut_loss: 0.3737 - val_userOut_accuracy: 0.8937 - val_classOut_accuracy: 0.8188\n",
            "Epoch 85/100\n",
            "311/311 [==============================] - 4s 12ms/step - loss: 0.2531 - userOut_loss: 0.1882 - classOut_loss: 0.0147 - userOut_accuracy: 0.9419 - classOut_accuracy: 0.9953 - val_loss: 0.9753 - val_userOut_loss: 0.5202 - val_classOut_loss: 0.4048 - val_userOut_accuracy: 0.8873 - val_classOut_accuracy: 0.7943\n",
            "Epoch 86/100\n",
            "311/311 [==============================] - 4s 12ms/step - loss: 0.2382 - userOut_loss: 0.1724 - classOut_loss: 0.0156 - userOut_accuracy: 0.9452 - classOut_accuracy: 0.9947 - val_loss: 1.0360 - val_userOut_loss: 0.5766 - val_classOut_loss: 0.4092 - val_userOut_accuracy: 0.8796 - val_classOut_accuracy: 0.7975\n",
            "Epoch 87/100\n",
            "311/311 [==============================] - 4s 12ms/step - loss: 0.2419 - userOut_loss: 0.1747 - classOut_loss: 0.0169 - userOut_accuracy: 0.9422 - classOut_accuracy: 0.9932 - val_loss: 0.9970 - val_userOut_loss: 0.5308 - val_classOut_loss: 0.4160 - val_userOut_accuracy: 0.8873 - val_classOut_accuracy: 0.7931\n",
            "Epoch 88/100\n",
            "311/311 [==============================] - 4s 12ms/step - loss: 0.2260 - userOut_loss: 0.1612 - classOut_loss: 0.0145 - userOut_accuracy: 0.9487 - classOut_accuracy: 0.9962 - val_loss: 1.0043 - val_userOut_loss: 0.5673 - val_classOut_loss: 0.3867 - val_userOut_accuracy: 0.8792 - val_classOut_accuracy: 0.7979\n",
            "Epoch 89/100\n",
            "311/311 [==============================] - 4s 12ms/step - loss: 0.2385 - userOut_loss: 0.1741 - classOut_loss: 0.0141 - userOut_accuracy: 0.9479 - classOut_accuracy: 0.9965 - val_loss: 1.0489 - val_userOut_loss: 0.5925 - val_classOut_loss: 0.4062 - val_userOut_accuracy: 0.8837 - val_classOut_accuracy: 0.7987\n",
            "Epoch 90/100\n",
            "311/311 [==============================] - 4s 12ms/step - loss: 0.2337 - userOut_loss: 0.1684 - classOut_loss: 0.0150 - userOut_accuracy: 0.9481 - classOut_accuracy: 0.9956 - val_loss: 0.9840 - val_userOut_loss: 0.5291 - val_classOut_loss: 0.4046 - val_userOut_accuracy: 0.8925 - val_classOut_accuracy: 0.8140\n",
            "Epoch 91/100\n",
            "311/311 [==============================] - 4s 12ms/step - loss: 0.2378 - userOut_loss: 0.1734 - classOut_loss: 0.0142 - userOut_accuracy: 0.9472 - classOut_accuracy: 0.9951 - val_loss: 0.9922 - val_userOut_loss: 0.5613 - val_classOut_loss: 0.3807 - val_userOut_accuracy: 0.8853 - val_classOut_accuracy: 0.8100\n",
            "Epoch 92/100\n",
            "311/311 [==============================] - 4s 12ms/step - loss: 0.2221 - userOut_loss: 0.1596 - classOut_loss: 0.0122 - userOut_accuracy: 0.9519 - classOut_accuracy: 0.9970 - val_loss: 0.9452 - val_userOut_loss: 0.5126 - val_classOut_loss: 0.3824 - val_userOut_accuracy: 0.8921 - val_classOut_accuracy: 0.8176\n",
            "Epoch 93/100\n",
            "311/311 [==============================] - 4s 12ms/step - loss: 0.2188 - userOut_loss: 0.1539 - classOut_loss: 0.0147 - userOut_accuracy: 0.9532 - classOut_accuracy: 0.9956 - val_loss: 1.0139 - val_userOut_loss: 0.5521 - val_classOut_loss: 0.4115 - val_userOut_accuracy: 0.8796 - val_classOut_accuracy: 0.7987\n",
            "Epoch 94/100\n",
            "311/311 [==============================] - 4s 12ms/step - loss: 0.2431 - userOut_loss: 0.1796 - classOut_loss: 0.0133 - userOut_accuracy: 0.9420 - classOut_accuracy: 0.9956 - val_loss: 0.9618 - val_userOut_loss: 0.5220 - val_classOut_loss: 0.3896 - val_userOut_accuracy: 0.8885 - val_classOut_accuracy: 0.8088\n",
            "Epoch 95/100\n",
            "311/311 [==============================] - 4s 12ms/step - loss: 0.2125 - userOut_loss: 0.1503 - classOut_loss: 0.0120 - userOut_accuracy: 0.9576 - classOut_accuracy: 0.9967 - val_loss: 0.9836 - val_userOut_loss: 0.5212 - val_classOut_loss: 0.4122 - val_userOut_accuracy: 0.8929 - val_classOut_accuracy: 0.8084\n",
            "Epoch 96/100\n",
            "311/311 [==============================] - 4s 12ms/step - loss: 0.2155 - userOut_loss: 0.1523 - classOut_loss: 0.0130 - userOut_accuracy: 0.9561 - classOut_accuracy: 0.9971 - val_loss: 0.9569 - val_userOut_loss: 0.5096 - val_classOut_loss: 0.3970 - val_userOut_accuracy: 0.8929 - val_classOut_accuracy: 0.8088\n",
            "Epoch 97/100\n",
            "311/311 [==============================] - 4s 12ms/step - loss: 0.2079 - userOut_loss: 0.1434 - classOut_loss: 0.0142 - userOut_accuracy: 0.9553 - classOut_accuracy: 0.9953 - val_loss: 0.9519 - val_userOut_loss: 0.5192 - val_classOut_loss: 0.3825 - val_userOut_accuracy: 0.8897 - val_classOut_accuracy: 0.8084\n",
            "Epoch 98/100\n",
            "311/311 [==============================] - 4s 12ms/step - loss: 0.2149 - userOut_loss: 0.1511 - classOut_loss: 0.0136 - userOut_accuracy: 0.9531 - classOut_accuracy: 0.9951 - val_loss: 0.9724 - val_userOut_loss: 0.5299 - val_classOut_loss: 0.3924 - val_userOut_accuracy: 0.8893 - val_classOut_accuracy: 0.8052\n",
            "Epoch 99/100\n",
            "311/311 [==============================] - 4s 12ms/step - loss: 0.2196 - userOut_loss: 0.1553 - classOut_loss: 0.0141 - userOut_accuracy: 0.9522 - classOut_accuracy: 0.9930 - val_loss: 1.0269 - val_userOut_loss: 0.5428 - val_classOut_loss: 0.4340 - val_userOut_accuracy: 0.8812 - val_classOut_accuracy: 0.7963\n",
            "Epoch 100/100\n",
            "311/311 [==============================] - 4s 12ms/step - loss: 0.2082 - userOut_loss: 0.1454 - classOut_loss: 0.0126 - userOut_accuracy: 0.9567 - classOut_accuracy: 0.9956 - val_loss: 0.9471 - val_userOut_loss: 0.5219 - val_classOut_loss: 0.3751 - val_userOut_accuracy: 0.8953 - val_classOut_accuracy: 0.8156\n"
          ],
          "name": "stdout"
        },
        {
          "output_type": "execute_result",
          "data": {
            "text/plain": [
              "<tensorflow.python.keras.callbacks.History at 0x7fb5b250d390>"
            ]
          },
          "metadata": {
            "tags": []
          },
          "execution_count": 42
        }
      ]
    },
    {
      "cell_type": "code",
      "metadata": {
        "id": "zUJPWee-8sGX",
        "colab": {
          "base_uri": "https://localhost:8080/",
          "height": 265
        },
        "outputId": "9dd4a6a0-7914-4153-fd5e-1c43421d946a"
      },
      "source": [
        "plt.plot(val_userOut_acc,'r.-')\n",
        "plt.plot(val_classOut_acc,'b.-')\n",
        "plt.plot(model_reg.history.history['val_userOut_accuracy'],'m.-')\n",
        "plt.plot(model_reg.history.history['val_classOut_accuracy'],'y.-')\n",
        "plt.plot(model_more_data.history.history['val_userOut_accuracy'],'c.-')\n",
        "plt.plot(model_more_data.history.history['val_classOut_accuracy'],'k.-')\n",
        "plt.legend(['User\\'s Acc','Classes\\'s Acc', 'User Acc Regularization','Class Acc Regularization','More Data','More Data'])\n",
        "plt.show()"
      ],
      "execution_count": null,
      "outputs": [
        {
          "output_type": "display_data",
          "data": {
            "image/png": "[encoded data removed]",
            "text/plain": [
              "<Figure size 432x288 with 1 Axes>"
            ]
          },
          "metadata": {
            "tags": [],
            "needs_background": "light"
          }
        }
      ]
    },
    {
      "cell_type": "code",
      "metadata": {
        "id": "9h8Ngx5e8sGc",
        "colab": {
          "base_uri": "https://localhost:8080/",
          "height": 265
        },
        "outputId": "0018a97e-669f-4b83-8e9b-d9b2cebee5e3"
      },
      "source": [
        "plt.plot(val_userOut_loss,'r.-')\n",
        "plt.plot(val_classOut_loss,'b.-')\n",
        "plt.plot(model_reg.history.history['val_userOut_loss'],'m.-')\n",
        "plt.plot(model_reg.history.history['val_classOut_loss'],'y.-')\n",
        "plt.plot(model_more_data.history.history['val_userOut_loss'],'c.-')\n",
        "plt.plot(model_more_data.history.history['val_classOut_loss'],'k.-')\n",
        "plt.legend(['User\\'s loss','Classes\\'s loss', 'User loss Regularization','Class loss Regularization','More Data', 'More Data'])\n",
        "plt.show()"
      ],
      "execution_count": null,
      "outputs": [
        {
          "output_type": "display_data",
          "data": {
            "image/png": "[encoded data removed]",
            "text/plain": [
              "<Figure size 432x288 with 1 Axes>"
            ]
          },
          "metadata": {
            "tags": [],
            "needs_background": "light"
          }
        }
      ]
    },
    {
      "cell_type": "markdown",
      "metadata": {
        "id": "KSnxkdnO9tLL"
      },
      "source": [
        "# **With SVM**"
      ]
    },
    {
      "cell_type": "markdown",
      "metadata": {
        "id": "bHnjbEuUBhsS"
      },
      "source": [
        "Saving first model weights"
      ]
    },
    {
      "cell_type": "markdown",
      "metadata": {
        "id": "vBoFfXXMCvks"
      },
      "source": [
        "**User Features**"
      ]
    },
    {
      "cell_type": "code",
      "metadata": {
        "id": "b7N9Pkfu9ssT"
      },
      "source": [
        "model.save_weights('first_model_89-88.h5')"
      ],
      "execution_count": null,
      "outputs": []
    },
    {
      "cell_type": "code",
      "metadata": {
        "colab": {
          "base_uri": "https://localhost:8080/"
        },
        "id": "eqDb-uOnhSBn",
        "outputId": "ca610a70-0cd4-42db-e8a8-7b77a09cc3c3"
      },
      "source": [
        "print(tf.__version__)\r\n",
        "print(K.__version__)"
      ],
      "execution_count": null,
      "outputs": [
        {
          "output_type": "stream",
          "text": [
            "2.4.0\n",
            "2.4.3\n"
          ],
          "name": "stdout"
        }
      ]
    },
    {
      "cell_type": "code",
      "metadata": {
        "id": "M3XqDrBeBpL8",
        "colab": {
          "base_uri": "https://localhost:8080/",
          "height": 911
        },
        "outputId": "d0de0b44-744d-4add-d375-8f15b9b52430"
      },
      "source": [
        "model_temp = my_model(input_shape=(96,96,3))\n",
        "model_temp.load_weights('first_model_89-88.h5')\n",
        "model_temp.layers.pop()\n",
        "\n",
        "for layers in model_temp.layers:\n",
        "    layers.trainable=False\n",
        "    print(layers, layers.trainable)\n",
        "    \n",
        "layer_name = 'Connection_User'\n",
        "FC_layer_out = Model(inputs=model_temp.input, outputs=model_temp.get_layer(layer_name).output)    \n",
        "        \n",
        "training_features = []\n",
        "test_features = []\n",
        "\n",
        "for i in range(X_train.shape[0]):\n",
        "    temp_img = X_train[i]\n",
        "    temp_img = np.expand_dims(temp_img,axis=0)\n",
        "    features = FC_layer_out.predict(temp_img)\n",
        "    training_features.append(features)\n",
        "    \n",
        "training_features = np.array(training_features)"
      ],
      "execution_count": null,
      "outputs": [
        {
          "output_type": "stream",
          "text": [
            "<tensorflow.python.keras.engine.input_layer.InputLayer object at 0x7fb4dbe2e048> False\n",
            "<tensorflow.python.keras.layers.convolutional.Conv2D object at 0x7fb4dbe2e470> False\n",
            "<tensorflow.python.keras.layers.normalization_v2.BatchNormalization object at 0x7fb4dbe41b38> False\n",
            "<tensorflow.python.keras.layers.core.Activation object at 0x7fb4dbea01d0> False\n",
            "<tensorflow.python.keras.layers.pooling.MaxPooling2D object at 0x7fb4dbe41400> False\n",
            "<tensorflow.python.keras.layers.convolutional.Conv2D object at 0x7fb4dbe2e438> False\n",
            "<tensorflow.python.keras.layers.normalization_v2.BatchNormalization object at 0x7fb4dbf26240> False\n",
            "<tensorflow.python.keras.layers.core.Activation object at 0x7fb4dbe8dd68> False\n",
            "<tensorflow.python.keras.layers.convolutional.Conv2D object at 0x7fb4dbea7710> False\n",
            "<tensorflow.python.keras.layers.normalization_v2.BatchNormalization object at 0x7fb4dbe6c0f0> False\n",
            "<tensorflow.python.keras.layers.core.Activation object at 0x7fb4dbe6c9b0> False\n",
            "<tensorflow.python.keras.layers.pooling.MaxPooling2D object at 0x7fb4dbe41828> False\n",
            "<tensorflow.python.keras.layers.convolutional.Conv2D object at 0x7fb4dbe51908> False\n",
            "<tensorflow.python.keras.layers.normalization_v2.BatchNormalization object at 0x7fb4dbe34438> False\n",
            "<tensorflow.python.keras.layers.core.Activation object at 0x7fb4dbe9a6d8> False\n",
            "<tensorflow.python.keras.layers.convolutional.Conv2D object at 0x7fb4dbe2eb38> False\n",
            "<tensorflow.python.keras.layers.normalization_v2.BatchNormalization object at 0x7fb4dbe76748> False\n",
            "<tensorflow.python.keras.layers.core.Activation object at 0x7fb4dbe482b0> False\n",
            "<tensorflow.python.keras.layers.core.Flatten object at 0x7fb4dbe955c0> False\n",
            "<tensorflow.python.keras.layers.core.Dense object at 0x7fb4dbe090f0> False\n",
            "<tensorflow.python.keras.layers.normalization_v2.BatchNormalization object at 0x7fb4dbed0a90> False\n",
            "<tensorflow.python.keras.layers.core.Activation object at 0x7fb4dbe10da0> False\n",
            "<tensorflow.python.keras.layers.core.Dropout object at 0x7fb4dbe100f0> False\n",
            "<tensorflow.python.keras.layers.core.Dense object at 0x7fb4dbe343c8> False\n",
            "<tensorflow.python.keras.layers.core.Dense object at 0x7fb4dbe18b00> False\n",
            "<tensorflow.python.keras.layers.normalization_v2.BatchNormalization object at 0x7fb4dbe090b8> False\n",
            "<tensorflow.python.keras.layers.normalization_v2.BatchNormalization object at 0x7fb4dbe18160> False\n",
            "<tensorflow.python.keras.layers.core.Activation object at 0x7fb4dbe18d68> False\n",
            "<tensorflow.python.keras.layers.core.Activation object at 0x7fb4dbdb1320> False\n",
            "<tensorflow.python.keras.layers.core.Dropout object at 0x7fb4dbe18c50> False\n",
            "<tensorflow.python.keras.layers.core.Dropout object at 0x7fb4dbdb1b70> False\n",
            "<tensorflow.python.keras.layers.core.Dense object at 0x7fb4dbe18cc0> False\n",
            "<tensorflow.python.keras.layers.core.Dense object at 0x7fb4dbe18550> False\n"
          ],
          "name": "stdout"
        },
        {
          "output_type": "error",
          "ename": "ValueError",
          "evalue": "ignored",
          "traceback": [
            "\u001b[0;31m---------------------------------------------------------------------------\u001b[0m",
            "\u001b[0;31mValueError\u001b[0m                                Traceback (most recent call last)",
            "\u001b[0;32m<ipython-input-63-cb18cdbd777f>\u001b[0m in \u001b[0;36m<module>\u001b[0;34m()\u001b[0m\n\u001b[1;32m      8\u001b[0m \u001b[0;34m\u001b[0m\u001b[0m\n\u001b[1;32m      9\u001b[0m \u001b[0mlayer_name\u001b[0m \u001b[0;34m=\u001b[0m \u001b[0;34m'Connection_User'\u001b[0m\u001b[0;34m\u001b[0m\u001b[0;34m\u001b[0m\u001b[0m\n\u001b[0;32m---> 10\u001b[0;31m \u001b[0mFC_layer_out\u001b[0m \u001b[0;34m=\u001b[0m \u001b[0mModel\u001b[0m\u001b[0;34m(\u001b[0m\u001b[0minputs\u001b[0m\u001b[0;34m=\u001b[0m\u001b[0mmodel_temp\u001b[0m\u001b[0;34m.\u001b[0m\u001b[0minput\u001b[0m\u001b[0;34m,\u001b[0m \u001b[0moutputs\u001b[0m\u001b[0;34m=\u001b[0m\u001b[0mmodel_temp\u001b[0m\u001b[0;34m.\u001b[0m\u001b[0mget_layer\u001b[0m\u001b[0;34m(\u001b[0m\u001b[0mlayer_name\u001b[0m\u001b[0;34m)\u001b[0m\u001b[0;34m.\u001b[0m\u001b[0moutput\u001b[0m\u001b[0;34m)\u001b[0m\u001b[0;34m\u001b[0m\u001b[0;34m\u001b[0m\u001b[0m\n\u001b[0m\u001b[1;32m     11\u001b[0m \u001b[0;34m\u001b[0m\u001b[0m\n\u001b[1;32m     12\u001b[0m \u001b[0mtraining_features\u001b[0m \u001b[0;34m=\u001b[0m \u001b[0;34m[\u001b[0m\u001b[0;34m]\u001b[0m\u001b[0;34m\u001b[0m\u001b[0;34m\u001b[0m\u001b[0m\n",
            "\u001b[0;32m/usr/local/lib/python3.6/dist-packages/tensorflow/python/keras/engine/training.py\u001b[0m in \u001b[0;36mget_layer\u001b[0;34m(self, name, index)\u001b[0m\n\u001b[1;32m   2421\u001b[0m         \u001b[0;32mif\u001b[0m \u001b[0mlayer\u001b[0m\u001b[0;34m.\u001b[0m\u001b[0mname\u001b[0m \u001b[0;34m==\u001b[0m \u001b[0mname\u001b[0m\u001b[0;34m:\u001b[0m\u001b[0;34m\u001b[0m\u001b[0;34m\u001b[0m\u001b[0m\n\u001b[1;32m   2422\u001b[0m           \u001b[0;32mreturn\u001b[0m \u001b[0mlayer\u001b[0m\u001b[0;34m\u001b[0m\u001b[0;34m\u001b[0m\u001b[0m\n\u001b[0;32m-> 2423\u001b[0;31m       \u001b[0;32mraise\u001b[0m \u001b[0mValueError\u001b[0m\u001b[0;34m(\u001b[0m\u001b[0;34m'No such layer: '\u001b[0m \u001b[0;34m+\u001b[0m \u001b[0mname\u001b[0m \u001b[0;34m+\u001b[0m \u001b[0;34m'.'\u001b[0m\u001b[0;34m)\u001b[0m\u001b[0;34m\u001b[0m\u001b[0;34m\u001b[0m\u001b[0m\n\u001b[0m\u001b[1;32m   2424\u001b[0m     \u001b[0;32mraise\u001b[0m \u001b[0mValueError\u001b[0m\u001b[0;34m(\u001b[0m\u001b[0;34m'Provide either a layer name or layer index.'\u001b[0m\u001b[0;34m)\u001b[0m\u001b[0;34m\u001b[0m\u001b[0;34m\u001b[0m\u001b[0m\n\u001b[1;32m   2425\u001b[0m \u001b[0;34m\u001b[0m\u001b[0m\n",
            "\u001b[0;31mValueError\u001b[0m: No such layer: Connection_User."
          ]
        }
      ]
    },
    {
      "cell_type": "code",
      "metadata": {
        "id": "86fcfKWJBv9a",
        "colab": {
          "base_uri": "https://localhost:8080/",
          "height": 231
        },
        "outputId": "533776d0-38e4-4676-a917-6edc5d5d9e09"
      },
      "source": [
        "for i in range(X_test.shape[0]):\n",
        "    temp_im = X_test[i]\n",
        "    temp_im = np.expand_dims(temp_im,axis=0)\n",
        "    features_test = FC_layer_out.predict(temp_im)\n",
        "    test_features.append(features_test)\n",
        "    \n",
        "test_features = np.array(test_features)"
      ],
      "execution_count": null,
      "outputs": [
        {
          "output_type": "error",
          "ename": "NameError",
          "evalue": "ignored",
          "traceback": [
            "\u001b[0;31m---------------------------------------------------------------------------\u001b[0m",
            "\u001b[0;31mNameError\u001b[0m                                 Traceback (most recent call last)",
            "\u001b[0;32m<ipython-input-64-1fb4ca336d90>\u001b[0m in \u001b[0;36m<module>\u001b[0;34m()\u001b[0m\n\u001b[1;32m      2\u001b[0m     \u001b[0mtemp_im\u001b[0m \u001b[0;34m=\u001b[0m \u001b[0mX_test\u001b[0m\u001b[0;34m[\u001b[0m\u001b[0mi\u001b[0m\u001b[0;34m]\u001b[0m\u001b[0;34m\u001b[0m\u001b[0;34m\u001b[0m\u001b[0m\n\u001b[1;32m      3\u001b[0m     \u001b[0mtemp_im\u001b[0m \u001b[0;34m=\u001b[0m \u001b[0mnp\u001b[0m\u001b[0;34m.\u001b[0m\u001b[0mexpand_dims\u001b[0m\u001b[0;34m(\u001b[0m\u001b[0mtemp_im\u001b[0m\u001b[0;34m,\u001b[0m\u001b[0maxis\u001b[0m\u001b[0;34m=\u001b[0m\u001b[0;36m0\u001b[0m\u001b[0;34m)\u001b[0m\u001b[0;34m\u001b[0m\u001b[0;34m\u001b[0m\u001b[0m\n\u001b[0;32m----> 4\u001b[0;31m     \u001b[0mfeatures_test\u001b[0m \u001b[0;34m=\u001b[0m \u001b[0mFC_layer_out\u001b[0m\u001b[0;34m.\u001b[0m\u001b[0mpredict\u001b[0m\u001b[0;34m(\u001b[0m\u001b[0mtemp_im\u001b[0m\u001b[0;34m)\u001b[0m\u001b[0;34m\u001b[0m\u001b[0;34m\u001b[0m\u001b[0m\n\u001b[0m\u001b[1;32m      5\u001b[0m     \u001b[0mtest_features\u001b[0m\u001b[0;34m.\u001b[0m\u001b[0mappend\u001b[0m\u001b[0;34m(\u001b[0m\u001b[0mfeatures_test\u001b[0m\u001b[0;34m)\u001b[0m\u001b[0;34m\u001b[0m\u001b[0;34m\u001b[0m\u001b[0m\n\u001b[1;32m      6\u001b[0m \u001b[0;34m\u001b[0m\u001b[0m\n",
            "\u001b[0;31mNameError\u001b[0m: name 'FC_layer_out' is not defined"
          ]
        }
      ]
    },
    {
      "cell_type": "code",
      "metadata": {
        "id": "2fjayYaCDUP9"
      },
      "source": [
        "import h5py as h5"
      ],
      "execution_count": null,
      "outputs": []
    },
    {
      "cell_type": "code",
      "metadata": {
        "id": "oMWxR-qzCS3z"
      },
      "source": [
        "features = h5.File('user_features_train_test.h5','w')\n",
        "features.create_dataset('train', data = training_features)\n",
        "features.create_dataset('test', data = test_features)\n",
        "features.close()"
      ],
      "execution_count": null,
      "outputs": []
    },
    {
      "cell_type": "markdown",
      "metadata": {
        "id": "plWnaoBlCtVe"
      },
      "source": [
        "**Class Features**"
      ]
    },
    {
      "cell_type": "code",
      "metadata": {
        "id": "n-FohT5nCbQF",
        "colab": {
          "base_uri": "https://localhost:8080/",
          "height": 561
        },
        "outputId": "7a6b9f69-5a38-4a58-b697-34a47b5dcaa1"
      },
      "source": [
        "model_temp = my_model(input_shape=(96,96,3))\n",
        "model_temp.load_weights('first_model_89-88.h5')\n",
        "model_temp.layers.pop()\n",
        "\n",
        "for layers in model_temp.layers:\n",
        "    layers.trainable=False\n",
        "    print(layers, layers.trainable)\n",
        "    \n",
        "layer_name = 'Connection_Class'\n",
        "FC_layer_out = Model(inputs=model_temp.input, outputs=model_temp.get_layer(layer_name).output)    \n",
        "        \n",
        "training_features = []\n",
        "test_features = []\n",
        "\n",
        "for i in range(X_train.shape[0]):\n",
        "    temp_img = X_train[i]\n",
        "    temp_img = np.expand_dims(temp_img,axis=0)\n",
        "    features = FC_layer_out.predict(temp_img)\n",
        "    training_features.append(features)\n",
        "    \n",
        "training_features = np.array(training_features)"
      ],
      "execution_count": null,
      "outputs": [
        {
          "output_type": "stream",
          "text": [
            "<keras.engine.input_layer.InputLayer object at 0x7fa213af0ba8> False\n",
            "<keras.layers.convolutional.Conv2D object at 0x7fa2166cd7f0> False\n",
            "<keras.layers.normalization.BatchNormalization object at 0x7fa213af0eb8> False\n",
            "<keras.layers.core.Activation object at 0x7fa213af07f0> False\n",
            "<keras.layers.pooling.MaxPooling2D object at 0x7fa21770ec18> False\n",
            "<keras.layers.convolutional.Conv2D object at 0x7fa217730b70> False\n",
            "<keras.layers.normalization.BatchNormalization object at 0x7fa213a8dcc0> False\n",
            "<keras.layers.core.Activation object at 0x7fa213a3b4e0> False\n",
            "<keras.layers.convolutional.Conv2D object at 0x7fa2139e67f0> False\n",
            "<keras.layers.normalization.BatchNormalization object at 0x7fa2139fd208> False\n",
            "<keras.layers.core.Activation object at 0x7fa2139ba320> False\n",
            "<keras.layers.pooling.MaxPooling2D object at 0x7fa213936c88> False\n",
            "<keras.layers.convolutional.Conv2D object at 0x7fa2138d30b8> False\n",
            "<keras.layers.normalization.BatchNormalization object at 0x7fa2138c6fd0> False\n",
            "<keras.layers.core.Activation object at 0x7fa2138098d0> False\n",
            "<keras.layers.convolutional.Conv2D object at 0x7fa2137e1d68> False\n",
            "<keras.layers.normalization.BatchNormalization object at 0x7fa213845a90> False\n",
            "<keras.layers.core.Activation object at 0x7fa2137ff978> False\n",
            "<keras.layers.core.Flatten object at 0x7fa2137187b8> False\n",
            "<keras.layers.core.Dense object at 0x7fa213718860> False\n",
            "<keras.layers.normalization.BatchNormalization object at 0x7fa213674cc0> False\n",
            "<keras.layers.core.Activation object at 0x7fa213674be0> False\n",
            "<keras.layers.core.Dropout object at 0x7fa213613940> False\n",
            "<keras.layers.core.Dense object at 0x7fa2136136d8> False\n",
            "<keras.layers.core.Dense object at 0x7fa213535550> False\n",
            "<keras.layers.normalization.BatchNormalization object at 0x7fa2135ecd30> False\n",
            "<keras.layers.normalization.BatchNormalization object at 0x7fa21344b6d8> False\n",
            "<keras.layers.core.Activation object at 0x7fa2135ecba8> False\n",
            "<keras.layers.core.Activation object at 0x7fa213492b70> False\n",
            "<keras.layers.core.Dropout object at 0x7fa2135357b8> False\n",
            "<keras.layers.core.Dropout object at 0x7fa213c24940> False\n",
            "<keras.layers.core.Dense object at 0x7fa21342fe10> False\n"
          ],
          "name": "stdout"
        }
      ]
    },
    {
      "cell_type": "code",
      "metadata": {
        "id": "wJkT793yCh8v"
      },
      "source": [
        "for i in range(X_test.shape[0]):\n",
        "    temp_im = X_test[i]\n",
        "    temp_im = np.expand_dims(temp_im,axis=0)\n",
        "    features_test = FC_layer_out.predict(temp_im)\n",
        "    test_features.append(features_test)\n",
        "    \n",
        "test_features = np.array(test_features)"
      ],
      "execution_count": null,
      "outputs": []
    },
    {
      "cell_type": "code",
      "metadata": {
        "id": "nvJow6cJChv4"
      },
      "source": [
        "features = h5.File('class_features_train_test.h5','w')\n",
        "features.create_dataset('train', data = training_features)\n",
        "features.create_dataset('test', data = test_features)\n",
        "features.close()"
      ],
      "execution_count": null,
      "outputs": []
    },
    {
      "cell_type": "markdown",
      "metadata": {
        "id": "wN__dOsKD1Ea"
      },
      "source": [
        "**Loading Data, if the upside lines was already runned, run it these only.**"
      ]
    },
    {
      "cell_type": "code",
      "metadata": {
        "id": "HiTfG-BTEXYz",
        "colab": {
          "base_uri": "https://localhost:8080/",
          "height": 85
        },
        "outputId": "3ffa4a7b-3c9a-40d3-dea6-31ca3cef798b"
      },
      "source": [
        "import h5py as h5\n",
        "hf = h5.File('user_features_train_test.h5','r')\n",
        "hf.keys()\n",
        "\n",
        "train_data_user = hf.get('train')\n",
        "test_data_user = hf.get('test')\n",
        "\n",
        "train_data_user = np.asarray(train_data_user)\n",
        "print(train_data_user.shape)\n",
        "\n",
        "test_data_user = np.asarray(test_data_user)\n",
        "print(test_data_user.shape)\n",
        "\n",
        "hf.close()\n",
        "\n",
        "train_data_user = np.reshape(train_data_user,(train_data_user.shape[0],train_data_user.shape[2]))\n",
        "test_data_user = np.reshape(test_data_user,(test_data_user.shape[0],test_data_user.shape[2]))\n",
        "print(train_data_user.shape)\n",
        "print(test_data_user.shape)"
      ],
      "execution_count": null,
      "outputs": [
        {
          "output_type": "stream",
          "text": [
            "(6624, 1, 256)\n",
            "(1656, 1, 256)\n",
            "(6624, 256)\n",
            "(1656, 256)\n"
          ],
          "name": "stdout"
        }
      ]
    },
    {
      "cell_type": "code",
      "metadata": {
        "id": "S9SOyt_wEm2k",
        "colab": {
          "base_uri": "https://localhost:8080/",
          "height": 85
        },
        "outputId": "27766d15-f39c-4447-ae6a-4d10be17148d"
      },
      "source": [
        "hf = h5.File('class_features_train_test.h5','r')\n",
        "hf.keys()\n",
        "\n",
        "train_data_class = hf.get('train')\n",
        "test_data_class = hf.get('test')\n",
        "\n",
        "train_data_class = np.asarray(train_data_class)\n",
        "print(train_data_class.shape)\n",
        "\n",
        "test_data_class = np.asarray(test_data_class)\n",
        "print(test_data_class.shape)\n",
        "\n",
        "hf.close()\n",
        "\n",
        "train_data_class = np.reshape(train_data_class,(train_data_class.shape[0],train_data_class.shape[2]))\n",
        "test_data_class = np.reshape(test_data_class,(test_data_class.shape[0],test_data_class.shape[2]))\n",
        "print(train_data_class.shape)\n",
        "print(test_data_class.shape)"
      ],
      "execution_count": null,
      "outputs": [
        {
          "output_type": "stream",
          "text": [
            "(6624, 1, 256)\n",
            "(1656, 1, 256)\n",
            "(6624, 256)\n",
            "(1656, 256)\n"
          ],
          "name": "stdout"
        }
      ]
    },
    {
      "cell_type": "code",
      "metadata": {
        "id": "Be4I22bbFDU9"
      },
      "source": [
        "#y_train_class = user to_categorical, y_train_names = class mlb\n",
        "\n",
        "train_data_user_label = y_train_class\n",
        "test_data_user_label = y_test_class\n",
        "\n",
        "train_data_class_label = y_train_names\n",
        "test_data_class_label = y_test_names"
      ],
      "execution_count": null,
      "outputs": []
    },
    {
      "cell_type": "code",
      "metadata": {
        "id": "YUxymtv6FpQs"
      },
      "source": [
        "train_data_class_label = mlb.inverse_transform(train_data_class_label)\n",
        "test_data_class_label = mlb.inverse_transform(test_data_class_label)\n",
        "\n",
        "train_data_user_label = np.argmax(train_data_user_label ,axis=1)\n",
        "test_data_user_label = np.argmax(test_data_user_label ,axis=1)"
      ],
      "execution_count": null,
      "outputs": []
    },
    {
      "cell_type": "code",
      "metadata": {
        "id": "xTMIjM89HwrW"
      },
      "source": [
        "class_label = []\n",
        "for item in range(len(train_data_class_label)):\n",
        "  temp = train_data_class_label[item]\n",
        "  temp = temp[0]\n",
        "  class_label.append(temp)\n",
        "  "
      ],
      "execution_count": null,
      "outputs": []
    },
    {
      "cell_type": "code",
      "metadata": {
        "id": "l-5f12FwKBA7"
      },
      "source": [
        "class_label_test = []\n",
        "for item in range(len(test_data_class_label)):\n",
        "  temp = test_data_class_label[item]\n",
        "  temp = temp[0]\n",
        "  class_label_test.append(temp)"
      ],
      "execution_count": null,
      "outputs": []
    },
    {
      "cell_type": "code",
      "metadata": {
        "id": "4x827gk-JfvF",
        "colab": {
          "base_uri": "https://localhost:8080/",
          "height": 85
        },
        "outputId": "f93829bd-c5b7-4671-af57-6788619e0429"
      },
      "source": [
        "class_label = np.array(class_label)\n",
        "class_label_test = np.array(class_label_test)\n",
        "print(class_label.shape)\n",
        "print(class_label_test.shape)\n",
        "print(len(train_data_class_label))\n",
        "print(len(test_data_class_label))"
      ],
      "execution_count": null,
      "outputs": [
        {
          "output_type": "stream",
          "text": [
            "(6624,)\n",
            "(1656,)\n",
            "6624\n",
            "1656\n"
          ],
          "name": "stdout"
        }
      ]
    },
    {
      "cell_type": "code",
      "metadata": {
        "id": "u8w81ODWGeNJ",
        "colab": {
          "base_uri": "https://localhost:8080/",
          "height": 34
        },
        "outputId": "18bbb9a3-0159-40e4-c0b2-86ff692bb1e3"
      },
      "source": [
        "train_data_user_label.shape"
      ],
      "execution_count": null,
      "outputs": [
        {
          "output_type": "execute_result",
          "data": {
            "text/plain": [
              "(6624,)"
            ]
          },
          "metadata": {
            "tags": []
          },
          "execution_count": 30
        }
      ]
    },
    {
      "cell_type": "code",
      "metadata": {
        "id": "Ku862JtIMxS6",
        "colab": {
          "base_uri": "https://localhost:8080/",
          "height": 34
        },
        "outputId": "780154ae-ea23-4f30-bd31-cf82ebf6807e"
      },
      "source": [
        "class_label.shape"
      ],
      "execution_count": null,
      "outputs": [
        {
          "output_type": "execute_result",
          "data": {
            "text/plain": [
              "(6624,)"
            ]
          },
          "metadata": {
            "tags": []
          },
          "execution_count": 31
        }
      ]
    },
    {
      "cell_type": "code",
      "metadata": {
        "id": "sQQWDS2_Ly4d",
        "colab": {
          "base_uri": "https://localhost:8080/",
          "height": 102
        },
        "outputId": "c5f52d03-15fd-4204-c319-d9b01f2af437"
      },
      "source": [
        "!pip install scikit-multilearn"
      ],
      "execution_count": null,
      "outputs": [
        {
          "output_type": "stream",
          "text": [
            "Collecting scikit-multilearn\n",
            "\u001b[?25l  Downloading https://files.pythonhosted.org/packages/e5/0e/3676301ed22e48037fb67dad2f5f35c1ba24dcfefae6c882fd1e35566e0f/scikit_multilearn-0.1.0-py3-none-any.whl (70kB)\n",
            "\u001b[K    100% |████████████████████████████████| 71kB 6.0MB/s \n",
            "\u001b[?25hInstalling collected packages: scikit-multilearn\n",
            "Successfully installed scikit-multilearn-0.1.0\n"
          ],
          "name": "stdout"
        }
      ]
    },
    {
      "cell_type": "code",
      "metadata": {
        "id": "NS4KuMSjpSXi",
        "colab": {
          "base_uri": "https://localhost:8080/",
          "height": 34
        },
        "outputId": "558ce1bb-4121-4e07-c3c3-7f9c424d55c4"
      },
      "source": [
        "yeni_train.shape"
      ],
      "execution_count": null,
      "outputs": [
        {
          "output_type": "execute_result",
          "data": {
            "text/plain": [
              "(6624,)"
            ]
          },
          "metadata": {
            "tags": []
          },
          "execution_count": 52
        }
      ]
    },
    {
      "cell_type": "code",
      "metadata": {
        "id": "30d5CfDVLysh",
        "colab": {
          "base_uri": "https://localhost:8080/",
          "height": 85
        },
        "outputId": "79745208-cde8-43b3-edfb-6c202b576517"
      },
      "source": [
        "\n",
        "from sklearn.svm import SVC\n",
        "\n",
        "clf = SVC(kernel='rbf',random_state=42, degree=3)\n",
        "clf.fit(train_data_user, yeni_train)"
      ],
      "execution_count": null,
      "outputs": [
        {
          "output_type": "execute_result",
          "data": {
            "text/plain": [
              "SVC(C=1.0, cache_size=200, class_weight=None, coef0=0.0,\n",
              "  decision_function_shape='ovr', degree=3, gamma='auto', kernel='rbf',\n",
              "  max_iter=-1, probability=False, random_state=42, shrinking=True,\n",
              "  tol=0.001, verbose=False)"
            ]
          },
          "metadata": {
            "tags": []
          },
          "execution_count": 53
        }
      ]
    },
    {
      "cell_type": "code",
      "metadata": {
        "id": "MIJBxkB-POFV"
      },
      "source": [
        "prediction = clf.predict(test_data_user)"
      ],
      "execution_count": null,
      "outputs": []
    },
    {
      "cell_type": "code",
      "metadata": {
        "id": "eLxAwZ88PiaG",
        "colab": {
          "base_uri": "https://localhost:8080/",
          "height": 34
        },
        "outputId": "6e22bb68-422b-4bc8-a0c2-9f63f35ce9ed"
      },
      "source": [
        "import sklearn.metrics as metrics\n",
        "\n",
        "metrics.hamming_loss(yeni_test, prediction)"
      ],
      "execution_count": null,
      "outputs": [
        {
          "output_type": "execute_result",
          "data": {
            "text/plain": [
              "0.45652173913043476"
            ]
          },
          "metadata": {
            "tags": []
          },
          "execution_count": 55
        }
      ]
    },
    {
      "cell_type": "code",
      "metadata": {
        "id": "HAknaZxNPmlE",
        "colab": {
          "base_uri": "https://localhost:8080/",
          "height": 34
        },
        "outputId": "a874541f-b36c-4dc1-c93a-d0f62ff473d7"
      },
      "source": [
        "metrics.accuracy_score(yeni_test, prediction)\n"
      ],
      "execution_count": null,
      "outputs": [
        {
          "output_type": "execute_result",
          "data": {
            "text/plain": [
              "0.5434782608695652"
            ]
          },
          "metadata": {
            "tags": []
          },
          "execution_count": 56
        }
      ]
    },
    {
      "cell_type": "markdown",
      "metadata": {
        "id": "AsBKomR2WXiO"
      },
      "source": [
        "**Using Class Features**"
      ]
    },
    {
      "cell_type": "code",
      "metadata": {
        "id": "uQ0n6VjuWbdp",
        "colab": {
          "base_uri": "https://localhost:8080/",
          "height": 85
        },
        "outputId": "8d121c7d-a7c6-4d96-9f88-2e3cbe9222cf"
      },
      "source": [
        "clf.fit(train_data_class, class_label)"
      ],
      "execution_count": null,
      "outputs": [
        {
          "output_type": "execute_result",
          "data": {
            "text/plain": [
              "SVC(C=1.0, cache_size=200, class_weight=None, coef0=0.0,\n",
              "  decision_function_shape='ovr', degree=4, gamma='auto', kernel='linear',\n",
              "  max_iter=-1, probability=False, random_state=42, shrinking=True,\n",
              "  tol=0.001, verbose=False)"
            ]
          },
          "metadata": {
            "tags": []
          },
          "execution_count": 44
        }
      ]
    },
    {
      "cell_type": "code",
      "metadata": {
        "id": "tGD1949nWlih"
      },
      "source": [
        "prediction_class = clf.predict(test_data_class)"
      ],
      "execution_count": null,
      "outputs": []
    },
    {
      "cell_type": "code",
      "metadata": {
        "id": "ngb1yIbLWtqH",
        "colab": {
          "base_uri": "https://localhost:8080/",
          "height": 34
        },
        "outputId": "5ae5ba42-5352-4ddb-ddba-3f87aeef9aff"
      },
      "source": [
        "metrics.hamming_loss(class_label_test, prediction_class)"
      ],
      "execution_count": null,
      "outputs": [
        {
          "output_type": "execute_result",
          "data": {
            "text/plain": [
              "0.23067632850241546"
            ]
          },
          "metadata": {
            "tags": []
          },
          "execution_count": 46
        }
      ]
    },
    {
      "cell_type": "code",
      "metadata": {
        "id": "tY--FoBNWuJE",
        "colab": {
          "base_uri": "https://localhost:8080/",
          "height": 34
        },
        "outputId": "b163f92d-538f-4e63-aedd-08509e555062"
      },
      "source": [
        "metrics.accuracy_score(class_label_test, prediction_class)"
      ],
      "execution_count": null,
      "outputs": [
        {
          "output_type": "execute_result",
          "data": {
            "text/plain": [
              "0.7693236714975845"
            ]
          },
          "metadata": {
            "tags": []
          },
          "execution_count": 47
        }
      ]
    },
    {
      "cell_type": "markdown",
      "metadata": {
        "id": "9uZNyE5IXuni"
      },
      "source": [
        "# Using RandomForest"
      ]
    },
    {
      "cell_type": "code",
      "metadata": {
        "id": "lBvg2tzTXuB1",
        "colab": {
          "base_uri": "https://localhost:8080/",
          "height": 119
        },
        "outputId": "90fa0feb-6bc8-4335-e496-4aa6bde615cf"
      },
      "source": [
        "from sklearn.ensemble import RandomForestClassifier\n",
        "\n",
        "clf = RandomForestClassifier(n_jobs=-1, random_state=42, criterion='entropy',n_estimators=30)\n",
        "\n",
        "clf.fit(train_data_user, yeni_train)"
      ],
      "execution_count": null,
      "outputs": [
        {
          "output_type": "execute_result",
          "data": {
            "text/plain": [
              "RandomForestClassifier(bootstrap=True, class_weight=None, criterion='entropy',\n",
              "            max_depth=None, max_features='auto', max_leaf_nodes=None,\n",
              "            min_impurity_decrease=0.0, min_impurity_split=None,\n",
              "            min_samples_leaf=1, min_samples_split=2,\n",
              "            min_weight_fraction_leaf=0.0, n_estimators=30, n_jobs=-1,\n",
              "            oob_score=False, random_state=42, verbose=0, warm_start=False)"
            ]
          },
          "metadata": {
            "tags": []
          },
          "execution_count": 57
        }
      ]
    },
    {
      "cell_type": "code",
      "metadata": {
        "id": "UbCJ5ACJY0er"
      },
      "source": [
        "prediction = clf.predict(test_data_user)"
      ],
      "execution_count": null,
      "outputs": []
    },
    {
      "cell_type": "code",
      "metadata": {
        "id": "lCslTqAJfSEf",
        "colab": {
          "base_uri": "https://localhost:8080/",
          "height": 34
        },
        "outputId": "f9b284ac-3bc6-4d1c-8eaf-0e140017eb42"
      },
      "source": [
        "from sklearn import metrics\n",
        "metrics.hamming_loss(yeni_test, prediction)"
      ],
      "execution_count": null,
      "outputs": [
        {
          "output_type": "execute_result",
          "data": {
            "text/plain": [
              "0.3858695652173913"
            ]
          },
          "metadata": {
            "tags": []
          },
          "execution_count": 59
        }
      ]
    },
    {
      "cell_type": "code",
      "metadata": {
        "id": "5wEsnqXafVVF",
        "colab": {
          "base_uri": "https://localhost:8080/",
          "height": 34
        },
        "outputId": "b4522283-82f2-46c3-e6c8-833cd38362a8"
      },
      "source": [
        "metrics.accuracy_score(yeni_test, prediction)"
      ],
      "execution_count": null,
      "outputs": [
        {
          "output_type": "execute_result",
          "data": {
            "text/plain": [
              "0.6141304347826086"
            ]
          },
          "metadata": {
            "tags": []
          },
          "execution_count": 60
        }
      ]
    },
    {
      "cell_type": "code",
      "metadata": {
        "id": "7e9MI43Qg5Sa"
      },
      "source": [
        "'''from sklearn.model_selection import cross_val_score\n",
        "accuracies = cross_val_score(estimator = clf, X = train_data_user, y = train_data_user_label, cv = 5)\n",
        "accuracies.mean()\n",
        "accuracies.std()'''"
      ],
      "execution_count": null,
      "outputs": []
    },
    {
      "cell_type": "code",
      "metadata": {
        "id": "ulU-2JaWhlpk",
        "colab": {
          "base_uri": "https://localhost:8080/",
          "height": 54
        },
        "outputId": "e426558c-5570-416e-85b1-d62bebadc2ff"
      },
      "source": [
        "n_estimators = [int(x) for x in np.linspace(start = 200, stop = 2000, num = 10)]\n",
        "\n",
        "max_features = ['auto', 'sqrt']\n",
        "\n",
        "max_depth = [int(x) for x in np.linspace(10, 110, num = 11)]\n",
        "max_depth.append(None)\n",
        "\n",
        "min_samples_split = [2, 5, 10]\n",
        "\n",
        "min_samples_leaf = [1, 2, 4]\n",
        "\n",
        "bootstrap = [True, False]\n",
        "\n",
        "param_grid = {'n_estimators': n_estimators,\n",
        "               'max_features': max_features,\n",
        "               'max_depth': max_depth,\n",
        "               'min_samples_split': min_samples_split,\n",
        "               'min_samples_leaf': min_samples_leaf,\n",
        "               'bootstrap': bootstrap}\n",
        "print(param_grid)"
      ],
      "execution_count": null,
      "outputs": [
        {
          "output_type": "stream",
          "text": [
            "{'n_estimators': [200, 400, 600, 800, 1000, 1200, 1400, 1600, 1800, 2000], 'max_features': ['auto', 'sqrt'], 'max_depth': [10, 20, 30, 40, 50, 60, 70, 80, 90, 100, 110, None], 'min_samples_split': [2, 5, 10], 'min_samples_leaf': [1, 2, 4], 'bootstrap': [True, False]}\n"
          ],
          "name": "stdout"
        }
      ]
    },
    {
      "cell_type": "code",
      "metadata": {
        "id": "4ac6-roPhJNT",
        "colab": {
          "base_uri": "https://localhost:8080/",
          "height": 71
        },
        "outputId": "c557a73e-6f9e-4e7b-fb9f-5d88acacc681"
      },
      "source": [
        "from sklearn.model_selection import GridSearchCV\n",
        "\n",
        "grid_search = GridSearchCV(estimator = clf,\n",
        "                           param_grid = param_grid,\n",
        "                           scoring = 'accuracy',\n",
        "                           cv = 3,\n",
        "                           n_jobs = -1)\n",
        "grid_search = grid_search.fit(train_data_user, yeni_train)\n",
        "best_accuracy = grid_search.best_score_\n",
        "best_parameters = grid_search.best_params_"
      ],
      "execution_count": null,
      "outputs": [
        {
          "output_type": "stream",
          "text": [
            "/usr/local/lib/python3.6/dist-packages/sklearn/model_selection/_split.py:605: Warning: The least populated class in y has only 1 members, which is too few. The minimum number of members in any class cannot be less than n_splits=3.\n",
            "  % (min_groups, self.n_splits)), Warning)\n"
          ],
          "name": "stderr"
        }
      ]
    }
  ]
}